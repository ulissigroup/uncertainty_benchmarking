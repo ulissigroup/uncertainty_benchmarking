{
 "cells": [
  {
   "cell_type": "markdown",
   "metadata": {},
   "source": [
    "# GPyTorch Regression Tutorial\n",
    "\n",
    "## Introduction\n",
    "\n",
    "In this notebook, we demonstrate many of the design features of GPyTorch using the simplest example, training an RBF kernel Gaussian process on a simple function. We'll be modeling the function\n",
    "\n",
    "\\begin{align*}\n",
    "  y &= \\sin(2\\pi x) + \\epsilon \\\\\n",
    "  \\epsilon &\\sim \\mathcal{N}(0, 0.2)\n",
    "\\end{align*}\n",
    "\n",
    "with 11 training examples, and testing on 51 test examples.\n",
    "\n",
    "**Note:** this notebook is not necessarily intended to teach the mathematical background of Gaussian processes, but rather how to train a simple one and make predictions in GPyTorch. For a mathematical treatment, Chapter 2 of Gaussian Processes for Machine Learning provides a very thorough introduction to GP regression (this entire text is highly recommended): http://www.gaussianprocess.org/gpml/chapters/RW2.pdf"
   ]
  },
  {
   "cell_type": "code",
   "execution_count": 1,
   "metadata": {},
   "outputs": [],
   "source": [
    "import math\n",
    "import torch\n",
    "import gpytorch\n",
    "from matplotlib import pyplot as plt\n",
    "\n",
    "%matplotlib inline\n",
    "%load_ext autoreload\n",
    "%autoreload 2"
   ]
  },
  {
   "cell_type": "markdown",
   "metadata": {},
   "source": [
    "### Set up training data\n",
    "\n",
    "In the next cell, we set up the training data for this example. We'll be using 11 regularly spaced points on [0,1] which we evaluate the function on and add Gaussian noise to get the training labels."
   ]
  },
  {
   "cell_type": "code",
   "execution_count": 2,
   "metadata": {},
   "outputs": [],
   "source": [
    "# Training data is 11 points in [0,1] inclusive regularly spaced\n",
    "train_x = torch.linspace(0, 1, 100)\n",
    "# True function is sin(2*pi*x) with Gaussian noise\n",
    "train_y = torch.sin(train_x * (2 * math.pi)) + torch.randn(train_x.size()) * 0.2"
   ]
  },
  {
   "cell_type": "markdown",
   "metadata": {},
   "source": [
    "## Setting up the model\n",
    "\n",
    "The next cell demonstrates the most critical features of a user-defined Gaussian process model in GPyTorch. Building a GP model in GPyTorch is different in a number of ways.\n",
    "\n",
    "First in contrast to many existing GP packages, we do not provide full GP models for the user. Rather, we provide *the tools necessary to quickly construct one*. This is because we believe, analogous to building a neural network in standard PyTorch, it is important to have the flexibility to include whatever components are necessary. As can be seen in more complicated examples, like the [CIFAR10 Deep Kernel Learning](../08_Deep_Kernel_Learning/Deep_Kernel_Learning_DenseNet_CIFAR_Tutorial.ipynb) example which combines deep learning and Gaussian processes, this allows the user great flexibility in designing custom models.\n",
    "\n",
    "For most GP regression models, you will need to construct the following GPyTorch objects:\n",
    "\n",
    "1. A **GP Model** (`gpytorch.models.ExactGP`) -  This handles most of the inference.\n",
    "1. A **Likelihood** (`gpytorch.likelihoods.GaussianLikelihood`) - This is the most common likelihood used for GP regression.\n",
    "1. A **Mean** - This defines the prior mean of the GP.\n",
    "  - If you don't know which mean to use, a `gpytorch.means.ConstantMean()` is a good place to start.\n",
    "1. A **Kernel** - This defines the prior covariance of the GP.\n",
    "  - If you don't know which kernel to use, a `gpytorch.kernels.ScaleKernel(gpytorch.kernels.RBFKernel())` is a good place to start.\n",
    "1. A **MultivariateNormal** Distribution (`gpytorch.distributions.MultivariateNormal`) - This is the object used to represent multivariate normal distributions.\n",
    "  \n",
    "  \n",
    "### The GP Model\n",
    "  \n",
    "The components of a user built (Exact, i.e. non-variational) GP model in GPyTorch are, broadly speaking:\n",
    "\n",
    "1. An `__init__` method that takes the training data and a likelihood, and constructs whatever objects are necessary for the model's `forward` method. This will most commonly include things like a mean module and a kernel module.\n",
    "\n",
    "2. A `forward` method that takes in some $n \\times d$ data `x` and returns a `MultivariateNormal` with the *prior* mean and covariance evaluated at `x`. In other words, we return the vector $\\mu(x)$ and the $n \\times n$ matrix $K_{xx}$ representing the prior mean and covariance matrix of the GP. \n",
    "\n",
    "This specification leaves a large amount of flexibility when defining a model. For example, to compose two kernels via addition, you can either add the kernel modules directly:\n",
    "\n",
    "```python\n",
    "self.covar_module = ScaleKernel(RBFKernel() + WhiteNoiseKernel())\n",
    "```\n",
    "\n",
    "Or you can add the outputs of the kernel in the forward method:\n",
    "\n",
    "```python\n",
    "covar_x = self.rbf_kernel_module(x) + self.white_noise_module(x)\n",
    "```"
   ]
  },
  {
   "cell_type": "code",
   "execution_count": 3,
   "metadata": {},
   "outputs": [],
   "source": [
    "# We will use the simplest form of GP model, exact inference\n",
    "class ExactGPModel(gpytorch.models.ExactGP):\n",
    "    def __init__(self, train_x, train_y, likelihood):\n",
    "        super(ExactGPModel, self).__init__(train_x, train_y, likelihood)\n",
    "        self.mean_module = gpytorch.means.ConstantMean()\n",
    "        self.covar_module = gpytorch.kernels.ScaleKernel(gpytorch.kernels.RBFKernel())\n",
    "    \n",
    "    def forward(self, x):\n",
    "        mean_x = self.mean_module(x)\n",
    "        covar_x = self.covar_module(x)\n",
    "        return gpytorch.distributions.MultivariateNormal(mean_x, covar_x)\n",
    "\n",
    "# initialize likelihood and model\n",
    "likelihood = gpytorch.likelihoods.GaussianLikelihood()\n",
    "model = ExactGPModel(train_x, train_y, likelihood)"
   ]
  },
  {
   "cell_type": "markdown",
   "metadata": {},
   "source": [
    "### Model modes\n",
    "\n",
    "Like most PyTorch modules, the `ExactGP` has a `.train()` and `.eval()` mode.\n",
    "- `.train()` mode is for optimizing model hyperameters.\n",
    "- `.eval()` mode is for computing predictions through the model posterior."
   ]
  },
  {
   "cell_type": "markdown",
   "metadata": {},
   "source": [
    "## Training the model\n",
    "\n",
    "In the next cell, we handle using Type-II MLE to train the hyperparameters of the Gaussian process.\n",
    "\n",
    "The most obvious difference here compared to many other GP implementations is that, as in standard PyTorch, the core training loop is written by the user. In GPyTorch, we make use of the standard PyTorch optimizers as from `torch.optim`, and all trainable parameters of the model should be of type `torch.nn.Parameter`. Because GP models directly extend `torch.nn.Module`, calls to methods like `model.parameters()` or `model.named_parameters()` function as you might expect coming from PyTorch.\n",
    "\n",
    "In most cases, the boilerplate code below will work well. It has the same basic components as the standard PyTorch training loop:\n",
    "\n",
    "1. Zero all parameter gradients\n",
    "2. Call the model and compute the loss\n",
    "3. Call backward on the loss to fill in gradients\n",
    "4. Take a step on the optimizer\n",
    "\n",
    "However, defining custom training loops allows for greater flexibility. For example, it is easy to save the parameters at each step of training, or use different learning rates for different parameters (which may be useful in deep kernel learning for example)."
   ]
  },
  {
   "cell_type": "code",
   "execution_count": 4,
   "metadata": {},
   "outputs": [
    {
     "name": "stdout",
     "output_type": "stream",
     "text": [
      "Iter 1/50 - Loss: 0.939   lengthscale: 0.693   noise: 0.693\n",
      "Iter 2/50 - Loss: 0.908   lengthscale: 0.644   noise: 0.644\n",
      "Iter 3/50 - Loss: 0.874   lengthscale: 0.598   noise: 0.598\n",
      "Iter 4/50 - Loss: 0.836   lengthscale: 0.555   noise: 0.554\n",
      "Iter 5/50 - Loss: 0.794   lengthscale: 0.514   noise: 0.513\n",
      "Iter 6/50 - Loss: 0.747   lengthscale: 0.475   noise: 0.474\n",
      "Iter 7/50 - Loss: 0.697   lengthscale: 0.439   noise: 0.437\n",
      "Iter 8/50 - Loss: 0.646   lengthscale: 0.404   noise: 0.402\n",
      "Iter 9/50 - Loss: 0.597   lengthscale: 0.372   noise: 0.369\n",
      "Iter 10/50 - Loss: 0.553   lengthscale: 0.342   noise: 0.339\n",
      "Iter 11/50 - Loss: 0.513   lengthscale: 0.315   noise: 0.310\n",
      "Iter 12/50 - Loss: 0.477   lengthscale: 0.292   noise: 0.284\n",
      "Iter 13/50 - Loss: 0.442   lengthscale: 0.272   noise: 0.259\n",
      "Iter 14/50 - Loss: 0.409   lengthscale: 0.256   noise: 0.237\n",
      "Iter 15/50 - Loss: 0.377   lengthscale: 0.243   noise: 0.216\n",
      "Iter 16/50 - Loss: 0.345   lengthscale: 0.234   noise: 0.197\n",
      "Iter 17/50 - Loss: 0.314   lengthscale: 0.226   noise: 0.179\n",
      "Iter 18/50 - Loss: 0.283   lengthscale: 0.221   noise: 0.163\n",
      "Iter 19/50 - Loss: 0.252   lengthscale: 0.218   noise: 0.148\n",
      "Iter 20/50 - Loss: 0.223   lengthscale: 0.217   noise: 0.135\n",
      "Iter 21/50 - Loss: 0.194   lengthscale: 0.217   noise: 0.122\n",
      "Iter 22/50 - Loss: 0.166   lengthscale: 0.219   noise: 0.111\n",
      "Iter 23/50 - Loss: 0.139   lengthscale: 0.222   noise: 0.101\n",
      "Iter 24/50 - Loss: 0.115   lengthscale: 0.227   noise: 0.092\n",
      "Iter 25/50 - Loss: 0.092   lengthscale: 0.232   noise: 0.084\n",
      "Iter 26/50 - Loss: 0.072   lengthscale: 0.239   noise: 0.077\n",
      "Iter 27/50 - Loss: 0.054   lengthscale: 0.247   noise: 0.071\n",
      "Iter 28/50 - Loss: 0.039   lengthscale: 0.255   noise: 0.065\n",
      "Iter 29/50 - Loss: 0.027   lengthscale: 0.264   noise: 0.060\n",
      "Iter 30/50 - Loss: 0.018   lengthscale: 0.274   noise: 0.055\n",
      "Iter 31/50 - Loss: 0.012   lengthscale: 0.284   noise: 0.051\n",
      "Iter 32/50 - Loss: 0.009   lengthscale: 0.294   noise: 0.048\n",
      "Iter 33/50 - Loss: 0.009   lengthscale: 0.303   noise: 0.045\n",
      "Iter 34/50 - Loss: 0.011   lengthscale: 0.311   noise: 0.042\n",
      "Iter 35/50 - Loss: 0.015   lengthscale: 0.317   noise: 0.040\n",
      "Iter 36/50 - Loss: 0.020   lengthscale: 0.321   noise: 0.038\n",
      "Iter 37/50 - Loss: 0.024   lengthscale: 0.322   noise: 0.037\n",
      "Iter 38/50 - Loss: 0.027   lengthscale: 0.321   noise: 0.036\n",
      "Iter 39/50 - Loss: 0.029   lengthscale: 0.317   noise: 0.035\n",
      "Iter 40/50 - Loss: 0.030   lengthscale: 0.313   noise: 0.035\n",
      "Iter 41/50 - Loss: 0.031   lengthscale: 0.307   noise: 0.034\n",
      "Iter 42/50 - Loss: 0.030   lengthscale: 0.301   noise: 0.034\n",
      "Iter 43/50 - Loss: 0.029   lengthscale: 0.295   noise: 0.035\n",
      "Iter 44/50 - Loss: 0.027   lengthscale: 0.290   noise: 0.035\n",
      "Iter 45/50 - Loss: 0.025   lengthscale: 0.285   noise: 0.036\n",
      "Iter 46/50 - Loss: 0.023   lengthscale: 0.282   noise: 0.036\n",
      "Iter 47/50 - Loss: 0.020   lengthscale: 0.279   noise: 0.037\n",
      "Iter 48/50 - Loss: 0.018   lengthscale: 0.278   noise: 0.038\n",
      "Iter 49/50 - Loss: 0.015   lengthscale: 0.277   noise: 0.039\n",
      "Iter 50/50 - Loss: 0.013   lengthscale: 0.278   noise: 0.040\n"
     ]
    }
   ],
   "source": [
    "# Find optimal model hyperparameters\n",
    "model.train()\n",
    "likelihood.train()\n",
    "\n",
    "# Use the adam optimizer\n",
    "optimizer = torch.optim.Adam([\n",
    "    {'params': model.parameters()},  # Includes GaussianLikelihood parameters\n",
    "], lr=0.1)\n",
    "\n",
    "# \"Loss\" for GPs - the marginal log likelihood\n",
    "mll = gpytorch.mlls.ExactMarginalLogLikelihood(likelihood, model)\n",
    "\n",
    "training_iter = 50\n",
    "for i in range(training_iter):\n",
    "    # Zero gradients from previous iteration\n",
    "    optimizer.zero_grad()\n",
    "    # Output from model\n",
    "    output = model(train_x)\n",
    "    # Calc loss and backprop gradients\n",
    "    loss = -mll(output, train_y)\n",
    "    loss.backward()\n",
    "    print('Iter %d/%d - Loss: %.3f   lengthscale: %.3f   noise: %.3f' % (\n",
    "        i + 1, training_iter, loss.item(),\n",
    "        model.covar_module.base_kernel.lengthscale.item(),\n",
    "        model.likelihood.noise.item()\n",
    "    ))\n",
    "    optimizer.step()"
   ]
  },
  {
   "cell_type": "markdown",
   "metadata": {},
   "source": [
    "## Make predictions with the model\n",
    "\n",
    "In the next cell, we make predictions with the model. To do this, we simply put the model and likelihood in eval mode, and call both modules on the test data.\n",
    "\n",
    "Just as a user defined GP model returns a `MultivariateNormal` containing the prior mean and covariance from forward, a trained GP model in eval mode returns a `MultivariateNormal` containing the posterior mean and covariance. Thus, getting the predictive mean and variance, and then sampling functions from the GP at the given test points could be accomplished with calls like:\n",
    "\n",
    "```python\n",
    "f_preds = model(test_x)\n",
    "y_preds = likelihood(model(test_x))\n",
    "\n",
    "f_mean = f_preds.mean\n",
    "f_var = f_preds.variance\n",
    "f_covar = f_preds.covariance_matrix\n",
    "f_samples = f_preds.sample(sample_shape=torch.Size(1000,))\n",
    "```\n",
    "\n",
    "The `gpytorch.settings.fast_pred_var` context is not needed, but here we are giving a preview of using one of our cool features, getting faster predictive distributions using [LOVE](https://arxiv.org/abs/1803.06058)."
   ]
  },
  {
   "cell_type": "code",
   "execution_count": 5,
   "metadata": {},
   "outputs": [],
   "source": [
    "# Get into evaluation (predictive posterior) mode\n",
    "model.eval()\n",
    "likelihood.eval()\n",
    "\n",
    "# Test points are regularly spaced along [0,1]\n",
    "# Make predictions by feeding model through likelihood\n",
    "with torch.no_grad(), gpytorch.settings.fast_pred_var():\n",
    "    test_x = torch.linspace(0, 1, 51)\n",
    "    observed_pred = likelihood(model(test_x))"
   ]
  },
  {
   "cell_type": "markdown",
   "metadata": {},
   "source": [
    "## Plot the model fit\n",
    "\n",
    "In the next cell, we plot the mean and confidence region of the Gaussian process model. The `confidence_region` method is a helper method that returns 2 standard deviations above and below the mean."
   ]
  },
  {
   "cell_type": "code",
   "execution_count": 6,
   "metadata": {},
   "outputs": [
    {
     "data": {
      "image/png": "[encoded data removed]",
      "text/plain": [
       "<Figure size 288x216 with 1 Axes>"
      ]
     },
     "metadata": {},
     "output_type": "display_data"
    }
   ],
   "source": [
    "with torch.no_grad():\n",
    "    # Initialize plot\n",
    "    f, ax = plt.subplots(1, 1, figsize=(4, 3))\n",
    "\n",
    "    # Get upper and lower confidence bounds\n",
    "    lower, upper = observed_pred.confidence_region()\n",
    "    # Plot training data as black stars\n",
    "    #ax.plot(train_x.numpy(), train_y.numpy(), 'k*')\n",
    "    # Plot predictive means as blue line\n",
    "    ax.plot(test_x.numpy(), observed_pred.mean.numpy(), 'b')\n",
    "    # Shade between the lower and upper confidence bounds\n",
    "    ax.fill_between(test_x.numpy(), lower.numpy(), upper.numpy(), alpha=0.5)\n",
    "    ax.set_ylim([-2, 2])\n",
    "    #ax.legend(['Observed Data', 'Mean', 'Confidence'])\n",
    "    \n",
    "    ax.set_xticks([])\n",
    "    ax.set_yticks([])\n",
    "    ax.set_ylabel('$\\Delta$E')\n",
    "    \n",
    "    plt.savefig('GP.pdf', dpi=300, bbox_inches='tight', transparent=True)"
   ]
  },
  {
   "cell_type": "markdown",
   "metadata": {},
   "source": [
    "Do it all again, but with a zero mean"
   ]
  },
  {
   "cell_type": "code",
   "execution_count": 7,
   "metadata": {},
   "outputs": [
    {
     "name": "stdout",
     "output_type": "stream",
     "text": [
      "Iter 1/50 - Loss: 0.785   lengthscale: 0.693   noise: 0.693\n",
      "Iter 2/50 - Loss: 0.748   lengthscale: 0.744   noise: 0.644\n",
      "Iter 3/50 - Loss: 0.711   lengthscale: 0.798   noise: 0.598\n",
      "Iter 4/50 - Loss: 0.673   lengthscale: 0.854   noise: 0.554\n",
      "Iter 5/50 - Loss: 0.635   lengthscale: 0.911   noise: 0.513\n",
      "Iter 6/50 - Loss: 0.595   lengthscale: 0.971   noise: 0.474\n",
      "Iter 7/50 - Loss: 0.556   lengthscale: 1.032   noise: 0.437\n",
      "Iter 8/50 - Loss: 0.515   lengthscale: 1.094   noise: 0.403\n",
      "Iter 9/50 - Loss: 0.474   lengthscale: 1.157   noise: 0.370\n",
      "Iter 10/50 - Loss: 0.433   lengthscale: 1.221   noise: 0.340\n",
      "Iter 11/50 - Loss: 0.391   lengthscale: 1.286   noise: 0.312\n",
      "Iter 12/50 - Loss: 0.349   lengthscale: 1.351   noise: 0.286\n",
      "Iter 13/50 - Loss: 0.307   lengthscale: 1.417   noise: 0.262\n",
      "Iter 14/50 - Loss: 0.264   lengthscale: 1.483   noise: 0.239\n",
      "Iter 15/50 - Loss: 0.221   lengthscale: 1.548   noise: 0.218\n",
      "Iter 16/50 - Loss: 0.178   lengthscale: 1.614   noise: 0.199\n",
      "Iter 17/50 - Loss: 0.134   lengthscale: 1.679   noise: 0.181\n",
      "Iter 18/50 - Loss: 0.091   lengthscale: 1.744   noise: 0.165\n",
      "Iter 19/50 - Loss: 0.048   lengthscale: 1.808   noise: 0.150\n",
      "Iter 20/50 - Loss: 0.005   lengthscale: 1.872   noise: 0.136\n",
      "Iter 21/50 - Loss: -0.038   lengthscale: 1.935   noise: 0.124\n",
      "Iter 22/50 - Loss: -0.081   lengthscale: 1.997   noise: 0.113\n",
      "Iter 23/50 - Loss: -0.123   lengthscale: 2.059   noise: 0.102\n",
      "Iter 24/50 - Loss: -0.165   lengthscale: 2.120   noise: 0.093\n",
      "Iter 25/50 - Loss: -0.206   lengthscale: 2.179   noise: 0.084\n",
      "Iter 26/50 - Loss: -0.246   lengthscale: 2.238   noise: 0.076\n",
      "Iter 27/50 - Loss: -0.286   lengthscale: 2.295   noise: 0.069\n",
      "Iter 28/50 - Loss: -0.324   lengthscale: 2.352   noise: 0.063\n",
      "Iter 29/50 - Loss: -0.361   lengthscale: 2.407   noise: 0.057\n",
      "Iter 30/50 - Loss: -0.397   lengthscale: 2.461   noise: 0.052\n",
      "Iter 31/50 - Loss: -0.431   lengthscale: 2.514   noise: 0.047\n",
      "Iter 32/50 - Loss: -0.464   lengthscale: 2.566   noise: 0.043\n",
      "Iter 33/50 - Loss: -0.495   lengthscale: 2.617   noise: 0.039\n",
      "Iter 34/50 - Loss: -0.523   lengthscale: 2.666   noise: 0.035\n",
      "Iter 35/50 - Loss: -0.550   lengthscale: 2.714   noise: 0.032\n",
      "Iter 36/50 - Loss: -0.574   lengthscale: 2.761   noise: 0.029\n",
      "Iter 37/50 - Loss: -0.596   lengthscale: 2.807   noise: 0.027\n",
      "Iter 38/50 - Loss: -0.616   lengthscale: 2.851   noise: 0.025\n",
      "Iter 39/50 - Loss: -0.632   lengthscale: 2.893   noise: 0.023\n",
      "Iter 40/50 - Loss: -0.647   lengthscale: 2.934   noise: 0.021\n",
      "Iter 41/50 - Loss: -0.658   lengthscale: 2.974   noise: 0.019\n",
      "Iter 42/50 - Loss: -0.667   lengthscale: 3.012   noise: 0.018\n",
      "Iter 43/50 - Loss: -0.673   lengthscale: 3.049   noise: 0.017\n",
      "Iter 44/50 - Loss: -0.677   lengthscale: 3.084   noise: 0.016\n",
      "Iter 45/50 - Loss: -0.680   lengthscale: 3.118   noise: 0.015\n",
      "Iter 46/50 - Loss: -0.680   lengthscale: 3.150   noise: 0.014\n",
      "Iter 47/50 - Loss: -0.679   lengthscale: 3.180   noise: 0.013\n",
      "Iter 48/50 - Loss: -0.677   lengthscale: 3.209   noise: 0.013\n",
      "Iter 49/50 - Loss: -0.675   lengthscale: 3.235   noise: 0.012\n",
      "Iter 50/50 - Loss: -0.672   lengthscale: 3.261   noise: 0.012\n"
     ]
    }
   ],
   "source": [
    "# Training data is 11 points in [0,1] inclusive regularly spaced\n",
    "train_x = torch.linspace(0, 1, 100)\n",
    "# True function is just noise\n",
    "train_y = torch.sin(0 + torch.randn(train_x.size())) * 0.2\n",
    "\n",
    "# We will use the simplest form of GP model, exact inference\n",
    "class ExactGPModel(gpytorch.models.ExactGP):\n",
    "    def __init__(self, train_x, train_y, likelihood):\n",
    "        super(ExactGPModel, self).__init__(train_x, train_y, likelihood)\n",
    "        self.mean_module = gpytorch.means.ConstantMean()\n",
    "        self.covar_module = gpytorch.kernels.ScaleKernel(gpytorch.kernels.RBFKernel())\n",
    "    \n",
    "    def forward(self, x):\n",
    "        mean_x = self.mean_module(x)\n",
    "        covar_x = self.covar_module(x)\n",
    "        return gpytorch.distributions.MultivariateNormal(mean_x, covar_x)\n",
    "\n",
    "# initialize likelihood and model\n",
    "likelihood = gpytorch.likelihoods.GaussianLikelihood()\n",
    "model = ExactGPModel(train_x, train_y, likelihood)\n",
    "\n",
    "# Find optimal model hyperparameters\n",
    "model.train()\n",
    "likelihood.train()\n",
    "\n",
    "# Use the adam optimizer\n",
    "optimizer = torch.optim.Adam([\n",
    "    {'params': model.parameters()},  # Includes GaussianLikelihood parameters\n",
    "], lr=0.1)\n",
    "\n",
    "# \"Loss\" for GPs - the marginal log likelihood\n",
    "mll = gpytorch.mlls.ExactMarginalLogLikelihood(likelihood, model)\n",
    "\n",
    "training_iter = 50\n",
    "for i in range(training_iter):\n",
    "    # Zero gradients from previous iteration\n",
    "    optimizer.zero_grad()\n",
    "    # Output from model\n",
    "    output = model(train_x)\n",
    "    # Calc loss and backprop gradients\n",
    "    loss = -mll(output, train_y)\n",
    "    loss.backward()\n",
    "    print('Iter %d/%d - Loss: %.3f   lengthscale: %.3f   noise: %.3f' % (\n",
    "        i + 1, training_iter, loss.item(),\n",
    "        model.covar_module.base_kernel.lengthscale.item(),\n",
    "        model.likelihood.noise.item()\n",
    "    ))\n",
    "    optimizer.step()\n",
    "\n",
    "# Get into evaluation (predictive posterior) mode\n",
    "model.eval()\n",
    "likelihood.eval()\n",
    "\n",
    "# Test points are regularly spaced along [0,1]\n",
    "# Make predictions by feeding model through likelihood\n",
    "with torch.no_grad(), gpytorch.settings.fast_pred_var():\n",
    "    test_x = torch.linspace(0, 1, 51)\n",
    "    observed_pred = likelihood(model(test_x))"
   ]
  },
  {
   "cell_type": "code",
   "execution_count": 8,
   "metadata": {},
   "outputs": [
    {
     "data": {
      "image/png": "[encoded data removed]",
      "text/plain": [
       "<Figure size 288x216 with 1 Axes>"
      ]
     },
     "metadata": {},
     "output_type": "display_data"
    }
   ],
   "source": [
    "with torch.no_grad():\n",
    "    # Initialize plot\n",
    "    f, ax = plt.subplots(1, 1, figsize=(4, 3))\n",
    "\n",
    "    # Get upper and lower confidence bounds\n",
    "    lower, upper = observed_pred.confidence_region()\n",
    "    # Plot training data as black stars\n",
    "    #ax.plot(train_x.numpy(), train_y.numpy(), 'k*')\n",
    "    # Plot predictive means as blue line\n",
    "    ax.plot(test_x.numpy(), observed_pred.mean.numpy(), 'b')\n",
    "    # Shade between the lower and upper confidence bounds\n",
    "    ax.fill_between(test_x.numpy(), lower.numpy(), upper.numpy(), alpha=0.5)\n",
    "    ax.set_ylim([-1, 1])\n",
    "    #ax.legend(['Observed Data', 'Mean', 'Confidence'])\n",
    "    \n",
    "    ax.set_xticks([])\n",
    "    ax.set_yticks([])\n",
    "    ax.set_ylabel('$\\epsilon_{\\Delta E}$')\n",
    "    \n",
    "    plt.savefig('GP_flat.pdf', dpi=300, bbox_inches='tight', transparent=True)"
   ]
  },
  {
   "cell_type": "code",
   "execution_count": null,
   "metadata": {},
   "outputs": [],
   "source": []
  }
 ],
 "metadata": {
  "anaconda-cloud": {},
  "kernelspec": {
   "display_name": "ktran",
   "language": "python",
   "name": "ktran"
  },
  "language_info": {
   "codemirror_mode": {
    "name": "ipython",
    "version": 3
   },
   "file_extension": ".py",
   "mimetype": "text/x-python",
   "name": "python",
   "nbconvert_exporter": "python",
   "pygments_lexer": "ipython3",
   "version": "3.6.7"
  }
 },
 "nbformat": 4,
 "nbformat_minor": 4
}
