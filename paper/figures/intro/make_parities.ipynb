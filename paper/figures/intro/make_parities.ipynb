{
 "cells": [
  {
   "cell_type": "code",
   "execution_count": 125,
   "metadata": {
    "ExecuteTime": {
     "end_time": "2019-12-13T19:15:31.962935Z",
     "start_time": "2019-12-13T19:15:30.740234Z"
    }
   },
   "outputs": [],
   "source": [
    "import random\n",
    "import numpy as np\n",
    "import matplotlib.pyplot as plt\n",
    "\n",
    "%matplotlib inline"
   ]
  },
  {
   "cell_type": "markdown",
   "metadata": {},
   "source": [
    "# Accuracy"
   ]
  },
  {
   "cell_type": "markdown",
   "metadata": {},
   "source": [
    "## Accurate"
   ]
  },
  {
   "cell_type": "code",
   "execution_count": 201,
   "metadata": {
    "ExecuteTime": {
     "end_time": "2019-12-13T19:32:47.319722Z",
     "start_time": "2019-12-13T19:32:47.194616Z"
    }
   },
   "outputs": [
    {
     "data": {
      "image/png": "[encoded data removed]",
      "text/plain": [
       "<Figure size 216x216 with 1 Axes>"
      ]
     },
     "metadata": {},
     "output_type": "display_data"
    }
   ],
   "source": [
    "# Labeling\n",
    "name = 'accurate'\n",
    "\n",
    "# Fake data\n",
    "n_pts = 10\n",
    "x_jitter = 0.5\n",
    "X = [x + random.uniform(-x_jitter, x_jitter) for x in range(n_pts)]\n",
    "y_err = 0.5\n",
    "Y = X + np.array([random.gauss(mu=0, sigma=y_err) for _ in X])\n",
    "\n",
    "# Fake uncertainties\n",
    "sigma_scale = 2\n",
    "uncertainty = [sigma_scale*(y-x) for x, y in zip(X, Y)]\n",
    "\n",
    "# Initialize plot\n",
    "size = 3\n",
    "fig = plt.figure(figsize=(size, size))\n",
    "ax = fig.gca()\n",
    "\n",
    "# Make points\n",
    "plt.scatter(X, Y)\n",
    "_ = ax.set_xlim([-1, len(X)+1])\n",
    "_ = ax.set_ylim([-1, len(X)+1])\n",
    "_ = ax.set_xticks([])\n",
    "_ = ax.set_yticks([])\n",
    "\n",
    "# Make parity\n",
    "parity_pts = list(ax.get_xlim())\n",
    "_ = plt.plot(parity_pts, parity_pts, '--', color='orange')\n",
    "\n",
    "# Save it\n",
    "fig.savefig(name + '.pdf', bbox_inches='tight', transparent=True)"
   ]
  },
  {
   "cell_type": "markdown",
   "metadata": {},
   "source": [
    "## Inaccurate"
   ]
  },
  {
   "cell_type": "code",
   "execution_count": 207,
   "metadata": {
    "ExecuteTime": {
     "end_time": "2019-12-13T19:32:58.456601Z",
     "start_time": "2019-12-13T19:32:58.327842Z"
    }
   },
   "outputs": [
    {
     "data": {
      "image/png": "[encoded data removed]",
      "text/plain": [
       "<Figure size 216x216 with 1 Axes>"
      ]
     },
     "metadata": {},
     "output_type": "display_data"
    }
   ],
   "source": [
    "# Labeling\n",
    "name = 'inaccurate'\n",
    "\n",
    "# Fake data\n",
    "n_pts = 10\n",
    "x_jitter = 0.5\n",
    "X = [x + random.uniform(-x_jitter, x_jitter) for x in range(n_pts)]\n",
    "y_err = 3\n",
    "Y = X + np.array([random.gauss(mu=0, sigma=y_err) for _ in X])\n",
    "\n",
    "# Fake uncertainties\n",
    "sigma_scale = 2\n",
    "uncertainty = [sigma_scale*(y-x) for x, y in zip(X, Y)]\n",
    "\n",
    "# Initialize plot\n",
    "size = 3\n",
    "fig = plt.figure(figsize=(size, size))\n",
    "ax = fig.gca()\n",
    "\n",
    "# Make points\n",
    "plt.scatter(X, Y)\n",
    "_ = ax.set_xlim([-1, len(X)+1])\n",
    "_ = ax.set_ylim([-1, len(X)+1])\n",
    "_ = ax.set_xticks([])\n",
    "_ = ax.set_yticks([])\n",
    "\n",
    "# Make parity\n",
    "parity_pts = list(ax.get_xlim())\n",
    "_ = plt.plot(parity_pts, parity_pts, '--', color='orange')\n",
    "\n",
    "# Save it\n",
    "fig.savefig(name + '.pdf', bbox_inches='tight', transparent=True)"
   ]
  },
  {
   "cell_type": "markdown",
   "metadata": {},
   "source": [
    "# Calibration"
   ]
  },
  {
   "cell_type": "markdown",
   "metadata": {},
   "source": [
    "## Calibrated"
   ]
  },
  {
   "cell_type": "code",
   "execution_count": 209,
   "metadata": {
    "ExecuteTime": {
     "end_time": "2019-12-13T19:33:07.527041Z",
     "start_time": "2019-12-13T19:33:07.394862Z"
    }
   },
   "outputs": [
    {
     "data": {
      "image/png": "[encoded data removed]",
      "text/plain": [
       "<Figure size 216x216 with 1 Axes>"
      ]
     },
     "metadata": {},
     "output_type": "display_data"
    }
   ],
   "source": [
    "# Labeling\n",
    "name = 'calibrated'\n",
    "\n",
    "# Fake data\n",
    "n_pts = 10\n",
    "x_jitter = 0.5\n",
    "X = [x + random.uniform(-x_jitter, x_jitter) for x in range(n_pts)]\n",
    "y_err = 0.8\n",
    "Y = X + np.array([random.gauss(mu=0, sigma=y_err) for _ in X])\n",
    "\n",
    "# Fake uncertainties\n",
    "sigma_scale = 1.5\n",
    "uncertainty = [sigma_scale*(y-x) for x, y in zip(X, Y)]\n",
    "\n",
    "# Initialize plot\n",
    "size = 3\n",
    "fig = plt.figure(figsize=(size, size))\n",
    "ax = fig.gca()\n",
    "\n",
    "# Make points\n",
    "plt.errorbar(X, Y, yerr=uncertainty, fmt='o')\n",
    "_ = ax.set_xlim([-1, len(X)+1])\n",
    "_ = ax.set_ylim([-1, len(X)+1])\n",
    "_ = ax.set_xticks([])\n",
    "_ = ax.set_yticks([])\n",
    "\n",
    "# Make parity\n",
    "parity_pts = list(ax.get_xlim())\n",
    "_ = plt.plot(parity_pts, parity_pts, '--', color='orange')\n",
    "\n",
    "# Save it\n",
    "fig.savefig(name + '.pdf', bbox_inches='tight', transparent=True)"
   ]
  },
  {
   "cell_type": "markdown",
   "metadata": {},
   "source": [
    "## Uncalibrated"
   ]
  },
  {
   "cell_type": "code",
   "execution_count": 212,
   "metadata": {
    "ExecuteTime": {
     "end_time": "2019-12-13T19:33:17.625340Z",
     "start_time": "2019-12-13T19:33:17.490264Z"
    }
   },
   "outputs": [
    {
     "data": {
      "image/png": "[encoded data removed]",
      "text/plain": [
       "<Figure size 216x216 with 1 Axes>"
      ]
     },
     "metadata": {},
     "output_type": "display_data"
    }
   ],
   "source": [
    "# Labeling\n",
    "name = 'uncalibrated'\n",
    "\n",
    "# Fake data\n",
    "n_pts = 10\n",
    "x_jitter = 0.5\n",
    "X = [x + random.uniform(-x_jitter, x_jitter) for x in range(n_pts)]\n",
    "y_err = 0.8\n",
    "Y = X + np.array([random.gauss(mu=0, sigma=y_err) for _ in X])\n",
    "\n",
    "# Fake uncertainties\n",
    "sigma_scale = 0.5\n",
    "uncertainty = [sigma_scale*(y-x) for x, y in zip(X, Y)]\n",
    "\n",
    "# Initialize plot\n",
    "size = 3\n",
    "fig = plt.figure(figsize=(size, size))\n",
    "ax = fig.gca()\n",
    "\n",
    "# Make points\n",
    "plt.errorbar(X, Y, yerr=uncertainty, fmt='o')\n",
    "_ = ax.set_xlim([-1, len(X)+1])\n",
    "_ = ax.set_ylim([-1, len(X)+1])\n",
    "_ = ax.set_xticks([])\n",
    "_ = ax.set_yticks([])\n",
    "\n",
    "# Make parity\n",
    "parity_pts = list(ax.get_xlim())\n",
    "_ = plt.plot(parity_pts, parity_pts, '--', color='orange')\n",
    "\n",
    "# Save it\n",
    "fig.savefig(name + '.pdf', bbox_inches='tight', transparent=True)"
   ]
  },
  {
   "cell_type": "markdown",
   "metadata": {},
   "source": [
    "# Sharpness"
   ]
  },
  {
   "cell_type": "markdown",
   "metadata": {},
   "source": [
    "## Sharp"
   ]
  },
  {
   "cell_type": "code",
   "execution_count": 214,
   "metadata": {
    "ExecuteTime": {
     "end_time": "2019-12-13T19:33:26.308318Z",
     "start_time": "2019-12-13T19:33:26.177405Z"
    }
   },
   "outputs": [
    {
     "data": {
      "image/png": "[encoded data removed]",
      "text/plain": [
       "<Figure size 216x216 with 1 Axes>"
      ]
     },
     "metadata": {},
     "output_type": "display_data"
    }
   ],
   "source": [
    "# Labeling\n",
    "name = 'sharp'\n",
    "\n",
    "# Fake data\n",
    "n_pts = 10\n",
    "x_jitter = 0.5\n",
    "X = [x + random.uniform(-x_jitter, x_jitter) for x in range(n_pts)]\n",
    "y_err = 0.5\n",
    "Y = X + np.array([random.gauss(mu=0, sigma=y_err) for _ in X])\n",
    "\n",
    "# Fake uncertainties\n",
    "sigma_scale = 2\n",
    "uncertainty = [sigma_scale*(y-x) for x, y in zip(X, Y)]\n",
    "\n",
    "# Initialize plot\n",
    "size = 3\n",
    "fig = plt.figure(figsize=(size, size))\n",
    "ax = fig.gca()\n",
    "\n",
    "# Make points\n",
    "plt.errorbar(X, Y, yerr=uncertainty, fmt='o')\n",
    "_ = ax.set_xlim([-1, len(X)+1])\n",
    "_ = ax.set_ylim([-1, len(X)+1])\n",
    "_ = ax.set_xticks([])\n",
    "_ = ax.set_yticks([])\n",
    "\n",
    "# Make parity\n",
    "parity_pts = list(ax.get_xlim())\n",
    "_ = plt.plot(parity_pts, parity_pts, '--', color='orange')\n",
    "\n",
    "# Save it\n",
    "fig.savefig(name + '.pdf', bbox_inches='tight', transparent=True)"
   ]
  },
  {
   "cell_type": "markdown",
   "metadata": {},
   "source": [
    "## Dull"
   ]
  },
  {
   "cell_type": "code",
   "execution_count": 215,
   "metadata": {
    "ExecuteTime": {
     "end_time": "2019-12-13T19:33:32.144954Z",
     "start_time": "2019-12-13T19:33:32.010319Z"
    }
   },
   "outputs": [
    {
     "data": {
      "image/png": "[encoded data removed]",
      "text/plain": [
       "<Figure size 216x216 with 1 Axes>"
      ]
     },
     "metadata": {},
     "output_type": "display_data"
    }
   ],
   "source": [
    "# Labeling\n",
    "name = 'dull'\n",
    "\n",
    "# Fake data\n",
    "n_pts = 10\n",
    "x_jitter = 0.5\n",
    "X = [x + random.uniform(-x_jitter, x_jitter) for x in range(n_pts)]\n",
    "y_err = 0.5\n",
    "Y = X + np.array([random.gauss(mu=0, sigma=y_err) for _ in X])\n",
    "\n",
    "# Fake uncertainties\n",
    "sigma_scale = 4\n",
    "uncertainty = [4+sigma_scale*(y-x) for x, y in zip(X, Y)]\n",
    "\n",
    "# Initialize plot\n",
    "size = 3\n",
    "fig = plt.figure(figsize=(size, size))\n",
    "ax = fig.gca()\n",
    "\n",
    "# Make points\n",
    "plt.errorbar(X, Y, yerr=uncertainty, fmt='o')\n",
    "_ = ax.set_xlim([-1, len(X)+1])\n",
    "_ = ax.set_ylim([-1, len(X)+1])\n",
    "_ = ax.set_xticks([])\n",
    "_ = ax.set_yticks([])\n",
    "\n",
    "# Make parity\n",
    "parity_pts = list(ax.get_xlim())\n",
    "_ = plt.plot(parity_pts, parity_pts, '--', color='orange')\n",
    "\n",
    "# Save it\n",
    "fig.savefig(name + '.pdf', bbox_inches='tight', transparent=True)"
   ]
  },
  {
   "cell_type": "code",
   "execution_count": null,
   "metadata": {},
   "outputs": [],
   "source": []
  }
 ],
 "metadata": {
  "kernelspec": {
   "display_name": "Python 3",
   "language": "python",
   "name": "python3"
  },
  "language_info": {
   "codemirror_mode": {
    "name": "ipython",
    "version": 3
   },
   "file_extension": ".py",
   "mimetype": "text/x-python",
   "name": "python",
   "nbconvert_exporter": "python",
   "pygments_lexer": "ipython3",
   "version": "3.6.8"
  }
 },
 "nbformat": 4,
 "nbformat_minor": 2
}
