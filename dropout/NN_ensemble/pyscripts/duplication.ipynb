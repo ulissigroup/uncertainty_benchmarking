{
 "cells": [
  {
   "cell_type": "code",
   "execution_count": 1,
   "metadata": {},
   "outputs": [],
   "source": [
    "dropouts = [\"00\",\"05\",\"10\",\"15\",\"25\",\"30\"]\n",
    "\n",
    "with open(\"d20_assess_ensemble.py\", \"r\") as fin:\n",
    "    for d in dropouts:\n",
    "        with open(\"d%s_assess_ensemble.py\" % d, \"w\") as fout:\n",
    "            fout.truncate()\n",
    "            s = fin.read()\n",
    "            s = s.replace(\"d20\", \"d%s\" % d)\n",
    "            s = s.replace(\"dropoutmodel20\", \"dropoutmodel%s\" % d)\n",
    "            fout.write(s)\n",
    "        fin.seek(0)"
   ]
  },
  {
   "cell_type": "code",
   "execution_count": null,
   "metadata": {},
   "outputs": [],
   "source": []
  },
  {
   "cell_type": "code",
   "execution_count": null,
   "metadata": {},
   "outputs": [],
   "source": []
  }
 ],
 "metadata": {
  "kernelspec": {
   "display_name": "Python 3",
   "language": "python",
   "name": "python3"
  },
  "language_info": {
   "codemirror_mode": {
    "name": "ipython",
    "version": 3
   },
   "file_extension": ".py",
   "mimetype": "text/x-python",
   "name": "python",
   "nbconvert_exporter": "python",
   "pygments_lexer": "ipython3",
   "version": "3.7.3"
  }
 },
 "nbformat": 4,
 "nbformat_minor": 4
}
