{
 "cells": [
  {
   "cell_type": "code",
   "execution_count": 5,
   "metadata": {},
   "outputs": [],
   "source": [
    "import pickle, sys\n",
    "import numpy as np\n",
    "import pandas as pd\n",
    "import matplotlib.pyplot as plt\n",
    "import seaborn as sns\n",
    "from sklearn.metrics import mean_absolute_error, mean_squared_error, r2_score\n",
    "from scipy import stats, integrate\n",
    "from tqdm import tqdm_notebook\n",
    "\n",
    "dropout_list = [\"00\", \"05\", \"10\", \"15\", \"20\", \"25\", \"30\"]"
   ]
  },
  {
   "cell_type": "code",
   "execution_count": 6,
   "metadata": {},
   "outputs": [],
   "source": [
    "def calculate_density(percentile, standard_errors, residuals):\n",
    "    num_within_quantile = 0\n",
    "    for se, resid in zip(standard_errors, residuals):\n",
    "        norm = stats.norm(loc=0, scale=se)\n",
    "        lower_bound = norm.ppf(0.5-percentile/2)\n",
    "        upper_bound = norm.ppf(0.5+percentile/2)\n",
    "        if lower_bound <= resid <= upper_bound:\n",
    "            num_within_quantile += 1\n",
    "    density = num_within_quantile / len(residuals)\n",
    "    return density\n",
    "\n",
    "predicted_pi = np.linspace(0, 1, 100)"
   ]
  },
  {
   "cell_type": "markdown",
   "metadata": {},
   "source": [
    "## Opening Pickle Files"
   ]
  },
  {
   "cell_type": "code",
   "execution_count": 16,
   "metadata": {},
   "outputs": [],
   "source": [
    "def openPickleOld(dropout, version=103119, model='ensemble'):\n",
    "    if model == 'ensemble':\n",
    "        with open('CGCNN_ensemble/%s/assess_ensemble_plots_d%s.pkl' % (version, dropout), \n",
    "                  'rb') as file:\n",
    "            datapack = pickle.load(file)\n",
    "            \n",
    "        predy = datapack[0]\n",
    "        predx = datapack[1]\n",
    "\n",
    "    elif model == 'standalone':\n",
    "        with open('CGCNN/single_cgcnn_d%s.pkl' % dropout, 'rb') as file:\n",
    "            datapack = pickle.load(file)\n",
    "\n",
    "        predy = datapack[0].T\n",
    "        predx = datapack[1]\n",
    "\n",
    "    ymean = predy.mean(axis=1)\n",
    "    res = ymean - predx.reshape(-1)\n",
    "    std = predy.std(axis=1)\n",
    "\n",
    "    # Calculate the error metrics\n",
    "    mae  = mean_absolute_error(predx, ymean)\n",
    "    rmse = np.sqrt(mean_squared_error(predx, ymean))\n",
    "    r2   = r2_score(predx, ymean)\n",
    "    \n",
    "    marpd = np.abs(2 * res /\n",
    "                (np.abs(ymean) + np.abs(predx.reshape(-1)))).mean() * 100\n",
    "    corr = np.corrcoef(predx.reshape(-1), ymean)[0, 1]\n",
    "    \n",
    "    return {'predy': predy, \n",
    "            'predx': predx, \n",
    "            'ymean': ymean, \n",
    "            'res': res, \n",
    "            'std': std, \n",
    "            'mae': mae,\n",
    "            'rmse': rmse,\n",
    "            'r2': r2, \n",
    "            'marpd': marpd, \n",
    "            'corr': corr,\n",
    "            'dropout': dropout}"
   ]
  },
  {
   "cell_type": "code",
   "execution_count": 18,
   "metadata": {},
   "outputs": [],
   "source": [
    "ens_table = np.array([openPickleOld(d) for d in dropout_list])\n",
    "ens_metrics_table = np.array([[dct['mae'], dct['rmse'], \n",
    "                               dct['r2'], dct['marpd'], \n",
    "                               dct['corr']] for dct in ens_table])\n",
    "\n",
    "ens_metrics_table = np.around(ens_metrics_table, decimals=4)\n",
    "np.savetxt(\"Plots/ens_dropout_metrics.csv\", ens_metrics_table, delimiter=\",\")\n",
    "\n",
    "nn100_table = np.array([openPickleOld(d, model=\"standalone\") for d in dropout_list])\n",
    "nn100_metrics_table = np.array([[dct['mae'], dct['rmse'], \n",
    "                               dct['r2'], dct['marpd'], \n",
    "                               dct['corr']] for dct in nn100_table])\n",
    "nn100_metrics_table = np.around(nn100_metrics_table, decimals=4)\n",
    "np.savetxt(\"Plots/nn100_dropout_metrics.csv\", nn100_metrics_table, delimiter=\",\")"
   ]
  },
  {
   "cell_type": "code",
   "execution_count": 19,
   "metadata": {},
   "outputs": [
    {
     "data": {
      "text/plain": [
       "array([[ 0.1638,  0.3343,  0.7581, 48.4074,  0.8713],\n",
       "       [ 0.1607,  0.3243,  0.7723, 47.5289,  0.8791],\n",
       "       [ 0.166 ,  0.3379,  0.7529, 48.3299,  0.8682],\n",
       "       [ 0.1625,  0.3274,  0.768 , 48.2561,  0.8769],\n",
       "       [ 0.1628,  0.3373,  0.7538, 48.8142,  0.8688],\n",
       "       [ 0.1695,  0.3439,  0.744 , 50.438 ,  0.8636],\n",
       "       [ 0.1661,  0.3364,  0.7551, 49.6521,  0.8693]])"
      ]
     },
     "execution_count": 19,
     "metadata": {},
     "output_type": "execute_result"
    }
   ],
   "source": [
    "ens_metrics_table"
   ]
  },
  {
   "cell_type": "code",
   "execution_count": 20,
   "metadata": {},
   "outputs": [],
   "source": [
    "import multiprocessing as mp\n",
    "\n",
    "def observed_pi_calc(std, res, dropout):\n",
    "    return [calculate_density(quantile, std, res)\n",
    "            for quantile in tqdm_notebook(predicted_pi, desc='Calibration - Case with %s%% dropout' % dropout)]\n",
    "    \n",
    "def observed_pi_calc_parallel(table):\n",
    "    observed_pi_input = np.array([[dct['std'], dct['res'], dct['dropout']]\n",
    "                                  for dct in table])\n",
    "\n",
    "    pool = mp.Pool(processes=len(table))\n",
    "    out  = pool.starmap(observed_pi_calc, observed_pi_input)\n",
    "    \n",
    "    return out"
   ]
  },
  {
   "cell_type": "code",
   "execution_count": null,
   "metadata": {},
   "outputs": [
    {
     "name": "stderr",
     "output_type": "stream",
     "text": [
      "/global/homes/k/ktran/miniconda3/envs/gaspy/lib/python3.6/site-packages/ipykernel_launcher.py:5: TqdmDeprecationWarning: This function will be removed in tqdm==5.0.0\n",
      "Please use `tqdm.notebook.tqdm` instead of `tqdm.tqdm_notebook`\n",
      "  \"\"\"\n",
      "/global/homes/k/ktran/miniconda3/envs/gaspy/lib/python3.6/site-packages/ipykernel_launcher.py:5: TqdmDeprecationWarning: This function will be removed in tqdm==5.0.0\n",
      "Please use `tqdm.notebook.tqdm` instead of `tqdm.tqdm_notebook`\n",
      "  \"\"\"\n",
      "/global/homes/k/ktran/miniconda3/envs/gaspy/lib/python3.6/site-packages/ipykernel_launcher.py:5: TqdmDeprecationWarning: This function will be removed in tqdm==5.0.0\n",
      "Please use `tqdm.notebook.tqdm` instead of `tqdm.tqdm_notebook`\n",
      "  \"\"\"\n",
      "/global/homes/k/ktran/miniconda3/envs/gaspy/lib/python3.6/site-packages/ipykernel_launcher.py:5: TqdmDeprecationWarning: This function will be removed in tqdm==5.0.0\n",
      "Please use `tqdm.notebook.tqdm` instead of `tqdm.tqdm_notebook`\n",
      "  \"\"\"\n",
      "/global/homes/k/ktran/miniconda3/envs/gaspy/lib/python3.6/site-packages/ipykernel_launcher.py:5: TqdmDeprecationWarning: This function will be removed in tqdm==5.0.0\n",
      "Please use `tqdm.notebook.tqdm` instead of `tqdm.tqdm_notebook`\n",
      "  \"\"\"\n",
      "/global/homes/k/ktran/miniconda3/envs/gaspy/lib/python3.6/site-packages/ipykernel_launcher.py:5: TqdmDeprecationWarning: This function will be removed in tqdm==5.0.0\n",
      "Please use `tqdm.notebook.tqdm` instead of `tqdm.tqdm_notebook`\n",
      "  \"\"\"\n",
      "/global/homes/k/ktran/miniconda3/envs/gaspy/lib/python3.6/site-packages/ipykernel_launcher.py:5: TqdmDeprecationWarning: This function will be removed in tqdm==5.0.0\n",
      "Please use `tqdm.notebook.tqdm` instead of `tqdm.tqdm_notebook`\n",
      "  \"\"\"\n"
     ]
    },
    {
     "data": {
      "application/vnd.jupyter.widget-view+json": {
       "model_id": "1729e3866a4d499c82f26a1de57682f7",
       "version_major": 2,
       "version_minor": 0
      },
      "text/plain": [
       "HBox(children=(IntProgress(value=0, description='Calibration - Case with 05% dropout', style=ProgressStyle(des…"
      ]
     },
     "metadata": {},
     "output_type": "display_data"
    },
    {
     "data": {
      "application/vnd.jupyter.widget-view+json": {
       "model_id": "b13ca54f75ff4a3c9aa4f8d5273f728c",
       "version_major": 2,
       "version_minor": 0
      },
      "text/plain": [
       "HBox(children=(IntProgress(value=0, description='Calibration - Case with 00% dropout', style=ProgressStyle(des…"
      ]
     },
     "metadata": {},
     "output_type": "display_data"
    },
    {
     "data": {
      "application/vnd.jupyter.widget-view+json": {
       "model_id": "ef28200a737348989f3d81edf5e48833",
       "version_major": 2,
       "version_minor": 0
      },
      "text/plain": [
       "HBox(children=(IntProgress(value=0, description='Calibration - Case with 30% dropout', style=ProgressStyle(des…"
      ]
     },
     "metadata": {},
     "output_type": "display_data"
    },
    {
     "data": {
      "application/vnd.jupyter.widget-view+json": {
       "model_id": "5b2db438a1ef471dbe3a2a0f7a956ae1",
       "version_major": 2,
       "version_minor": 0
      },
      "text/plain": [
       "HBox(children=(IntProgress(value=0, description='Calibration - Case with 20% dropout', style=ProgressStyle(des…"
      ]
     },
     "metadata": {},
     "output_type": "display_data"
    },
    {
     "data": {
      "application/vnd.jupyter.widget-view+json": {
       "model_id": "d34626beda8047159377529c4daf04e3",
       "version_major": 2,
       "version_minor": 0
      },
      "text/plain": [
       "HBox(children=(IntProgress(value=0, description='Calibration - Case with 15% dropout', style=ProgressStyle(des…"
      ]
     },
     "metadata": {},
     "output_type": "display_data"
    },
    {
     "data": {
      "application/vnd.jupyter.widget-view+json": {
       "model_id": "9648a277bd2b4dc98b5a054d05c8db1f",
       "version_major": 2,
       "version_minor": 0
      },
      "text/plain": [
       "HBox(children=(IntProgress(value=0, description='Calibration - Case with 25% dropout', style=ProgressStyle(des…"
      ]
     },
     "metadata": {},
     "output_type": "display_data"
    },
    {
     "data": {
      "application/vnd.jupyter.widget-view+json": {
       "model_id": "a9028e1bd66748d089e83b0899188b91",
       "version_major": 2,
       "version_minor": 0
      },
      "text/plain": [
       "HBox(children=(IntProgress(value=0, description='Calibration - Case with 10% dropout', style=ProgressStyle(des…"
      ]
     },
     "metadata": {},
     "output_type": "display_data"
    }
   ],
   "source": [
    "ens_observed_pi = observed_pi_calc_parallel(ens_table)\n",
    "nn100_observed_pi = observed_pi_calc_parallel(nn100_table)\n"
   ]
  },
  {
   "cell_type": "code",
   "execution_count": null,
   "metadata": {},
   "outputs": [],
   "source": []
  }
 ],
 "metadata": {
  "kernelspec": {
   "display_name": "gaspy_ktran",
   "language": "python",
   "name": "gaspy_ktran"
  },
  "language_info": {
   "codemirror_mode": {
    "name": "ipython",
    "version": 3
   },
   "file_extension": ".py",
   "mimetype": "text/x-python",
   "name": "python",
   "nbconvert_exporter": "python",
   "pygments_lexer": "ipython3",
   "version": "3.6.7"
  }
 },
 "nbformat": 4,
 "nbformat_minor": 4
}
