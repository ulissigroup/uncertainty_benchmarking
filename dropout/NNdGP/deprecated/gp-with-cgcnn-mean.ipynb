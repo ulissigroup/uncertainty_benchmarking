{
 "cells": [
  {
   "cell_type": "markdown",
   "metadata": {},
   "source": [
    "# Initialize and Train CGCNN"
   ]
  },
  {
   "cell_type": "markdown",
   "metadata": {},
   "source": [
    "Automatically search for an NVIDIA GPU and use it. If not, then use CPU"
   ]
  },
  {
   "cell_type": "code",
   "execution_count": 1,
   "metadata": {},
   "outputs": [
    {
     "name": "stdout",
     "output_type": "stream",
     "text": [
      "Using GPU\n"
     ]
    }
   ],
   "source": [
    "import torch\n",
    "\n",
    "\n",
    "if torch.cuda.is_available():\n",
    "    device = torch.device('cuda')\n",
    "    print('Using GPU')\n",
    "else:\n",
    "    device = 'cpu'\n",
    "    print('Using CPU')"
   ]
  },
  {
   "cell_type": "markdown",
   "metadata": {},
   "source": [
    "Load all of our preprocessed and split data from our cache"
   ]
  },
  {
   "cell_type": "code",
   "execution_count": 2,
   "metadata": {},
   "outputs": [],
   "source": [
    "import pickle\n",
    "\n",
    "\n",
    "with open('../preprocessing/feature_dimensions.pkl', 'rb') as file_handle:\n",
    "    orig_atom_fea_len, nbr_fea_len = pickle.load(file_handle)\n",
    "\n",
    "with open('../preprocessing/splits.pkl', 'rb') as file_handle:\n",
    "    splits = pickle.load(file_handle)\n",
    "\n",
    "sdts_train, sdts_val = splits['sdts_train'], splits['sdts_val']\n",
    "targets_train, targets_val = splits['targets_train'], splits['targets_val']"
   ]
  },
  {
   "cell_type": "markdown",
   "metadata": {},
   "source": [
    "Initialize the CGCNN `net` class"
   ]
  },
  {
   "cell_type": "code",
   "execution_count": 5,
   "metadata": {},
   "outputs": [],
   "source": [
    "from torch.optim import Adam\n",
    "import torch\n",
    "import skorch.callbacks.base\n",
    "from skorch import callbacks  # needs skorch >= 0.4  \n",
    "from skorch import NeuralNetRegressor\n",
    "from skorch.dataset import CVSplit\n",
    "from cgcnn.model import CrystalGraphConvNet\n",
    "from cgcnn.data import collate_pool, MergeDataset\n",
    "\n",
    "\n",
    "# Callback to checkpoint parameters every time there is a new best for validation loss\n",
    "cp = callbacks.Checkpoint(monitor='valid_loss_best', fn_prefix='valid_best_')\n",
    "\n",
    "# Callback to load the checkpoint with the best validation loss at the end of training\n",
    "class train_end_load_best_valid_loss(callbacks.base.Callback):\n",
    "    def on_train_end(self, net, X, y):\n",
    "        net.load_params('valid_best_params.pt')\n",
    "load_best_valid_loss = train_end_load_best_valid_loss()\n",
    "\n",
    "# Callback to set the learning rate dynamically\n",
    "LR_schedule = callbacks.lr_scheduler.LRScheduler('MultiStepLR', milestones=[100], gamma=0.1)\n",
    "\n",
    "net = NeuralNetRegressor(\n",
    "    CrystalGraphConvNet,\n",
    "    # --\n",
    "    module__orig_atom_fea_len=orig_atom_fea_len,\n",
    "    module__nbr_fea_len=nbr_fea_len,\n",
    "#     module__orig_atom_fea_len=98,\n",
    "#     module__nbr_fea_len=6,\n",
    "    # --\n",
    "    batch_size=214,\n",
    "    module__classification=False,\n",
    "    lr=0.0056,\n",
    "    max_epochs=150,\n",
    "    module__atom_fea_len=46,\n",
    "    module__h_fea_len=83,\n",
    "    module__n_conv=8,\n",
    "    module__n_h=4,\n",
    "    optimizer=Adam,\n",
    "    iterator_train__pin_memory=True,\n",
    "    iterator_train__num_workers=0,\n",
    "    iterator_train__collate_fn=collate_pool,\n",
    "    iterator_train__shuffle=True,\n",
    "    iterator_valid__pin_memory=True,\n",
    "    iterator_valid__num_workers=0,\n",
    "    iterator_valid__collate_fn=collate_pool,\n",
    "    iterator_valid__shuffle=False,\n",
    "    device=device,\n",
    "    criterion=torch.nn.L1Loss,\n",
    "    # --\n",
    "    dataset=MergeDataset,\n",
    "    # --\n",
    "    callbacks=[cp, load_best_valid_loss, LR_schedule]\n",
    ")"
   ]
  },
  {
   "cell_type": "markdown",
   "metadata": {},
   "source": [
    "Training the CGCNN"
   ]
  },
  {
   "cell_type": "code",
   "execution_count": 6,
   "metadata": {
    "scrolled": true
   },
   "outputs": [
    {
     "name": "stdout",
     "output_type": "stream",
     "text": [
      "Re-initializing module because the following parameters were re-set: atom_fea_len, classification, h_fea_len, n_conv, n_h, nbr_fea_len, orig_atom_fea_len.\n",
      "Re-initializing optimizer.\n",
      "  epoch    train_loss    valid_loss    cp      dur\n",
      "-------  ------------  ------------  ----  -------\n",
      "      1        \u001b[36m0.3924\u001b[0m        \u001b[32m0.3439\u001b[0m     +  15.9217\n",
      "      2        \u001b[36m0.3103\u001b[0m        0.5873        14.2488\n",
      "      3        \u001b[36m0.2696\u001b[0m        \u001b[32m0.2364\u001b[0m     +  13.9120\n",
      "      4        \u001b[36m0.2644\u001b[0m        \u001b[32m0.2318\u001b[0m     +  13.9862\n",
      "      5        \u001b[36m0.2475\u001b[0m        0.3749        13.9882\n",
      "      6        0.2702        0.2461        13.9740\n",
      "      7        \u001b[36m0.2181\u001b[0m        \u001b[32m0.2071\u001b[0m     +  13.7197\n",
      "      8        0.2507        0.2120        14.2931\n",
      "      9        0.2633        \u001b[32m0.2000\u001b[0m     +  13.8609\n",
      "     10        0.2487        0.2069        13.8518\n",
      "     11        0.2334        0.2226        13.9998\n",
      "     12        0.2349        0.2208        13.9329\n",
      "     13        \u001b[36m0.2117\u001b[0m        \u001b[32m0.1994\u001b[0m     +  14.5149\n",
      "     14        0.2536        0.2239        13.8990\n",
      "     15        0.2291        \u001b[32m0.1933\u001b[0m     +  13.8712\n",
      "     16        0.2341        0.1978        14.3388\n",
      "     17        \u001b[36m0.2026\u001b[0m        0.2076        13.9475\n",
      "     18        0.2256        \u001b[32m0.1891\u001b[0m     +  13.8964\n",
      "     19        0.2256        0.3237        13.8742\n",
      "     20        0.2083        0.2953        13.9040\n",
      "     21        0.2285        \u001b[32m0.1836\u001b[0m     +  13.8858\n",
      "     22        \u001b[36m0.2017\u001b[0m        0.3237        14.0355\n",
      "     23        0.2211        \u001b[32m0.1737\u001b[0m     +  14.0508\n",
      "     24        0.2018        \u001b[32m0.1694\u001b[0m     +  14.1279\n",
      "     25        0.2212        0.1833        14.1604\n",
      "     26        0.2030        0.2057        14.0417\n",
      "     27        \u001b[36m0.1940\u001b[0m        0.1791        13.9745\n",
      "     28        0.2019        0.1897        14.0266\n",
      "     29        0.2014        0.2056        13.9253\n",
      "     30        \u001b[36m0.1871\u001b[0m        0.1801        13.9662\n",
      "     31        \u001b[36m0.1741\u001b[0m        0.1810        14.0003\n",
      "     32        0.1840        0.2635        13.8816\n",
      "     33        0.1949        0.1836        13.8606\n",
      "     34        \u001b[36m0.1626\u001b[0m        0.2041        13.9842\n",
      "     35        0.1856        0.2583        14.0203\n",
      "     36        0.1858        0.1703        13.9398\n",
      "     37        0.1722        0.1771        13.9040\n",
      "     38        \u001b[36m0.1535\u001b[0m        0.1748        13.9206\n",
      "     39        0.1771        \u001b[32m0.1693\u001b[0m     +  14.5946\n",
      "     40        0.1773        0.2311        14.0131\n",
      "     41        0.1662        0.2088        13.9341\n",
      "     42        0.1878        0.1791        13.9008\n",
      "     43        0.1907        0.1861        13.9408\n",
      "     44        \u001b[36m0.1529\u001b[0m        \u001b[32m0.1670\u001b[0m     +  13.9032\n",
      "     45        0.1638        0.2301        14.0028\n",
      "     46        0.1652        0.2038        13.9744\n",
      "     47        0.1548        0.1746        14.0925\n",
      "     48        0.1902        0.1789        14.1689\n",
      "     49        0.1578        0.1988        13.8920\n",
      "     50        \u001b[36m0.1442\u001b[0m        0.1878        13.9034\n",
      "     51        0.1675        0.2173        13.9945\n",
      "     52        0.1776        0.1977        14.0118\n",
      "     53        \u001b[36m0.1405\u001b[0m        0.1957        13.8967\n",
      "     54        0.1687        \u001b[32m0.1669\u001b[0m     +  13.9126\n",
      "     55        0.1567        0.1741        13.9909\n",
      "     56        0.1576        0.2158        13.8976\n",
      "     57        0.1477        0.1781        13.8813\n",
      "     58        0.1778        0.1831        14.0136\n",
      "     59        0.1604        0.1766        13.9241\n",
      "     60        0.1673        0.1793        13.9203\n",
      "     61        0.1760        0.1748        13.9300\n",
      "     62        0.1612        0.1720        13.9294\n",
      "     63        0.1682        0.2272        14.0663\n",
      "     64        0.1825        0.1793        14.0030\n",
      "     65        0.1707        0.1838        13.9279\n",
      "     66        \u001b[36m0.1395\u001b[0m        0.1798        13.8750\n",
      "     67        \u001b[36m0.1361\u001b[0m        0.2065        13.8777\n",
      "     68        0.1523        0.1679        13.9223\n",
      "     69        0.1505        0.2446        13.9897\n",
      "     70        0.1648        0.1735        13.9696\n",
      "     71        0.1528        \u001b[32m0.1651\u001b[0m     +  13.8443\n",
      "     72        \u001b[36m0.1271\u001b[0m        0.1762        13.9170\n",
      "     73        0.1640        0.1816        13.8507\n",
      "     79        0.1312        0.1655        13.8047\n",
      "     80        0.1406        0.1699        13.9173\n",
      "     81        0.1749        0.1711        13.9133\n",
      "     82        0.1511        0.1778        13.9376\n",
      "     83        0.1407        0.1897        13.8983\n",
      "     84        0.1648        0.1831        13.9627\n",
      "     85        0.1497        \u001b[32m0.1612\u001b[0m     +  13.8871\n",
      "     86        0.1300        0.1749        13.9094\n",
      "     87        0.1452        0.1954        13.9864\n",
      "     88        0.1398        0.1765        13.8584\n",
      "     89        0.1429        0.1800        13.9244\n",
      "     90        0.1423        0.1666        13.8948\n",
      "     91        \u001b[36m0.1235\u001b[0m        0.1930        13.8779\n",
      "     92        0.1412        0.1794        14.0021\n",
      "     93        0.1569        0.1967        14.0650\n",
      "     94        0.1412        0.1930        13.9268\n",
      "     95        0.1276        0.1630        13.9173\n",
      "     96        0.1337        0.1745        13.9394\n",
      "     97        0.1435        0.1816        13.9439\n",
      "     98        \u001b[36m0.1106\u001b[0m        0.1617        13.9770\n",
      "     99        0.1144        \u001b[32m0.1581\u001b[0m     +  13.9337\n",
      "    100        0.1461        0.2057        14.4537\n",
      "    101        0.1279        0.1636        13.9976\n",
      "    102        0.1240        \u001b[32m0.1569\u001b[0m     +  14.0343\n",
      "    103        0.1209        \u001b[32m0.1556\u001b[0m     +  13.8677\n",
      "    104        \u001b[36m0.0986\u001b[0m        0.1572        14.0476\n",
      "    105        0.1117        0.1561        14.0475\n",
      "    106        \u001b[36m0.0982\u001b[0m        0.1580        13.9991\n",
      "    107        0.1011        0.1578        13.9820\n",
      "    108        0.1069        0.1560        13.8790\n",
      "    109        0.1001        0.1576        13.9793\n",
      "    110        0.0992        0.1559        13.9498\n",
      "    111        \u001b[36m0.0862\u001b[0m        \u001b[32m0.1554\u001b[0m     +  13.9463\n",
      "    112        0.1044        0.1559        13.9334\n",
      "    113        0.1088        0.1586        13.9197\n",
      "    114        0.0999        0.1559        13.9427\n",
      "    115        \u001b[36m0.0838\u001b[0m        0.1569        13.9658\n",
      "    116        0.0990        0.1555        13.8618\n",
      "    117        0.0922        0.1558        13.8515\n",
      "    118        0.0948        \u001b[32m0.1547\u001b[0m     +  13.8838\n",
      "    119        0.0972        0.1551        14.0343\n",
      "    120        0.1007        \u001b[32m0.1535\u001b[0m     +  13.8845\n",
      "    121        0.1045        0.1541        13.8667\n",
      "    122        0.1005        0.1556        13.9046\n",
      "    123        0.0892        0.1561        13.8496\n",
      "    124        0.1068        0.1571        13.8988\n",
      "    125        0.1047        0.1564        13.9939\n",
      "    126        0.0939        0.1577        13.8270\n",
      "    127        0.1085        0.1593        13.8451\n",
      "    128        0.0915        0.1541        13.8513\n",
      "    129        0.0984        0.1563        13.9192\n",
      "    130        0.1094        0.1592        13.9627\n",
      "    131        0.1109        \u001b[32m0.1533\u001b[0m     +  13.8628\n",
      "    132        0.0880        0.1565        13.8596\n",
      "    133        0.1063        0.1559        13.8617\n",
      "    134        0.0984        0.1550        13.8578\n",
      "    135        0.0984        0.1538        13.8594\n",
      "    136        0.0906        \u001b[32m0.1524\u001b[0m     +  14.3103\n",
      "    137        0.0970        0.1536        14.3072\n",
      "    138        0.0855        0.1551        13.8304\n",
      "    139        0.0875        0.1569        13.8353\n",
      "    140        0.0860        0.1552        13.8457\n",
      "    141        0.0960        0.1566        13.8975\n",
      "    142        0.0941        0.1545        14.0034\n",
      "    143        0.0849        0.1565        13.8180\n",
      "    144        \u001b[36m0.0770\u001b[0m        0.1542        13.7842\n",
      "    145        0.1137        0.1539        13.8582\n",
      "    146        0.0883        0.1526        14.3449\n",
      "    147        0.0839        0.1547        14.0856\n",
      "    148        0.1091        0.1563        13.9469\n",
      "    149        0.0915        0.1562        13.8969\n",
      "    150        0.0952        0.1554        16.0859\n"
     ]
    },
    {
     "data": {
      "text/plain": [
       "<class 'skorch.regressor.NeuralNetRegressor'>[initialized](\n",
       "  module_=CrystalGraphConvNet(\n",
       "    (embedding): Linear(in_features=98, out_features=46, bias=True)\n",
       "    (convs): ModuleList(\n",
       "      (0): ConvLayer(\n",
       "        (fc_full): Linear(in_features=98, out_features=92, bias=True)\n",
       "        (sigmoid): Sigmoid()\n",
       "        (softplus1): Softplus(beta=1, threshold=20)\n",
       "        (bn1): BatchNorm1d(92, eps=1e-05, momentum=0.1, affine=True, track_running_stats=True)\n",
       "        (bn2): BatchNorm1d(46, eps=1e-05, momentum=0.1, affine=True, track_running_stats=True)\n",
       "        (softplus2): Softplus(beta=1, threshold=20)\n",
       "      )\n",
       "      (1): ConvLayer(\n",
       "        (fc_full): Linear(in_features=98, out_features=92, bias=True)\n",
       "        (sigmoid): Sigmoid()\n",
       "        (softplus1): Softplus(beta=1, threshold=20)\n",
       "        (bn1): BatchNorm1d(92, eps=1e-05, momentum=0.1, affine=True, track_running_stats=True)\n",
       "        (bn2): BatchNorm1d(46, eps=1e-05, momentum=0.1, affine=True, track_running_stats=True)\n",
       "        (softplus2): Softplus(beta=1, threshold=20)\n",
       "      )\n",
       "      (2): ConvLayer(\n",
       "        (fc_full): Linear(in_features=98, out_features=92, bias=True)\n",
       "        (sigmoid): Sigmoid()\n",
       "        (softplus1): Softplus(beta=1, threshold=20)\n",
       "        (bn1): BatchNorm1d(92, eps=1e-05, momentum=0.1, affine=True, track_running_stats=True)\n",
       "        (bn2): BatchNorm1d(46, eps=1e-05, momentum=0.1, affine=True, track_running_stats=True)\n",
       "        (softplus2): Softplus(beta=1, threshold=20)\n",
       "      )\n",
       "      (3): ConvLayer(\n",
       "        (fc_full): Linear(in_features=98, out_features=92, bias=True)\n",
       "        (sigmoid): Sigmoid()\n",
       "        (softplus1): Softplus(beta=1, threshold=20)\n",
       "        (bn1): BatchNorm1d(92, eps=1e-05, momentum=0.1, affine=True, track_running_stats=True)\n",
       "        (bn2): BatchNorm1d(46, eps=1e-05, momentum=0.1, affine=True, track_running_stats=True)\n",
       "        (softplus2): Softplus(beta=1, threshold=20)\n",
       "      )\n",
       "      (4): ConvLayer(\n",
       "        (fc_full): Linear(in_features=98, out_features=92, bias=True)\n",
       "        (sigmoid): Sigmoid()\n",
       "        (softplus1): Softplus(beta=1, threshold=20)\n",
       "        (bn1): BatchNorm1d(92, eps=1e-05, momentum=0.1, affine=True, track_running_stats=True)\n",
       "        (bn2): BatchNorm1d(46, eps=1e-05, momentum=0.1, affine=True, track_running_stats=True)\n",
       "        (softplus2): Softplus(beta=1, threshold=20)\n",
       "      )\n",
       "      (5): ConvLayer(\n",
       "        (fc_full): Linear(in_features=98, out_features=92, bias=True)\n",
       "        (sigmoid): Sigmoid()\n",
       "        (softplus1): Softplus(beta=1, threshold=20)\n",
       "        (bn1): BatchNorm1d(92, eps=1e-05, momentum=0.1, affine=True, track_running_stats=True)\n",
       "        (bn2): BatchNorm1d(46, eps=1e-05, momentum=0.1, affine=True, track_running_stats=True)\n",
       "        (softplus2): Softplus(beta=1, threshold=20)\n",
       "      )\n",
       "      (6): ConvLayer(\n",
       "        (fc_full): Linear(in_features=98, out_features=92, bias=True)\n",
       "        (sigmoid): Sigmoid()\n",
       "        (softplus1): Softplus(beta=1, threshold=20)\n",
       "        (bn1): BatchNorm1d(92, eps=1e-05, momentum=0.1, affine=True, track_running_stats=True)\n",
       "        (bn2): BatchNorm1d(46, eps=1e-05, momentum=0.1, affine=True, track_running_stats=True)\n",
       "        (softplus2): Softplus(beta=1, threshold=20)\n",
       "      )\n",
       "      (7): ConvLayer(\n",
       "        (fc_full): Linear(in_features=98, out_features=92, bias=True)\n",
       "        (sigmoid): Sigmoid()\n",
       "        (softplus1): Softplus(beta=1, threshold=20)\n",
       "        (bn1): BatchNorm1d(92, eps=1e-05, momentum=0.1, affine=True, track_running_stats=True)\n",
       "        (bn2): BatchNorm1d(46, eps=1e-05, momentum=0.1, affine=True, track_running_stats=True)\n",
       "        (softplus2): Softplus(beta=1, threshold=20)\n",
       "      )\n",
       "    )\n",
       "    (conv_to_fc): Linear(in_features=46, out_features=83, bias=True)\n",
       "    (conv_to_fc_softplus): Softplus(beta=1, threshold=20)\n",
       "    (fcs): ModuleList(\n",
       "      (0): Linear(in_features=83, out_features=83, bias=True)\n",
       "      (1): Linear(in_features=83, out_features=83, bias=True)\n",
       "      (2): Linear(in_features=83, out_features=83, bias=True)\n",
       "    )\n",
       "    (softpluses): ModuleList(\n",
       "      (0): Softplus(beta=1, threshold=20)\n",
       "      (1): Softplus(beta=1, threshold=20)\n",
       "      (2): Softplus(beta=1, threshold=20)\n",
       "    )\n",
       "    (fc_out): Linear(in_features=83, out_features=1, bias=True)\n",
       "  ),\n",
       ")"
      ]
     },
     "execution_count": 6,
     "metadata": {},
     "output_type": "execute_result"
    }
   ],
   "source": [
    "net.initialize()\n",
    "net.fit(sdts_train, targets_train)"
   ]
  },
  {
   "cell_type": "markdown",
   "metadata": {},
   "source": [
    "...or load whatever is cached"
   ]
  },
  {
   "cell_type": "code",
   "execution_count": 40,
   "metadata": {},
   "outputs": [
    {
     "name": "stdout",
     "output_type": "stream",
     "text": [
      "Re-initializing module because the following parameters were re-set: atom_fea_len, classification, h_fea_len, n_conv, n_h, nbr_fea_len, orig_atom_fea_len.\n",
      "Re-initializing optimizer.\n"
     ]
    }
   ],
   "source": [
    "net.initialize()\n",
    "net.load_params(f_history='valid_best_history.json',\n",
    "                f_optimizer= 'valid_best_optimizer.pt', \n",
    "                f_params='valid_best_params.pt')"
   ]
  },
  {
   "cell_type": "markdown",
   "metadata": {},
   "source": [
    "# Initialize and Train GP-rbf with CGCNN Mean"
   ]
  },
  {
   "cell_type": "code",
   "execution_count": 52,
   "metadata": {},
   "outputs": [],
   "source": [
    "%matplotlib inline\n",
    "import numpy as np\n",
    "from sklearn.metrics import mean_absolute_error, mean_squared_error, r2_score\n",
    "import seaborn as sns\n",
    "\n",
    "\n",
    "# Get CGCNN predictions on sdts_val, and sdts_train\n",
    "targets_pred = net.predict(sdts_val).reshape(-1)\n",
    "targets_pred_train = net.predict(sdts_train).reshape(-1)"
   ]
  },
  {
   "cell_type": "code",
   "execution_count": 32,
   "metadata": {},
   "outputs": [],
   "source": [
    "# Load fingerprints data\n",
    "fingerprints_train_raw = splits['fingerprints_train']\n",
    "fingerprints_val_raw = splits['fingerprints_val']"
   ]
  },
  {
   "cell_type": "code",
   "execution_count": 35,
   "metadata": {},
   "outputs": [],
   "source": [
    "from sklearn.preprocessing import StandardScaler\n",
    "import torch\n",
    "\n",
    "\n",
    "# Scale the fingerprints\n",
    "scaler = StandardScaler()\n",
    "fingerprints_train = scaler.fit_transform(fingerprints_train_raw)\n",
    "fingerprints_val = scaler.transform(fingerprints_val_raw)\n",
    "\n",
    "# Make torch.Tensor version of data for GPyTorch\n",
    "fingerprints_train = torch.Tensor(fingerprints_train).contiguous()\n",
    "fingerprints_val = torch.Tensor(fingerprints_val)\n",
    "targets_train_gp = torch.Tensor(targets_train.reshape(-1))\n",
    "targets_val_gp = torch.Tensor(targets_val.reshape(-1))\n",
    "\n",
    "# Transform targets for GP with nonzero mean\n",
    "targets_train_gp = targets_train_gp - torch.Tensor(targets_pred_train)\n",
    "targets_val_gp = targets_val_gp - torch.Tensor(targets_pred)"
   ]
  },
  {
   "cell_type": "code",
   "execution_count": 41,
   "metadata": {},
   "outputs": [],
   "source": [
    "import gpytorch\n",
    "\n",
    "\n",
    "# We will use the simplest form of GP model, exact inference\n",
    "class ExactGPModel(gpytorch.models.ExactGP):\n",
    "    def __init__(self, train_x, train_y, likelihood):\n",
    "        super(ExactGPModel, self).__init__(train_x, train_y, likelihood)\n",
    "        self.mean_module = gpytorch.means.ConstantMean()\n",
    "        self.covar_module = gpytorch.kernels.ScaleKernel(gpytorch.kernels.RBFKernel())\n",
    "\n",
    "    def forward(self, x):\n",
    "        mean_x = self.mean_module(x)\n",
    "        covar_x = self.covar_module(x)\n",
    "        return gpytorch.distributions.MultivariateNormal(mean_x, covar_x)"
   ]
  },
  {
   "cell_type": "code",
   "execution_count": 42,
   "metadata": {},
   "outputs": [
    {
     "data": {
      "image/png": "[encoded data removed]",
      "text/plain": [
       "<Figure size 504x360 with 1 Axes>"
      ]
     },
     "metadata": {
      "needs_background": "light"
     },
     "output_type": "display_data"
    },
    {
     "name": "stdout",
     "output_type": "stream",
     "text": [
      "CPU times: user 1min 53s, sys: 17.1 s, total: 2min 11s\n",
      "Wall time: 2min 10s\n"
     ]
    }
   ],
   "source": [
    "# Training the GP\n",
    "\n",
    "%matplotlib inline\n",
    "from collections import defaultdict\n",
    "from matplotlib import pyplot as plt\n",
    "from IPython.display import clear_output\n",
    "\n",
    "\n",
    "# Initialize the model\n",
    "likelihood = gpytorch.likelihoods.GaussianLikelihood()\n",
    "model = ExactGPModel(fingerprints_train, targets_train_gp, likelihood)\n",
    "\n",
    "# Find optimal model hyperparameters\n",
    "model.train()\n",
    "likelihood.train()\n",
    "\n",
    "# Use the adam optimizer\n",
    "optimizer = torch.optim.Adam([{'params': model.parameters()}], lr=0.1)\n",
    "\n",
    "# \"Loss\" for GPs - the marginal log likelihood\n",
    "mll = gpytorch.mlls.ExactMarginalLogLikelihood(likelihood, model)\n",
    "\n",
    "# Function to make dynamic learning curve\n",
    "def live_plot(data_dict, figsize=(7, 5), title=''):\n",
    "    ''' Credit to Ziofil on StackOverflow '''\n",
    "    clear_output(wait=True)\n",
    "    plt.figure(figsize=figsize)\n",
    "    for label, data in data_dict.items():\n",
    "        plt.plot(data, label=label)\n",
    "    plt.title(title)\n",
    "    plt.grid(True)\n",
    "    plt.xlabel('Number of iterations')\n",
    "    plt.legend(loc='center left')  # the plot evolves to the right\n",
    "    ax = plt.gca()\n",
    "    ax.set_ylim(0, max(max(data) for data in data_dict.values()))\n",
    "    plt.show()\n",
    "\n",
    "def train(training_iterations=25):\n",
    "    # Train the model\n",
    "    learning_curve_data = defaultdict(list)\n",
    "    for i in range(training_iterations):\n",
    "        # Zero backprop gradients\n",
    "        optimizer.zero_grad()\n",
    "        # Get output from model\n",
    "        output = model(fingerprints_train)\n",
    "        # Calc loss and backprop derivatives\n",
    "        loss = -mll(output, targets_train_gp)\n",
    "        loss.backward()\n",
    "        # Update the learning curve\n",
    "        learning_curve_data['Loss'].append(loss.item())\n",
    "        live_plot(learning_curve_data)\n",
    "        optimizer.step()\n",
    "\n",
    "%time train(23)"
   ]
  },
  {
   "cell_type": "markdown",
   "metadata": {},
   "source": [
    "# Assess Performance: GP-rbf with CGCNN Mean in Transformed Output Space"
   ]
  },
  {
   "cell_type": "code",
   "execution_count": 43,
   "metadata": {},
   "outputs": [],
   "source": [
    "# Get into evaluation (predictive posterior) mode\n",
    "model.eval()\n",
    "likelihood.eval()\n",
    "\n",
    "# Make the predictions\n",
    "with torch.no_grad(), gpytorch.settings.fast_pred_var():\n",
    "    preds = model(fingerprints_val)"
   ]
  },
  {
   "cell_type": "code",
   "execution_count": 44,
   "metadata": {},
   "outputs": [
    {
     "name": "stdout",
     "output_type": "stream",
     "text": [
      "MAE = 0.18 eV\n",
      "RMSE = 0.34 eV\n",
      "R^2 = 0.04\n"
     ]
    },
    {
     "data": {
      "image/png": "[encoded data removed]",
      "text/plain": [
       "<Figure size 432x432 with 3 Axes>"
      ]
     },
     "metadata": {
      "needs_background": "light"
     },
     "output_type": "display_data"
    }
   ],
   "source": [
    "# Plotting results (transformed output space)\n",
    "\n",
    "# Parse the predictions\n",
    "targets_pred_gp = preds.mean\n",
    "mae = mean_absolute_error(targets_val_gp, targets_pred_gp)\n",
    "rmse = np.sqrt(mean_squared_error(targets_val_gp, targets_pred_gp))\n",
    "r2 = r2_score(targets_val_gp, targets_pred_gp)\n",
    "\n",
    "# Report\n",
    "print('MAE = %.2f eV' % mae)\n",
    "print('RMSE = %.2f eV' % rmse)\n",
    "print('R^2 = %.2f' % r2)\n",
    "\n",
    "# Plot\n",
    "grid = sns.jointplot(targets_val_gp, targets_pred_gp,\n",
    "                     kind='hex',\n",
    "                     bins='log',\n",
    "                     extent=[-4, 2, -4, 2])\n",
    "_ = grid.ax_joint.set_xlim([-4, 2])\n",
    "_ = grid.ax_joint.set_ylim([-4, 2])\n",
    "_ = grid.ax_joint.plot([-4, 2], [-4, 2], '--')\n",
    "_ = grid.ax_joint.set_xlabel('DFT $\\Delta$E [eV]')\n",
    "_ = grid.ax_joint.set_ylabel('GP $\\Delta$E [eV]')"
   ]
  },
  {
   "cell_type": "markdown",
   "metadata": {},
   "source": [
    "# Assess Performance: GP-rbf with CGCNN Mean in Original Output Space"
   ]
  },
  {
   "cell_type": "code",
   "execution_count": 54,
   "metadata": {},
   "outputs": [
    {
     "name": "stdout",
     "output_type": "stream",
     "text": [
      "MAE = 0.18 eV\n",
      "RMSE = 0.34 eV\n",
      "R^2 = 0.75\n"
     ]
    },
    {
     "data": {
      "image/png": "[encoded data removed]",
      "text/plain": [
       "<Figure size 432x432 with 3 Axes>"
      ]
     },
     "metadata": {
      "needs_background": "light"
     },
     "output_type": "display_data"
    }
   ],
   "source": [
    "# Plotting results (original output space)\n",
    "\n",
    "# Transform outputs\n",
    "targets_val_gp_orig = targets_val_gp + torch.Tensor(targets_pred)\n",
    "targets_pred_gp_orig = targets_pred_gp + torch.Tensor(targets_pred)\n",
    "\n",
    "# Parse the predictions\n",
    "mae = mean_absolute_error(targets_val_gp_orig, targets_pred_gp_orig)\n",
    "rmse = np.sqrt(mean_squared_error(targets_val_gp_orig, targets_pred_gp_orig))\n",
    "r2 = r2_score(targets_val_gp_orig, targets_pred_gp_orig)\n",
    "\n",
    "# Report\n",
    "print('MAE = %.2f eV' % mae)\n",
    "print('RMSE = %.2f eV' % rmse)\n",
    "print('R^2 = %.2f' % r2)\n",
    "\n",
    "# Plot\n",
    "grid = sns.jointplot(targets_val_gp_orig, targets_pred_gp_orig,\n",
    "                     kind='hex',\n",
    "                     bins='log',\n",
    "                     extent=[-4, 2, -4, 2])\n",
    "_ = grid.ax_joint.set_xlim([-4, 2])\n",
    "_ = grid.ax_joint.set_ylim([-4, 2])\n",
    "_ = grid.ax_joint.plot([-4, 2], [-4, 2], '--')\n",
    "_ = grid.ax_joint.set_xlabel('DFT $\\Delta$E [eV]')\n",
    "_ = grid.ax_joint.set_ylabel('GP $\\Delta$E [eV]')"
   ]
  },
  {
   "cell_type": "code",
   "execution_count": 50,
   "metadata": {},
   "outputs": [
    {
     "data": {
      "application/vnd.jupyter.widget-view+json": {
       "model_id": "7e5aa51dcd3045aabd59487a356e66f5",
       "version_major": 2,
       "version_minor": 0
      },
      "text/plain": [
       "HBox(children=(IntProgress(value=0, description='Calibration', max=20, style=ProgressStyle(description_width='…"
      ]
     },
     "metadata": {},
     "output_type": "display_data"
    },
    {
     "name": "stdout",
     "output_type": "stream",
     "text": [
      "\n"
     ]
    }
   ],
   "source": [
    "# Calibration\n",
    "\n",
    "import numpy as np\n",
    "from scipy import stats\n",
    "from tqdm import tqdm_notebook\n",
    "\n",
    "\n",
    "residuals = (targets_pred_gp_orig - targets_val_gp_orig).detach().numpy()\n",
    "standard_errors = preds.stddev.detach().numpy() # TODO: confirm we don't need to transform preds stds to orig space.\n",
    "\n",
    "def calculate_density(percentile):\n",
    "    num_within_quantile = 0\n",
    "    for se, resid in zip(standard_errors, residuals):\n",
    "        norm = stats.norm(loc=0, scale=se)\n",
    "        lower_bound = norm.ppf(0.5-percentile/2)\n",
    "        upper_bound = norm.ppf(0.5+percentile/2)\n",
    "        if lower_bound <= resid <= upper_bound:\n",
    "            num_within_quantile += 1\n",
    "    density = num_within_quantile / len(residuals)\n",
    "    return density\n",
    "\n",
    "predicted_pi = np.linspace(0, 1, 20)\n",
    "observed_pi = [calculate_density(quantile)\n",
    "               for quantile in tqdm_notebook(predicted_pi, desc='Calibration')]"
   ]
  },
  {
   "cell_type": "code",
   "execution_count": 53,
   "metadata": {},
   "outputs": [
    {
     "name": "stdout",
     "output_type": "stream",
     "text": [
      "Calibration factor = -0.02\n",
      "Sharpness = 0.18 eV\n"
     ]
    },
    {
     "data": {
      "image/png": "[encoded data removed]",
      "text/plain": [
       "<Figure size 288x288 with 1 Axes>"
      ]
     },
     "metadata": {
      "needs_background": "light"
     },
     "output_type": "display_data"
    }
   ],
   "source": [
    "# Plotting Calibration\n",
    "\n",
    "%matplotlib inline\n",
    "import numpy as np\n",
    "from scipy import integrate\n",
    "from matplotlib import pyplot as plt\n",
    "import seaborn as sns\n",
    "\n",
    "\n",
    "# Plot the calibration curve\n",
    "fig = plt.figure(figsize=(4, 4))\n",
    "ax_ideal = sns.lineplot([0, 1], [0, 1], label='ideal')\n",
    "_ = ax_ideal.lines[0].set_linestyle('--')\n",
    "ax_gp = sns.lineplot(predicted_pi, observed_pi, label='GP-cgcnn-mean')\n",
    "_ = ax_gp.set_xlabel('Expected prediction interval')\n",
    "_ = ax_gp.set_ylabel('Observed prediction interval')\n",
    "_ = ax_gp.set_xlim([0, 1])\n",
    "_ = ax_gp.set_ylim([0, 1])\n",
    "\n",
    "# Report the calibration factor\n",
    "actual_calibration_area = integrate.trapz(y=observed_pi, x=predicted_pi)\n",
    "ideal_calibration_area = integrate.trapz(y=predicted_pi, x=predicted_pi)\n",
    "calibration_factor = actual_calibration_area - ideal_calibration_area\n",
    "print('Calibration factor = %.2f' % calibration_factor)\n",
    "\n",
    "# Report sharpness\n",
    "sharpness = np.sqrt(np.mean(standard_errors**2))\n",
    "print('Sharpness = %.2f eV' % sharpness)"
   ]
  }
 ],
 "metadata": {
  "kernelspec": {
   "display_name": "Python 3",
   "language": "python",
   "name": "python3"
  },
  "language_info": {
   "codemirror_mode": {
    "name": "ipython",
    "version": 3
   },
   "file_extension": ".py",
   "mimetype": "text/x-python",
   "name": "python",
   "nbconvert_exporter": "python",
   "pygments_lexer": "ipython3",
   "version": "3.6.9"
  }
 },
 "nbformat": 4,
 "nbformat_minor": 4
}
