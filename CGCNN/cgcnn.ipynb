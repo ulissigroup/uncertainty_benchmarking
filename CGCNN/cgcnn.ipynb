{
 "cells": [
  {
   "cell_type": "markdown",
   "metadata": {},
   "source": [
    "# Initialization"
   ]
  },
  {
   "cell_type": "markdown",
   "metadata": {},
   "source": [
    "Automatically search for an NVIDIA GPU and use it. If not, then use CPU"
   ]
  },
  {
   "cell_type": "code",
   "execution_count": 1,
   "metadata": {},
   "outputs": [
    {
     "name": "stdout",
     "output_type": "stream",
     "text": [
      "Using GPU\n"
     ]
    }
   ],
   "source": [
    "import torch\n",
    "\n",
    "\n",
    "if torch.cuda.is_available():\n",
    "    device = torch.device('cuda')\n",
    "    print('Using GPU')\n",
    "else:\n",
    "    device = 'cpu'\n",
    "    print('Using CPU')"
   ]
  },
  {
   "cell_type": "markdown",
   "metadata": {},
   "source": [
    "Load all of our preprocessed and split data from our cache"
   ]
  },
  {
   "cell_type": "code",
   "execution_count": 2,
   "metadata": {},
   "outputs": [],
   "source": [
    "import pickle\n",
    "\n",
    "\n",
    "with open('../preprocessing/feature_dimensions.pkl', 'rb') as file_handle:\n",
    "    orig_atom_fea_len, nbr_fea_len = pickle.load(file_handle)\n",
    "\n",
    "with open('../preprocessing/splits.pkl', 'rb') as file_handle:\n",
    "    splits = pickle.load(file_handle)\n",
    "\n",
    "sdts_train, sdts_val = splits['sdts_train'], splits['sdts_val']\n",
    "targets_train, targets_val = splits['targets_train'], splits['targets_val']"
   ]
  },
  {
   "cell_type": "markdown",
   "metadata": {},
   "source": [
    "Initialize the CGCNN `net` class"
   ]
  },
  {
   "cell_type": "code",
   "execution_count": 3,
   "metadata": {},
   "outputs": [],
   "source": [
    "from torch.optim import Adam\n",
    "import skorch.callbacks.base\n",
    "from skorch import callbacks  # needs skorch >= 0.4  \n",
    "from skorch import NeuralNetRegressor\n",
    "from skorch.dataset import CVSplit\n",
    "from cgcnn.model import CrystalGraphConvNet\n",
    "from cgcnn.data import collate_pool, MergeDataset\n",
    "\n",
    "\n",
    "# Callback to checkpoint parameters every time there is a new best for validation loss\n",
    "cp = callbacks.Checkpoint(monitor='valid_loss_best', fn_prefix='valid_best_')\n",
    "\n",
    "# Callback to load the checkpoint with the best validation loss at the end of training\n",
    "class train_end_load_best_valid_loss(callbacks.base.Callback):\n",
    "    def on_train_end(self, net, X, y):\n",
    "        net.load_params('valid_best_params.pt')\n",
    "load_best_valid_loss = train_end_load_best_valid_loss()\n",
    "\n",
    "# Callback to set the learning rate dynamically\n",
    "LR_schedule = callbacks.lr_scheduler.LRScheduler('MultiStepLR', milestones=[100], gamma=0.1)\n",
    "\n",
    "net = NeuralNetRegressor(\n",
    "    CrystalGraphConvNet,\n",
    "    module__orig_atom_fea_len=orig_atom_fea_len,\n",
    "    module__nbr_fea_len=nbr_fea_len,\n",
    "    batch_size=214,\n",
    "    module__classification=False,\n",
    "    lr=0.0056,\n",
    "    max_epochs=150,\n",
    "    module__atom_fea_len=46,\n",
    "    module__h_fea_len=83,\n",
    "    module__n_conv=8,\n",
    "    module__n_h=4,\n",
    "    optimizer=Adam,\n",
    "    iterator_train__pin_memory=True,\n",
    "    iterator_train__num_workers=0,\n",
    "    iterator_train__collate_fn=collate_pool,\n",
    "    iterator_train__shuffle=True,\n",
    "    iterator_valid__pin_memory=True,\n",
    "    iterator_valid__num_workers=0,\n",
    "    iterator_valid__collate_fn=collate_pool,\n",
    "    iterator_valid__shuffle=False,\n",
    "    device=device,\n",
    "    criterion=torch.nn.L1Loss,\n",
    "    dataset=MergeDataset,\n",
    "    callbacks=[cp, load_best_valid_loss, LR_schedule]\n",
    ")"
   ]
  },
  {
   "cell_type": "markdown",
   "metadata": {},
   "source": [
    "# Training"
   ]
  },
  {
   "cell_type": "markdown",
   "metadata": {},
   "source": [
    "We can train a new model..."
   ]
  },
  {
   "cell_type": "code",
   "execution_count": 4,
   "metadata": {
    "scrolled": true
   },
   "outputs": [
    {
     "name": "stdout",
     "output_type": "stream",
     "text": [
      "Re-initializing module because the following parameters were re-set: atom_fea_len, classification, h_fea_len, n_conv, n_h, nbr_fea_len, orig_atom_fea_len.\n",
      "Re-initializing optimizer.\n",
      "  epoch    train_loss    valid_loss    cp      dur\n",
      "-------  ------------  ------------  ----  -------\n",
      "      1        \u001b[36m0.4956\u001b[0m        \u001b[32m0.3552\u001b[0m     +  20.9598\n",
      "      2        \u001b[36m0.2969\u001b[0m        \u001b[32m0.2818\u001b[0m     +  20.4735\n",
      "      3        0.3151        0.3494        20.5017\n",
      "      4        \u001b[36m0.2619\u001b[0m        \u001b[32m0.2668\u001b[0m     +  20.5241\n",
      "      5        0.2664        \u001b[32m0.2083\u001b[0m     +  20.4595\n",
      "      6        \u001b[36m0.2546\u001b[0m        0.2397        20.4404\n",
      "      7        \u001b[36m0.2371\u001b[0m        0.2144        20.5406\n",
      "      8        0.2411        0.3480        20.4875\n",
      "      9        \u001b[36m0.2045\u001b[0m        0.2701        20.5055\n",
      "     10        0.2262        0.2185        20.7122\n",
      "     11        0.2353        0.2100        20.5174\n",
      "     12        0.2388        0.2714        20.4445\n",
      "     13        0.2264        \u001b[32m0.2069\u001b[0m     +  20.4335\n",
      "     14        0.2291        0.2397        20.4468\n",
      "     15        0.2323        0.2208        20.4036\n",
      "     16        \u001b[36m0.1944\u001b[0m        \u001b[32m0.1948\u001b[0m     +  20.4321\n",
      "     17        0.2240        0.2195        20.4587\n",
      "     18        0.2106        0.2017        20.4096\n",
      "     19        0.2293        0.1957        20.5208\n",
      "     20        0.2081        \u001b[32m0.1919\u001b[0m     +  20.4487\n",
      "     21        0.2144        \u001b[32m0.1824\u001b[0m     +  20.4427\n",
      "     22        0.2143        0.2397        20.5477\n",
      "     23        0.2038        0.2011        20.4673\n",
      "     24        0.2083        0.2086        20.4191\n",
      "     25        0.2370        0.1857        20.4658\n",
      "     26        0.2051        0.1995        20.4808\n",
      "     27        \u001b[36m0.1897\u001b[0m        \u001b[32m0.1735\u001b[0m     +  20.5387\n",
      "     28        \u001b[36m0.1883\u001b[0m        0.1898        20.6429\n",
      "     29        \u001b[36m0.1859\u001b[0m        0.2065        20.6940\n",
      "     30        0.1935        0.1823        20.6192\n",
      "     31        0.2214        0.2361        20.7017\n",
      "     32        0.2080        0.2140        20.6891\n",
      "     33        0.1897        0.1761        20.5840\n",
      "     34        0.2032        0.2009        20.7769\n",
      "     35        0.1891        \u001b[32m0.1730\u001b[0m     +  20.6956\n",
      "     36        0.1968        0.1756        20.6391\n",
      "     37        0.2023        0.1817        20.6863\n",
      "     38        0.2177        0.1777        20.6927\n",
      "     39        0.2017        0.1793        20.6216\n",
      "     40        \u001b[36m0.1815\u001b[0m        0.1779        20.7563\n",
      "     41        0.1824        \u001b[32m0.1665\u001b[0m     +  20.7278\n",
      "     42        0.1835        0.1791        20.6110\n",
      "     43        0.1875        0.1779        20.6693\n",
      "     44        0.1960        0.1693        20.4578\n",
      "     45        0.1817        0.2442        20.4082\n",
      "     46        \u001b[36m0.1669\u001b[0m        0.1682        20.4688\n",
      "     47        0.1869        0.1794        20.4341\n",
      "     48        0.1757        0.1694        20.3751\n",
      "     49        0.1909        \u001b[32m0.1650\u001b[0m     +  20.4375\n",
      "     50        0.1736        0.1696        20.4256\n",
      "     51        \u001b[36m0.1608\u001b[0m        0.1710        20.3957\n",
      "     52        0.1688        0.2136        20.4460\n",
      "     53        0.1823        0.1683        20.4250\n",
      "     54        0.1773        0.2080        20.3548\n",
      "     55        0.1711        0.1893        20.4342\n",
      "     56        0.1915        0.1661        20.4516\n",
      "     57        0.1810        0.1771        20.3910\n",
      "     58        \u001b[36m0.1568\u001b[0m        0.1768        20.5308\n",
      "     59        \u001b[36m0.1530\u001b[0m        0.1658        20.4538\n",
      "     60        0.1579        0.1672        20.4296\n",
      "     61        0.1718        0.1801        20.5190\n",
      "     62        0.1707        0.1717        20.4598\n",
      "     63        0.1554        \u001b[32m0.1613\u001b[0m     +  20.4558\n",
      "     64        \u001b[36m0.1526\u001b[0m        0.1990        20.4816\n",
      "     65        0.1861        0.1796        20.4439\n",
      "     66        0.1691        0.1657        20.4166\n",
      "     67        0.1652        0.1723        20.5178\n",
      "     68        0.1805        0.1750        20.4522\n",
      "     69        0.1553        0.1752        20.3981\n",
      "     70        0.1620        0.1636        20.5368\n",
      "     71        0.1578        0.1848        20.4327\n",
      "     72        0.1669        0.1988        20.3930\n",
      "     73        0.1951        0.1813        20.5381\n",
      "     74        0.1725        0.1700        20.4512\n",
      "     75        0.1735        0.1968        20.4186\n",
      "     76        0.1874        0.1763        20.5907\n",
      "     77        0.1622        0.1724        20.4175\n",
      "     78        0.1764        0.1702        20.4470\n",
      "     79        \u001b[36m0.1398\u001b[0m        0.1659        20.5029\n",
      "     80        0.1614        0.1723        20.4422\n",
      "     81        0.1596        0.1659        20.4290\n",
      "     82        0.1534        0.1784        20.4728\n",
      "     83        0.1579        0.1710        20.4031\n",
      "     84        0.1448        0.1869        20.4518\n",
      "     85        0.1542        0.1858        20.5329\n",
      "     86        0.1628        0.1765        20.4081\n",
      "     87        0.1506        0.1780        20.4312\n",
      "     88        0.1410        0.1620        20.5249\n",
      "     89        0.1680        0.1862        20.4177\n",
      "     90        0.1654        0.1786        20.4177\n",
      "     91        0.1402        0.1876        20.4714\n",
      "     92        \u001b[36m0.1291\u001b[0m        0.1839        20.3920\n",
      "     93        0.1587        0.1846        20.4189\n",
      "     94        0.1302        0.1684        20.5624\n",
      "     95        0.1581        0.1775        20.4266\n",
      "     96        0.1311        0.1634        20.4548\n",
      "     97        0.1294        0.1736        20.5152\n",
      "     98        0.1594        0.1939        20.3970\n",
      "     99        0.1636        0.1710        20.4396\n",
      "    100        0.1567        0.1651        20.5181\n",
      "    101        0.1581        0.1784        20.4091\n",
      "    102        0.1489        \u001b[32m0.1562\u001b[0m     +  20.4350\n",
      "    103        0.1344        \u001b[32m0.1555\u001b[0m     +  20.5668\n",
      "    104        0.1328        \u001b[32m0.1554\u001b[0m     +  20.4250\n",
      "    105        0.1403        0.1627        20.4632\n",
      "    106        \u001b[36m0.1203\u001b[0m        0.1595        20.5026\n",
      "    107        0.1348        0.1592        20.4967\n",
      "    108        0.1434        0.1576        20.4625\n",
      "    109        0.1290        0.1555        20.5525\n",
      "    110        0.1292        0.1579        20.3957\n",
      "    111        0.1331        0.1597        20.4871\n",
      "    112        0.1387        0.1595        20.5466\n",
      "    113        0.1297        0.1619        20.3851\n",
      "    114        \u001b[36m0.1151\u001b[0m        0.1583        20.4861\n",
      "    115        0.1313        0.1599        20.4446\n",
      "    116        0.1265        0.1577        20.3911\n",
      "    117        0.1212        0.1576        20.4739\n",
      "    118        0.1275        0.1626        20.4486\n",
      "    119        \u001b[36m0.1046\u001b[0m        0.1623        20.4139\n",
      "    120        0.1112        0.1581        20.4734\n",
      "    121        0.1374        0.1640        20.4775\n",
      "    122        0.1119        0.1617        20.4200\n",
      "    123        0.1193        0.1560        20.5374\n",
      "    124        0.1300        0.1674        20.4814\n",
      "    125        0.1184        0.1625        20.4210\n",
      "    126        0.1171        0.1617        20.4833\n",
      "    127        0.1293        0.1612        20.5488\n",
      "    128        0.1344        0.1635        20.4271\n",
      "    129        0.1321        0.1619        20.4713\n",
      "    130        0.1276        0.1635        20.5177\n",
      "    131        0.1116        0.1625        20.4831\n",
      "    132        0.1203        0.1638        20.5269\n",
      "    133        0.1319        0.1606        22.4923\n",
      "    134        \u001b[36m0.1012\u001b[0m        0.1617        20.4518\n",
      "    135        0.1290        0.1598        20.4547\n",
      "    136        0.1370        0.1607        20.5077\n",
      "    137        0.1298        0.1586        20.4229\n",
      "    138        0.1333        0.1587        20.6229\n",
      "    139        0.1383        0.1598        20.6825\n",
      "    140        0.1135        0.1601        20.5732\n",
      "    141        0.1389        0.1644        20.4767\n",
      "    142        0.1309        0.1642        20.4482\n",
      "    143        0.1208        0.1631        20.4513\n",
      "    144        0.1104        0.1640        20.4806\n",
      "    145        0.1274        0.1698        20.4329\n",
      "    146        0.1168        0.1606        20.4522\n",
      "    147        0.1175        0.1618        20.4681\n",
      "    148        0.1197        0.1623        20.4655\n",
      "    149        0.1286        0.1646        20.4141\n",
      "    150        0.1053        0.1615        20.5661\n"
     ]
    },
    {
     "data": {
      "text/plain": [
       "<class 'skorch.regressor.NeuralNetRegressor'>[initialized](\n",
       "  module_=CrystalGraphConvNet(\n",
       "    (embedding): Linear(in_features=98, out_features=46, bias=True)\n",
       "    (convs): ModuleList(\n",
       "      (0): ConvLayer(\n",
       "        (fc_full): Linear(in_features=98, out_features=92, bias=True)\n",
       "        (sigmoid): Sigmoid()\n",
       "        (softplus1): Softplus(beta=1, threshold=20)\n",
       "        (bn1): BatchNorm1d(92, eps=1e-05, momentum=0.1, affine=True, track_running_stats=True)\n",
       "        (bn2): BatchNorm1d(46, eps=1e-05, momentum=0.1, affine=True, track_running_stats=True)\n",
       "        (softplus2): Softplus(beta=1, threshold=20)\n",
       "      )\n",
       "      (1): ConvLayer(\n",
       "        (fc_full): Linear(in_features=98, out_features=92, bias=True)\n",
       "        (sigmoid): Sigmoid()\n",
       "        (softplus1): Softplus(beta=1, threshold=20)\n",
       "        (bn1): BatchNorm1d(92, eps=1e-05, momentum=0.1, affine=True, track_running_stats=True)\n",
       "        (bn2): BatchNorm1d(46, eps=1e-05, momentum=0.1, affine=True, track_running_stats=True)\n",
       "        (softplus2): Softplus(beta=1, threshold=20)\n",
       "      )\n",
       "      (2): ConvLayer(\n",
       "        (fc_full): Linear(in_features=98, out_features=92, bias=True)\n",
       "        (sigmoid): Sigmoid()\n",
       "        (softplus1): Softplus(beta=1, threshold=20)\n",
       "        (bn1): BatchNorm1d(92, eps=1e-05, momentum=0.1, affine=True, track_running_stats=True)\n",
       "        (bn2): BatchNorm1d(46, eps=1e-05, momentum=0.1, affine=True, track_running_stats=True)\n",
       "        (softplus2): Softplus(beta=1, threshold=20)\n",
       "      )\n",
       "      (3): ConvLayer(\n",
       "        (fc_full): Linear(in_features=98, out_features=92, bias=True)\n",
       "        (sigmoid): Sigmoid()\n",
       "        (softplus1): Softplus(beta=1, threshold=20)\n",
       "        (bn1): BatchNorm1d(92, eps=1e-05, momentum=0.1, affine=True, track_running_stats=True)\n",
       "        (bn2): BatchNorm1d(46, eps=1e-05, momentum=0.1, affine=True, track_running_stats=True)\n",
       "        (softplus2): Softplus(beta=1, threshold=20)\n",
       "      )\n",
       "      (4): ConvLayer(\n",
       "        (fc_full): Linear(in_features=98, out_features=92, bias=True)\n",
       "        (sigmoid): Sigmoid()\n",
       "        (softplus1): Softplus(beta=1, threshold=20)\n",
       "        (bn1): BatchNorm1d(92, eps=1e-05, momentum=0.1, affine=True, track_running_stats=True)\n",
       "        (bn2): BatchNorm1d(46, eps=1e-05, momentum=0.1, affine=True, track_running_stats=True)\n",
       "        (softplus2): Softplus(beta=1, threshold=20)\n",
       "      )\n",
       "      (5): ConvLayer(\n",
       "        (fc_full): Linear(in_features=98, out_features=92, bias=True)\n",
       "        (sigmoid): Sigmoid()\n",
       "        (softplus1): Softplus(beta=1, threshold=20)\n",
       "        (bn1): BatchNorm1d(92, eps=1e-05, momentum=0.1, affine=True, track_running_stats=True)\n",
       "        (bn2): BatchNorm1d(46, eps=1e-05, momentum=0.1, affine=True, track_running_stats=True)\n",
       "        (softplus2): Softplus(beta=1, threshold=20)\n",
       "      )\n",
       "      (6): ConvLayer(\n",
       "        (fc_full): Linear(in_features=98, out_features=92, bias=True)\n",
       "        (sigmoid): Sigmoid()\n",
       "        (softplus1): Softplus(beta=1, threshold=20)\n",
       "        (bn1): BatchNorm1d(92, eps=1e-05, momentum=0.1, affine=True, track_running_stats=True)\n",
       "        (bn2): BatchNorm1d(46, eps=1e-05, momentum=0.1, affine=True, track_running_stats=True)\n",
       "        (softplus2): Softplus(beta=1, threshold=20)\n",
       "      )\n",
       "      (7): ConvLayer(\n",
       "        (fc_full): Linear(in_features=98, out_features=92, bias=True)\n",
       "        (sigmoid): Sigmoid()\n",
       "        (softplus1): Softplus(beta=1, threshold=20)\n",
       "        (bn1): BatchNorm1d(92, eps=1e-05, momentum=0.1, affine=True, track_running_stats=True)\n",
       "        (bn2): BatchNorm1d(46, eps=1e-05, momentum=0.1, affine=True, track_running_stats=True)\n",
       "        (softplus2): Softplus(beta=1, threshold=20)\n",
       "      )\n",
       "    )\n",
       "    (conv_to_fc): Linear(in_features=46, out_features=83, bias=True)\n",
       "    (conv_to_fc_softplus): Softplus(beta=1, threshold=20)\n",
       "    (fcs): ModuleList(\n",
       "      (0): Linear(in_features=83, out_features=83, bias=True)\n",
       "      (1): Linear(in_features=83, out_features=83, bias=True)\n",
       "      (2): Linear(in_features=83, out_features=83, bias=True)\n",
       "    )\n",
       "    (softpluses): ModuleList(\n",
       "      (0): Softplus(beta=1, threshold=20)\n",
       "      (1): Softplus(beta=1, threshold=20)\n",
       "      (2): Softplus(beta=1, threshold=20)\n",
       "    )\n",
       "    (fc_out): Linear(in_features=83, out_features=1, bias=True)\n",
       "  ),\n",
       ")"
      ]
     },
     "execution_count": 4,
     "metadata": {},
     "output_type": "execute_result"
    }
   ],
   "source": [
    "net.initialize()\n",
    "net.fit(sdts_train, targets_train)"
   ]
  },
  {
   "cell_type": "markdown",
   "metadata": {},
   "source": [
    "...or load whatever is cached"
   ]
  },
  {
   "cell_type": "code",
   "execution_count": 4,
   "metadata": {},
   "outputs": [],
   "source": [
    "net.initialize()\n",
    "net.load_params(f_history='valid_best_history.json',\n",
    "                f_optimizer= 'valid_best_optimizer.pt', \n",
    "                f_params='valid_best_params.pt')"
   ]
  },
  {
   "cell_type": "markdown",
   "metadata": {},
   "source": [
    "# Assess performance"
   ]
  },
  {
   "cell_type": "code",
   "execution_count": 5,
   "metadata": {},
   "outputs": [
    {
     "name": "stdout",
     "output_type": "stream",
     "text": [
      "MAE = 0.17 eV\n",
      "RMSE = 0.33 eV\n",
      "R^2 = 0.76\n"
     ]
    },
    {
     "data": {
      "image/png": "[encoded data removed]",
      "text/plain": [
       "<Figure size 432x432 with 3 Axes>"
      ]
     },
     "metadata": {
      "needs_background": "light"
     },
     "output_type": "display_data"
    }
   ],
   "source": [
    "%matplotlib inline\n",
    "import numpy as np\n",
    "from sklearn.metrics import mean_absolute_error, mean_squared_error, r2_score\n",
    "import seaborn as sns\n",
    "\n",
    "\n",
    "# Calculate the error metrics\n",
    "targets_pred = net.predict(sdts_val).reshape(-1)\n",
    "mae = mean_absolute_error(targets_val, targets_pred)\n",
    "rmse = np.sqrt(mean_squared_error(targets_val, targets_pred))\n",
    "r2 = r2_score(targets_val, targets_pred)\n",
    "\n",
    "# Report\n",
    "print('MAE = %.2f eV' % mae)\n",
    "print('RMSE = %.2f eV' % rmse)\n",
    "print('R^2 = %.2f' % r2)\n",
    "\n",
    "# Plot\n",
    "lims = [-4, 2]\n",
    "grid = sns.jointplot(targets_val.reshape(-1), targets_pred,\n",
    "                     kind='hex',\n",
    "                     bins='log',\n",
    "                     extent=lims+lims)\n",
    "_ = grid.ax_joint.set_xlim(lims)\n",
    "_ = grid.ax_joint.set_ylim(lims)\n",
    "_ = grid.ax_joint.plot(lims, lims, '--')\n",
    "_ = grid.ax_joint.set_xlabel('DFT $\\Delta$E [eV]')\n",
    "_ = grid.ax_joint.set_ylabel('CGCNN $\\Delta$E [eV]')"
   ]
  },
  {
   "cell_type": "code",
   "execution_count": null,
   "metadata": {},
   "outputs": [],
   "source": []
  }
 ],
 "metadata": {
  "kernelspec": {
   "display_name": "gaspy_ktran",
   "language": "python",
   "name": "gaspy_ktran"
  },
  "language_info": {
   "codemirror_mode": {
    "name": "ipython",
    "version": 3
   },
   "file_extension": ".py",
   "mimetype": "text/x-python",
   "name": "python",
   "nbconvert_exporter": "python",
   "pygments_lexer": "ipython3",
   "version": "3.6.7"
  }
 },
 "nbformat": 4,
 "nbformat_minor": 4
}
