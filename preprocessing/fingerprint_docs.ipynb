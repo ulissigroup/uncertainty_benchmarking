{
 "cells": [
  {
   "cell_type": "markdown",
   "metadata": {},
   "source": [
    "Load the data in their raw json form. `docs.pkl` should have been created by `create_sdt.py`."
   ]
  },
  {
   "cell_type": "code",
   "execution_count": 1,
   "metadata": {},
   "outputs": [],
   "source": [
    "import pickle\n",
    "\n",
    "\n",
    "with open('docs.pkl', 'rb') as file_handle:\n",
    "    docs = pickle.load(file_handle)"
   ]
  },
  {
   "cell_type": "markdown",
   "metadata": {},
   "source": [
    "Turn the dictionaries into numpy arrays"
   ]
  },
  {
   "cell_type": "code",
   "execution_count": 2,
   "metadata": {},
   "outputs": [
    {
     "name": "stderr",
     "output_type": "stream",
     "text": [
      "0it [00:00, ?it/s]"
     ]
    },
    {
     "name": "stdout",
     "output_type": "stream",
     "text": [
      "Now pulling catalog documents...\n"
     ]
    },
    {
     "name": "stderr",
     "output_type": "stream",
     "text": [
      "16300018it [07:43, 35189.61it/s]\n",
      "/opt/conda/lib/python3.6/site-packages/numpy/core/fromnumeric.py:2909: RuntimeWarning: Mean of empty slice.\n",
      "  out=out, **kwargs)\n",
      "/opt/conda/lib/python3.6/site-packages/numpy/core/_methods.py:80: RuntimeWarning: invalid value encountered in double_scalars\n",
      "  ret = ret.dtype.type(ret / rcount)\n",
      "/home/jovyan/GASpy/GASpy_regressions/gaspy_regress/fingerprinters.py:248: RuntimeWarning: We do not have any energy data for S, so we set its median adsorption energy as the median of all energies\n",
      "  warnings.warn(message, RuntimeWarning)\n",
      "/home/jovyan/GASpy/GASpy_regressions/gaspy_regress/fingerprinters.py:248: RuntimeWarning: We do not have any energy data for Bi, so we set its median adsorption energy as the median of all energies\n",
      "  warnings.warn(message, RuntimeWarning)\n",
      "/home/jovyan/GASpy/GASpy_regressions/gaspy_regress/fingerprinters.py:248: RuntimeWarning: We do not have any energy data for Cl, so we set its median adsorption energy as the median of all energies\n",
      "  warnings.warn(message, RuntimeWarning)\n",
      "/home/jovyan/GASpy/GASpy_regressions/gaspy_regress/fingerprinters.py:248: RuntimeWarning: We do not have any energy data for Hg, so we set its median adsorption energy as the median of all energies\n",
      "  warnings.warn(message, RuntimeWarning)\n",
      "/home/jovyan/GASpy/GASpy_regressions/gaspy_regress/fingerprinters.py:248: RuntimeWarning: We do not have any energy data for P, so we set its median adsorption energy as the median of all energies\n",
      "  warnings.warn(message, RuntimeWarning)\n",
      "/home/jovyan/GASpy/GASpy_regressions/gaspy_regress/fingerprinters.py:248: RuntimeWarning: We do not have any energy data for C, so we set its median adsorption energy as the median of all energies\n",
      "  warnings.warn(message, RuntimeWarning)\n",
      "0it [00:00, ?it/s]"
     ]
    },
    {
     "name": "stdout",
     "output_type": "stream",
     "text": [
      "Now pulling catalog documents...\n"
     ]
    },
    {
     "name": "stderr",
     "output_type": "stream",
     "text": [
      "16300018it [07:58, 34088.46it/s]\n"
     ]
    }
   ],
   "source": [
    "from gaspy_regress import fingerprinters\n",
    "\n",
    "\n",
    "inner_fingerprinter = fingerprinters.InnerShellFingerprinter()\n",
    "outer_fingerprinter = fingerprinters.OuterShellFingerprinter()\n",
    "fingerprinter = fingerprinters.StackedFingerprinter(inner_fingerprinter, outer_fingerprinter)\n",
    "\n",
    "fingerprints = fingerprinter.fit_transform(docs)"
   ]
  },
  {
   "cell_type": "markdown",
   "metadata": {},
   "source": [
    "Save"
   ]
  },
  {
   "cell_type": "code",
   "execution_count": 3,
   "metadata": {},
   "outputs": [],
   "source": [
    "with open('fingerprints.pkl', 'wb') as file_handle:\n",
    "    pickle.dump(fingerprints, file_handle)"
   ]
  },
  {
   "cell_type": "code",
   "execution_count": null,
   "metadata": {},
   "outputs": [],
   "source": []
  }
 ],
 "metadata": {
  "kernelspec": {
   "display_name": "gaspy_regressions",
   "language": "python",
   "name": "gaspy_regressions"
  },
  "language_info": {
   "codemirror_mode": {
    "name": "ipython",
    "version": 3
   },
   "file_extension": ".py",
   "mimetype": "text/x-python",
   "name": "python",
   "nbconvert_exporter": "python",
   "pygments_lexer": "ipython3",
   "version": "3.6.3"
  }
 },
 "nbformat": 4,
 "nbformat_minor": 4
}
