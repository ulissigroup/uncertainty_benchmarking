{
 "cells": [
  {
   "cell_type": "markdown",
   "metadata": {},
   "source": [
    "First, let's open up the data we pulled from CatHub and poke around to see what's going on"
   ]
  },
  {
   "cell_type": "code",
   "execution_count": 1,
   "metadata": {},
   "outputs": [],
   "source": [
    "import pickle\n",
    "\n",
    "\n",
    "with open('cathub.pkl', 'rb') as file_handle:\n",
    "    all_data = pickle.load(file_handle)"
   ]
  },
  {
   "cell_type": "code",
   "execution_count": 2,
   "metadata": {},
   "outputs": [
    {
     "data": {
      "text/plain": [
       "{'Equation': 'H2(g) + 2.0* -> 2.0H*',\n",
       " 'coverages': None,\n",
       " 'dftCode': 'VASP.5.4.4',\n",
       " 'dftFunctional': 'SCAN',\n",
       " 'username': 'yasheng.maimaiti@gmail.com',\n",
       " 'pubId': 'SharadaAdsorption2019',\n",
       " 'systems': [Atoms(symbols='Ni16H', pbc=True, cell=[4.892061697, 4.892061697, 19.188815], constraint=FixAtoms(indices=[0, 1, 2, 3, 4, 5, 6, 7]), calculator=SinglePointCalculator(...)),\n",
       "  Atoms(symbols='H2', pbc=True, cell=[12.000000006, 12.000000006, 12.750645752], calculator=SinglePointCalculator(...)),\n",
       "  Atoms(symbols='Ni16', pbc=True, cell=[4.892061697, 4.892061697, 17.188815], constraint=FixAtoms(indices=[0, 1, 2, 3, 4, 5, 6, 7]), calculator=SinglePointCalculator(...))],\n",
       " 'energy': -1.2879526899999973}"
      ]
     },
     "execution_count": 2,
     "metadata": {},
     "output_type": "execute_result"
    }
   ],
   "source": [
    "docs = [doc for docs in all_data.values() for doc in docs]\n",
    "docs[0]"
   ]
  },
  {
   "cell_type": "code",
   "execution_count": 3,
   "metadata": {},
   "outputs": [
    {
     "data": {
      "text/plain": [
       "{'0.5H2(g) + * -> H*',\n",
       " '0.5N2(g) + * -> N*',\n",
       " '2.0H2O(g) + * -> OOH* + 1.5H2(g)',\n",
       " '2.0H2O(g) - 1.5H2(g) + * -> OOH*',\n",
       " 'CH2CH2* + H2(g) + * -> CH3CH2* + H*',\n",
       " 'CH4(g) - 2.0H2(g) + * -> C*',\n",
       " 'CO(g) + * -> CO*',\n",
       " 'H2(g) + 2.0* -> 2.0H*',\n",
       " 'H2O(g) - 0.5H2(g) + * -> OH*',\n",
       " 'H2O(g) - H2(g) + * -> O*'}"
      ]
     },
     "execution_count": 3,
     "metadata": {},
     "output_type": "execute_result"
    }
   ],
   "source": [
    "reactions = {doc['Equation'] for doc in docs}\n",
    "reactions"
   ]
  },
  {
   "cell_type": "code",
   "execution_count": 4,
   "metadata": {},
   "outputs": [
    {
     "data": {
      "text/plain": [
       "{'Quantum ESPRESSO 5.1',\n",
       " 'VASP',\n",
       " 'VASP 5.3.5',\n",
       " 'VASP 5.4.1',\n",
       " 'VASP 5.4.4',\n",
       " 'VASP-5.4.4',\n",
       " 'VASP.5.4.4'}"
      ]
     },
     "execution_count": 4,
     "metadata": {},
     "output_type": "execute_result"
    }
   ],
   "source": [
    "codes = {doc['dftCode'] for doc in docs}\n",
    "codes"
   ]
  },
  {
   "cell_type": "code",
   "execution_count": 5,
   "metadata": {},
   "outputs": [
    {
     "data": {
      "text/plain": [
       "{'BEEF-vdW',\n",
       " 'HSE06',\n",
       " 'PBE',\n",
       " 'PBE+U',\n",
       " 'PBE+U-500eV',\n",
       " 'PBE+U=1',\n",
       " 'PBE+U=3.32',\n",
       " 'RPBE',\n",
       " 'SCAN'}"
      ]
     },
     "execution_count": 5,
     "metadata": {},
     "output_type": "execute_result"
    }
   ],
   "source": [
    "functionals = {doc['dftFunctional'] for doc in docs}\n",
    "functionals"
   ]
  },
  {
   "cell_type": "markdown",
   "metadata": {},
   "source": [
    "Ok, let's profile how many documents we can find in each of the sub-categories we know matter."
   ]
  },
  {
   "cell_type": "code",
   "execution_count": 6,
   "metadata": {},
   "outputs": [
    {
     "name": "stdout",
     "output_type": "stream",
     "text": [
      "9300 documents for H2O(g) - H2(g) + * -> O* reaction\n",
      "10074 documents for 0.5H2(g) + * -> H* reaction\n",
      "9000 documents for 0.5N2(g) + * -> N* reaction\n",
      "1400 documents for H2O(g) - 0.5H2(g) + * -> OH* reaction\n",
      "219 documents for CH2CH2* + H2(g) + * -> CH3CH2* + H* reaction\n",
      "450 documents for CO(g) + * -> CO* reaction\n",
      "138 documents for 2.0H2O(g) - 1.5H2(g) + * -> OOH* reaction\n",
      "12 documents for 2.0H2O(g) + * -> OOH* + 1.5H2(g) reaction\n",
      "657 documents for H2(g) + 2.0* -> 2.0H* reaction\n",
      "6800 documents for CH4(g) - 2.0H2(g) + * -> C* reaction\n",
      "\n",
      "1860 documents for VASP 5.4.4 reaction\n",
      "1374 documents for VASP-5.4.4 reaction\n",
      "2709 documents for VASP reaction\n",
      "31558 documents for Quantum ESPRESSO 5.1 reaction\n",
      "186 documents for VASP 5.3.5 reaction\n",
      "273 documents for VASP.5.4.4 reaction\n",
      "90 documents for VASP 5.4.1 reaction\n",
      "\n",
      "1302 documents for PBE+U-500eV reaction\n",
      "9 documents for PBE+U=3.32 reaction\n",
      "108 documents for RPBE reaction\n",
      "434 documents for PBE reaction\n",
      "6 documents for HSE06 reaction\n",
      "273 documents for SCAN reaction\n",
      "4276 documents for PBE+U reaction\n",
      "186 documents for PBE+U=1 reaction\n",
      "31456 documents for BEEF-vdW reaction\n"
     ]
    }
   ],
   "source": [
    "for reaction in reactions:\n",
    "    _docs = [doc for doc in docs if doc['Equation'] == reaction]\n",
    "    print('%i documents for %s reaction' % (len(_docs), reaction))\n",
    "print()\n",
    "\n",
    "for code in codes:\n",
    "    _docs = [doc for doc in docs if doc['dftCode'] == code]\n",
    "    print('%i documents for %s reaction' % (len(_docs), code))\n",
    "print()\n",
    "\n",
    "for xc in functionals:\n",
    "    _docs = [doc for doc in docs if doc['dftFunctional'] == xc]\n",
    "    print('%i documents for %s reaction' % (len(_docs), xc))"
   ]
  },
  {
   "cell_type": "markdown",
   "metadata": {},
   "source": [
    "It looks like most of the data was calculated using Quantum Espresso with BEEF-vdW. Let's take a closer look at this subset of data and profile their chemistries and source publications."
   ]
  },
  {
   "cell_type": "code",
   "execution_count": 7,
   "metadata": {},
   "outputs": [
    {
     "name": "stdout",
     "output_type": "stream",
     "text": [
      "31456 QE-BEEF documents\n",
      "    3534 documents for H2O(g) - H2(g) + * -> O* reaction\n",
      "    10074 documents for 0.5H2(g) + * -> H* reaction\n",
      "    9000 documents for 0.5N2(g) + * -> N* reaction\n",
      "    1148 documents for H2O(g) - 0.5H2(g) + * -> OH* reaction\n",
      "    219 documents for CH2CH2* + H2(g) + * -> CH3CH2* + H* reaction\n",
      "    234 documents for CO(g) + * -> CO* reaction\n",
      "    9 documents for 2.0H2O(g) - 1.5H2(g) + * -> OOH* reaction\n",
      "    0 documents for 2.0H2O(g) + * -> OOH* + 1.5H2(g) reaction\n",
      "    438 documents for H2(g) + 2.0* -> 2.0H* reaction\n",
      "    6800 documents for CH4(g) - 2.0H2(g) + * -> C* reaction\n",
      "\n",
      "6 total publications\n",
      "    198 documents from SandbergStrongly2018\n",
      "    793 documents from HansenFirst2018\n",
      "    30420 documents from MamunHighT2019\n",
      "    18 documents from Unpublished\n",
      "    9 documents from Park2D2019\n",
      "    18 documents from ChanMolybdenum2014\n"
     ]
    }
   ],
   "source": [
    "_docs = [doc for doc in docs if (doc['dftCode'] == 'Quantum ESPRESSO 5.1' and\n",
    "                                 doc['dftFunctional'] == 'BEEF-vdW')]\n",
    "print('%i QE-BEEF documents' % len(_docs))\n",
    "\n",
    "for reaction in reactions:\n",
    "    __docs = [doc for doc in _docs if doc['Equation'] == reaction]\n",
    "    print('    %i documents for %s reaction' % (len(__docs), reaction))\n",
    "print()\n",
    "\n",
    "pubs = {doc['pubId'] for doc in _docs}\n",
    "print('%i total publications' % len(pubs))\n",
    "for pub in pubs:\n",
    "    __docs = [doc for doc in _docs if doc['pubId'] == pub]\n",
    "    print('    %i documents from %s' % (len(__docs), pub))"
   ]
  },
  {
   "cell_type": "markdown",
   "metadata": {},
   "source": [
    "Woah. It turns out that most of this stuff is from one publication. Let's see what reactions they are focusing on."
   ]
  },
  {
   "cell_type": "code",
   "execution_count": 8,
   "metadata": {},
   "outputs": [
    {
     "name": "stdout",
     "output_type": "stream",
     "text": [
      "30420 Mamun documents\n",
      "    3534 documents for H2O(g) - H2(g) + * -> O* reaction\n",
      "    10074 documents for 0.5H2(g) + * -> H* reaction\n",
      "    9000 documents for 0.5N2(g) + * -> N* reaction\n",
      "    1148 documents for H2O(g) - 0.5H2(g) + * -> OH* reaction\n",
      "    0 documents for CH2CH2* + H2(g) + * -> CH3CH2* + H* reaction\n",
      "    0 documents for CO(g) + * -> CO* reaction\n",
      "    0 documents for 2.0H2O(g) - 1.5H2(g) + * -> OOH* reaction\n",
      "    0 documents for 2.0H2O(g) + * -> OOH* + 1.5H2(g) reaction\n",
      "    0 documents for H2(g) + 2.0* -> 2.0H* reaction\n",
      "    6664 documents for CH4(g) - 2.0H2(g) + * -> C* reaction\n"
     ]
    }
   ],
   "source": [
    "_docs = [doc for doc in docs if (doc['pubId'] == 'MamunHighT2019' and\n",
    "                                 doc['dftCode'] == 'Quantum ESPRESSO 5.1' and\n",
    "                                 doc['dftFunctional'] == 'BEEF-vdW')]\n",
    "print('%i Mamun documents' % len(_docs))\n",
    "\n",
    "for reaction in reactions:\n",
    "    __docs = [doc for doc in _docs if doc['Equation'] == reaction]\n",
    "    print('    %i documents for %s reaction' % (len(__docs), reaction))"
   ]
  },
  {
   "cell_type": "markdown",
   "metadata": {},
   "source": [
    "Looks like we have C, N, H, O, and OH energies. Sounds good to me!"
   ]
  },
  {
   "cell_type": "code",
   "execution_count": null,
   "metadata": {},
   "outputs": [],
   "source": []
  }
 ],
 "metadata": {
  "kernelspec": {
   "display_name": "gaspy_ktran",
   "language": "python",
   "name": "gaspy_ktran"
  },
  "language_info": {
   "codemirror_mode": {
    "name": "ipython",
    "version": 3
   },
   "file_extension": ".py",
   "mimetype": "text/x-python",
   "name": "python",
   "nbconvert_exporter": "python",
   "pygments_lexer": "ipython3",
   "version": "3.6.7"
  }
 },
 "nbformat": 4,
 "nbformat_minor": 4
}
