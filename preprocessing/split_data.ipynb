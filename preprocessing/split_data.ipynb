{
 "cells": [
  {
   "cell_type": "markdown",
   "metadata": {},
   "source": [
    "This notebook loads the preprocessed data created by `create_sdt.py` and `fingerprint_docs.ipynb` and then splits it into train, validate, and test sets."
   ]
  },
  {
   "cell_type": "code",
   "execution_count": 1,
   "metadata": {},
   "outputs": [
    {
     "name": "stdout",
     "output_type": "stream",
     "text": [
      "17019 documents/data points\n"
     ]
    }
   ],
   "source": [
    "import pickle\n",
    "\n",
    "\n",
    "with open('docs.pkl', 'rb') as f:\n",
    "    docs = pickle.load(f)\n",
    "print('%i documents/data points' % len(docs))\n",
    "\n",
    "with open('sdt.pkl', 'rb') as f:\n",
    "    sdts = pickle.load(f)\n",
    "\n",
    "with open('fingerprints.pkl', 'rb') as file_handle:\n",
    "    fingerprints = pickle.load(file_handle)"
   ]
  },
  {
   "cell_type": "code",
   "execution_count": 2,
   "metadata": {},
   "outputs": [
    {
     "name": "stderr",
     "output_type": "stream",
     "text": [
      "/global/homes/k/ktran/miniconda3/envs/gaspy/lib/python3.6/site-packages/IPython/config.py:13: ShimWarning: The `IPython.config` package has been deprecated since IPython 4.0. You should import from traitlets.config instead.\n",
      "  \"You should import from traitlets.config instead.\", ShimWarning)\n",
      "/global/homes/k/ktran/miniconda3/envs/gaspy/lib/python3.6/site-packages/ipycache.py:17: UserWarning: IPython.utils.traitlets has moved to a top-level traitlets package.\n",
      "  from IPython.utils.traitlets import Unicode\n"
     ]
    }
   ],
   "source": [
    "%load_ext ipycache"
   ]
  },
  {
   "cell_type": "code",
   "execution_count": 3,
   "metadata": {},
   "outputs": [
    {
     "name": "stdout",
     "output_type": "stream",
     "text": [
      "[Saved variables 'docs_test, docs_train, docs_val, fingerprints_test, fingerprints_train, fingerprints_val, sdts_test, sdts_train, sdts_val, targets_test, targets_train, targets_val' to file '/global/u2/k/ktran/sandbox/2019/08_Aug/27_redo_ml_benchmarking/preprocessing/splits.pkl'.]\n"
     ]
    }
   ],
   "source": [
    "%%cache splits.pkl docs_train docs_val docs_test sdts_train sdts_val sdts_test fingerprints_train fingerprints_val fingerprints_test targets_train targets_val targets_test\n",
    "\n",
    "import numpy as np\n",
    "from sklearn.model_selection import train_test_split\n",
    "\n",
    "\n",
    "targets = np.array([doc['energy'] for doc in docs]).reshape(-1, 1)\n",
    "\n",
    "(docs_cv, docs_test,\n",
    " sdts_cv, sdts_test,\n",
    " fingerprints_cv, fingerprints_test,\n",
    " targets_cv, targets_test) = train_test_split(docs, sdts, fingerprints, targets, test_size=0.2)\n",
    "\n",
    "(docs_train, docs_val,\n",
    " sdts_train, sdts_val,\n",
    " fingerprints_train, fingerprints_val,\n",
    " targets_train, targets_val) = train_test_split(docs_cv, sdts_cv, fingerprints_cv, targets_cv, test_size=0.2)"
   ]
  },
  {
   "cell_type": "code",
   "execution_count": null,
   "metadata": {},
   "outputs": [],
   "source": []
  }
 ],
 "metadata": {
  "kernelspec": {
   "display_name": "gaspy_ktran",
   "language": "python",
   "name": "gaspy_ktran"
  },
  "language_info": {
   "codemirror_mode": {
    "name": "ipython",
    "version": 3
   },
   "file_extension": ".py",
   "mimetype": "text/x-python",
   "name": "python",
   "nbconvert_exporter": "python",
   "pygments_lexer": "ipython3",
   "version": "3.6.7"
  }
 },
 "nbformat": 4,
 "nbformat_minor": 4
}
