{
 "cells": [
  {
   "cell_type": "markdown",
   "metadata": {},
   "source": [
    "# GASdb\n",
    "Load the data in their raw json form. `docs.pkl` should have been created by `../pull_data/gaspy/pull.ipynb`."
   ]
  },
  {
   "cell_type": "code",
   "execution_count": 1,
   "metadata": {},
   "outputs": [],
   "source": [
    "import pickle\n",
    "\n",
    "\n",
    "with open('../pull_data/gaspy/docs.pkl', 'rb') as file_handle:\n",
    "    docs = pickle.load(file_handle)"
   ]
  },
  {
   "cell_type": "markdown",
   "metadata": {},
   "source": [
    "Turn the document dictionaries into numpy array fingerprints."
   ]
  },
  {
   "cell_type": "code",
   "execution_count": 2,
   "metadata": {
    "scrolled": true
   },
   "outputs": [
    {
     "name": "stderr",
     "output_type": "stream",
     "text": [
      "/home/GASpy/GASpy_regressions/gaspy_regress/fingerprinters.py:363: RuntimeWarning: We do not have any energy data for CO on B, so we set its median adsorption energy as the median of all CO energies\n",
      "  warnings.warn(message, RuntimeWarning)\n",
      "/home/GASpy/GASpy_regressions/gaspy_regress/fingerprinters.py:363: RuntimeWarning: We do not have any energy data for CO on Cl, so we set its median adsorption energy as the median of all CO energies\n",
      "  warnings.warn(message, RuntimeWarning)\n",
      "/home/GASpy/GASpy_regressions/gaspy_regress/fingerprinters.py:363: RuntimeWarning: We do not have any energy data for CO on S, so we set its median adsorption energy as the median of all CO energies\n",
      "  warnings.warn(message, RuntimeWarning)\n",
      "/home/GASpy/GASpy_regressions/gaspy_regress/fingerprinters.py:363: RuntimeWarning: We do not have any energy data for CO on C, so we set its median adsorption energy as the median of all CO energies\n",
      "  warnings.warn(message, RuntimeWarning)\n",
      "/home/GASpy/GASpy_regressions/gaspy_regress/fingerprinters.py:363: RuntimeWarning: We do not have any energy data for CO on Hg, so we set its median adsorption energy as the median of all CO energies\n",
      "  warnings.warn(message, RuntimeWarning)\n",
      "/home/GASpy/GASpy_regressions/gaspy_regress/fingerprinters.py:363: RuntimeWarning: We do not have any energy data for CO on P, so we set its median adsorption energy as the median of all CO energies\n",
      "  warnings.warn(message, RuntimeWarning)\n",
      "/home/GASpy/GASpy_regressions/gaspy_regress/fingerprinters.py:363: RuntimeWarning: We do not have any energy data for OH on Cr, so we set its median adsorption energy as the median of all OH energies\n",
      "  warnings.warn(message, RuntimeWarning)\n",
      "/home/GASpy/GASpy_regressions/gaspy_regress/fingerprinters.py:363: RuntimeWarning: We do not have any energy data for OH on Zr, so we set its median adsorption energy as the median of all OH energies\n",
      "  warnings.warn(message, RuntimeWarning)\n",
      "/home/GASpy/GASpy_regressions/gaspy_regress/fingerprinters.py:363: RuntimeWarning: We do not have any energy data for OH on K, so we set its median adsorption energy as the median of all OH energies\n",
      "  warnings.warn(message, RuntimeWarning)\n",
      "/home/GASpy/GASpy_regressions/gaspy_regress/fingerprinters.py:363: RuntimeWarning: We do not have any energy data for OH on Al, so we set its median adsorption energy as the median of all OH energies\n",
      "  warnings.warn(message, RuntimeWarning)\n",
      "/home/GASpy/GASpy_regressions/gaspy_regress/fingerprinters.py:363: RuntimeWarning: We do not have any energy data for OH on B, so we set its median adsorption energy as the median of all OH energies\n",
      "  warnings.warn(message, RuntimeWarning)\n",
      "/home/GASpy/GASpy_regressions/gaspy_regress/fingerprinters.py:363: RuntimeWarning: We do not have any energy data for OH on Y, so we set its median adsorption energy as the median of all OH energies\n",
      "  warnings.warn(message, RuntimeWarning)\n",
      "/home/GASpy/GASpy_regressions/gaspy_regress/fingerprinters.py:363: RuntimeWarning: We do not have any energy data for OH on Cl, so we set its median adsorption energy as the median of all OH energies\n",
      "  warnings.warn(message, RuntimeWarning)\n",
      "/home/GASpy/GASpy_regressions/gaspy_regress/fingerprinters.py:363: RuntimeWarning: We do not have any energy data for OH on Sb, so we set its median adsorption energy as the median of all OH energies\n",
      "  warnings.warn(message, RuntimeWarning)\n",
      "/home/GASpy/GASpy_regressions/gaspy_regress/fingerprinters.py:363: RuntimeWarning: We do not have any energy data for OH on Te, so we set its median adsorption energy as the median of all OH energies\n",
      "  warnings.warn(message, RuntimeWarning)\n",
      "/home/GASpy/GASpy_regressions/gaspy_regress/fingerprinters.py:363: RuntimeWarning: We do not have any energy data for OH on S, so we set its median adsorption energy as the median of all OH energies\n",
      "  warnings.warn(message, RuntimeWarning)\n",
      "/home/GASpy/GASpy_regressions/gaspy_regress/fingerprinters.py:363: RuntimeWarning: We do not have any energy data for OH on Ta, so we set its median adsorption energy as the median of all OH energies\n",
      "  warnings.warn(message, RuntimeWarning)\n",
      "/home/GASpy/GASpy_regressions/gaspy_regress/fingerprinters.py:363: RuntimeWarning: We do not have any energy data for OH on Bi, so we set its median adsorption energy as the median of all OH energies\n",
      "  warnings.warn(message, RuntimeWarning)\n",
      "/home/GASpy/GASpy_regressions/gaspy_regress/fingerprinters.py:363: RuntimeWarning: We do not have any energy data for OH on Na, so we set its median adsorption energy as the median of all OH energies\n",
      "  warnings.warn(message, RuntimeWarning)\n",
      "/home/GASpy/GASpy_regressions/gaspy_regress/fingerprinters.py:363: RuntimeWarning: We do not have any energy data for OH on Hf, so we set its median adsorption energy as the median of all OH energies\n",
      "  warnings.warn(message, RuntimeWarning)\n",
      "/home/GASpy/GASpy_regressions/gaspy_regress/fingerprinters.py:363: RuntimeWarning: We do not have any energy data for OH on C, so we set its median adsorption energy as the median of all OH energies\n",
      "  warnings.warn(message, RuntimeWarning)\n",
      "/home/GASpy/GASpy_regressions/gaspy_regress/fingerprinters.py:363: RuntimeWarning: We do not have any energy data for OH on Hg, so we set its median adsorption energy as the median of all OH energies\n",
      "  warnings.warn(message, RuntimeWarning)\n",
      "/home/GASpy/GASpy_regressions/gaspy_regress/fingerprinters.py:363: RuntimeWarning: We do not have any energy data for OH on Sr, so we set its median adsorption energy as the median of all OH energies\n",
      "  warnings.warn(message, RuntimeWarning)\n",
      "/home/GASpy/GASpy_regressions/gaspy_regress/fingerprinters.py:363: RuntimeWarning: We do not have any energy data for OH on P, so we set its median adsorption energy as the median of all OH energies\n",
      "  warnings.warn(message, RuntimeWarning)\n",
      "/home/GASpy/GASpy_regressions/gaspy_regress/fingerprinters.py:363: RuntimeWarning: We do not have any energy data for OH on Tc, so we set its median adsorption energy as the median of all OH energies\n",
      "  warnings.warn(message, RuntimeWarning)\n",
      "/home/GASpy/GASpy_regressions/gaspy_regress/fingerprinters.py:363: RuntimeWarning: We do not have any energy data for OH on H, so we set its median adsorption energy as the median of all OH energies\n",
      "  warnings.warn(message, RuntimeWarning)\n",
      "/home/GASpy/GASpy_regressions/gaspy_regress/fingerprinters.py:363: RuntimeWarning: We do not have any energy data for OH on Sc, so we set its median adsorption energy as the median of all OH energies\n",
      "  warnings.warn(message, RuntimeWarning)\n",
      "/home/GASpy/GASpy_regressions/gaspy_regress/fingerprinters.py:363: RuntimeWarning: We do not have any energy data for OH on Cs, so we set its median adsorption energy as the median of all OH energies\n",
      "  warnings.warn(message, RuntimeWarning)\n",
      "/home/GASpy/GASpy_regressions/gaspy_regress/fingerprinters.py:363: RuntimeWarning: We do not have any energy data for H on B, so we set its median adsorption energy as the median of all H energies\n",
      "  warnings.warn(message, RuntimeWarning)\n",
      "/home/GASpy/GASpy_regressions/gaspy_regress/fingerprinters.py:363: RuntimeWarning: We do not have any energy data for H on Cl, so we set its median adsorption energy as the median of all H energies\n",
      "  warnings.warn(message, RuntimeWarning)\n",
      "/home/GASpy/GASpy_regressions/gaspy_regress/fingerprinters.py:363: RuntimeWarning: We do not have any energy data for H on S, so we set its median adsorption energy as the median of all H energies\n",
      "  warnings.warn(message, RuntimeWarning)\n",
      "/home/GASpy/GASpy_regressions/gaspy_regress/fingerprinters.py:363: RuntimeWarning: We do not have any energy data for H on C, so we set its median adsorption energy as the median of all H energies\n",
      "  warnings.warn(message, RuntimeWarning)\n",
      "/home/GASpy/GASpy_regressions/gaspy_regress/fingerprinters.py:363: RuntimeWarning: We do not have any energy data for H on Hg, so we set its median adsorption energy as the median of all H energies\n",
      "  warnings.warn(message, RuntimeWarning)\n",
      "/home/GASpy/GASpy_regressions/gaspy_regress/fingerprinters.py:363: RuntimeWarning: We do not have any energy data for H on P, so we set its median adsorption energy as the median of all H energies\n",
      "  warnings.warn(message, RuntimeWarning)\n",
      "/home/GASpy/GASpy_regressions/gaspy_regress/fingerprinters.py:363: RuntimeWarning: We do not have any energy data for H on Cs, so we set its median adsorption energy as the median of all H energies\n",
      "  warnings.warn(message, RuntimeWarning)\n",
      "/home/GASpy/GASpy_regressions/gaspy_regress/fingerprinters.py:363: RuntimeWarning: We do not have any energy data for O on Cr, so we set its median adsorption energy as the median of all O energies\n",
      "  warnings.warn(message, RuntimeWarning)\n",
      "/home/GASpy/GASpy_regressions/gaspy_regress/fingerprinters.py:363: RuntimeWarning: We do not have any energy data for O on Zr, so we set its median adsorption energy as the median of all O energies\n",
      "  warnings.warn(message, RuntimeWarning)\n",
      "/home/GASpy/GASpy_regressions/gaspy_regress/fingerprinters.py:363: RuntimeWarning: We do not have any energy data for O on K, so we set its median adsorption energy as the median of all O energies\n",
      "  warnings.warn(message, RuntimeWarning)\n",
      "/home/GASpy/GASpy_regressions/gaspy_regress/fingerprinters.py:363: RuntimeWarning: We do not have any energy data for O on B, so we set its median adsorption energy as the median of all O energies\n",
      "  warnings.warn(message, RuntimeWarning)\n",
      "/home/GASpy/GASpy_regressions/gaspy_regress/fingerprinters.py:363: RuntimeWarning: We do not have any energy data for O on Y, so we set its median adsorption energy as the median of all O energies\n",
      "  warnings.warn(message, RuntimeWarning)\n",
      "/home/GASpy/GASpy_regressions/gaspy_regress/fingerprinters.py:363: RuntimeWarning: We do not have any energy data for O on Cl, so we set its median adsorption energy as the median of all O energies\n",
      "  warnings.warn(message, RuntimeWarning)\n",
      "/home/GASpy/GASpy_regressions/gaspy_regress/fingerprinters.py:363: RuntimeWarning: We do not have any energy data for O on Sb, so we set its median adsorption energy as the median of all O energies\n",
      "  warnings.warn(message, RuntimeWarning)\n",
      "/home/GASpy/GASpy_regressions/gaspy_regress/fingerprinters.py:363: RuntimeWarning: We do not have any energy data for O on Te, so we set its median adsorption energy as the median of all O energies\n",
      "  warnings.warn(message, RuntimeWarning)\n",
      "/home/GASpy/GASpy_regressions/gaspy_regress/fingerprinters.py:363: RuntimeWarning: We do not have any energy data for O on Ta, so we set its median adsorption energy as the median of all O energies\n",
      "  warnings.warn(message, RuntimeWarning)\n",
      "/home/GASpy/GASpy_regressions/gaspy_regress/fingerprinters.py:363: RuntimeWarning: We do not have any energy data for O on Bi, so we set its median adsorption energy as the median of all O energies\n",
      "  warnings.warn(message, RuntimeWarning)\n",
      "/home/GASpy/GASpy_regressions/gaspy_regress/fingerprinters.py:363: RuntimeWarning: We do not have any energy data for O on Hf, so we set its median adsorption energy as the median of all O energies\n",
      "  warnings.warn(message, RuntimeWarning)\n",
      "/home/GASpy/GASpy_regressions/gaspy_regress/fingerprinters.py:363: RuntimeWarning: We do not have any energy data for O on V, so we set its median adsorption energy as the median of all O energies\n",
      "  warnings.warn(message, RuntimeWarning)\n",
      "/home/GASpy/GASpy_regressions/gaspy_regress/fingerprinters.py:363: RuntimeWarning: We do not have any energy data for O on C, so we set its median adsorption energy as the median of all O energies\n",
      "  warnings.warn(message, RuntimeWarning)\n",
      "/home/GASpy/GASpy_regressions/gaspy_regress/fingerprinters.py:363: RuntimeWarning: We do not have any energy data for O on Hg, so we set its median adsorption energy as the median of all O energies\n",
      "  warnings.warn(message, RuntimeWarning)\n",
      "/home/GASpy/GASpy_regressions/gaspy_regress/fingerprinters.py:363: RuntimeWarning: We do not have any energy data for O on Sr, so we set its median adsorption energy as the median of all O energies\n",
      "  warnings.warn(message, RuntimeWarning)\n",
      "/home/GASpy/GASpy_regressions/gaspy_regress/fingerprinters.py:363: RuntimeWarning: We do not have any energy data for O on P, so we set its median adsorption energy as the median of all O energies\n",
      "  warnings.warn(message, RuntimeWarning)\n",
      "/home/GASpy/GASpy_regressions/gaspy_regress/fingerprinters.py:363: RuntimeWarning: We do not have any energy data for O on Tc, so we set its median adsorption energy as the median of all O energies\n",
      "  warnings.warn(message, RuntimeWarning)\n",
      "/home/GASpy/GASpy_regressions/gaspy_regress/fingerprinters.py:363: RuntimeWarning: We do not have any energy data for O on Sc, so we set its median adsorption energy as the median of all O energies\n",
      "  warnings.warn(message, RuntimeWarning)\n",
      "/home/GASpy/GASpy_regressions/gaspy_regress/fingerprinters.py:363: RuntimeWarning: We do not have any energy data for O on Cs, so we set its median adsorption energy as the median of all O energies\n",
      "  warnings.warn(message, RuntimeWarning)\n",
      "/home/GASpy/GASpy_regressions/gaspy_regress/fingerprinters.py:363: RuntimeWarning: We do not have any energy data for N on B, so we set its median adsorption energy as the median of all N energies\n",
      "  warnings.warn(message, RuntimeWarning)\n",
      "/home/GASpy/GASpy_regressions/gaspy_regress/fingerprinters.py:363: RuntimeWarning: We do not have any energy data for N on Cl, so we set its median adsorption energy as the median of all N energies\n",
      "  warnings.warn(message, RuntimeWarning)\n",
      "/home/GASpy/GASpy_regressions/gaspy_regress/fingerprinters.py:363: RuntimeWarning: We do not have any energy data for N on Bi, so we set its median adsorption energy as the median of all N energies\n",
      "  warnings.warn(message, RuntimeWarning)\n",
      "/home/GASpy/GASpy_regressions/gaspy_regress/fingerprinters.py:363: RuntimeWarning: We do not have any energy data for N on N, so we set its median adsorption energy as the median of all N energies\n",
      "  warnings.warn(message, RuntimeWarning)\n",
      "/home/GASpy/GASpy_regressions/gaspy_regress/fingerprinters.py:363: RuntimeWarning: We do not have any energy data for N on Hg, so we set its median adsorption energy as the median of all N energies\n",
      "  warnings.warn(message, RuntimeWarning)\n",
      "/home/GASpy/GASpy_regressions/gaspy_regress/fingerprinters.py:363: RuntimeWarning: We do not have any energy data for N on P, so we set its median adsorption energy as the median of all N energies\n",
      "  warnings.warn(message, RuntimeWarning)\n",
      "/home/GASpy/GASpy_regressions/gaspy_regress/fingerprinters.py:363: RuntimeWarning: We do not have any energy data for N on Cs, so we set its median adsorption energy as the median of all N energies\n",
      "  warnings.warn(message, RuntimeWarning)\n"
     ]
    }
   ],
   "source": [
    "from gaspy_regress import fingerprinters\n",
    "\n",
    "\n",
    "inner_fingerprinter = fingerprinters.InnerShellFingerprinter()\n",
    "outer_fingerprinter = fingerprinters.OuterShellFingerprinter()\n",
    "fingerprinter = fingerprinters.StackedFingerprinter(inner_fingerprinter, outer_fingerprinter)\n",
    "\n",
    "fingerprints = fingerprinter.fit_transform(docs)"
   ]
  },
  {
   "cell_type": "markdown",
   "metadata": {},
   "source": [
    "Save"
   ]
  },
  {
   "cell_type": "code",
   "execution_count": 3,
   "metadata": {},
   "outputs": [
    {
     "name": "stdout",
     "output_type": "stream",
     "text": [
      "(47279, 40)\n"
     ]
    }
   ],
   "source": [
    "print(fingerprints.shape)\n",
    "\n",
    "with open('fingerprints_gasdb.pkl', 'wb') as file_handle:\n",
    "    pickle.dump(fingerprints, file_handle)"
   ]
  },
  {
   "cell_type": "code",
   "execution_count": null,
   "metadata": {},
   "outputs": [],
   "source": []
  }
 ],
 "metadata": {
  "kernelspec": {
   "display_name": "gaspy_regressions_dev",
   "language": "python",
   "name": "gaspy_regressions_dev"
  },
  "language_info": {
   "codemirror_mode": {
    "name": "ipython",
    "version": 3
   },
   "file_extension": ".py",
   "mimetype": "text/x-python",
   "name": "python",
   "nbconvert_exporter": "python",
   "pygments_lexer": "ipython3",
   "version": "3.6.7"
  }
 },
 "nbformat": 4,
 "nbformat_minor": 4
}
