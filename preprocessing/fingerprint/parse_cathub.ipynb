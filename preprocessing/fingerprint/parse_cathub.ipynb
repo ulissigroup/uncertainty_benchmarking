{
 "cells": [
  {
   "cell_type": "markdown",
   "metadata": {},
   "source": [
    "We need neighbors and nearest-neighbors and whatnot in order to fingerprint. The data from Catalysis-Hub does not have that, so we have to get it ourselves. This notebook does this for us.\n",
    "# Initialize\n",
    "Load the data in their raw form. `cathub.pkl` should have been created by `../pull_data/catalysis-hub/pull.py`."
   ]
  },
  {
   "cell_type": "code",
   "execution_count": 1,
   "metadata": {},
   "outputs": [],
   "source": [
    "import pickle\n",
    "\n",
    "\n",
    "with open('../pull_data/catalysis-hub/cathub.pkl', 'rb') as file_handle:\n",
    "    cathub_data = pickle.load(file_handle)"
   ]
  },
  {
   "cell_type": "markdown",
   "metadata": {},
   "source": [
    "In `../pull_data/catalysis-hub/analyze_data.ipynb`, we learned that the majority of the Catalysis-Hub data came from one source that used Quantum Espresso 5.1 and the BEEF-vdW functional. Let's just grab all the data from there."
   ]
  },
  {
   "cell_type": "code",
   "execution_count": 2,
   "metadata": {},
   "outputs": [
    {
     "name": "stdout",
     "output_type": "stream",
     "text": [
      "30420 data points\n",
      "    1148 documents for OH\n",
      "    10074 documents for H\n",
      "    6664 documents for C\n",
      "    9000 documents for N\n",
      "    3534 documents for O\n"
     ]
    }
   ],
   "source": [
    "# Filter out the data from sources we don't plan to use\n",
    "docs = []\n",
    "for adsorbate, _docs in cathub_data.items():\n",
    "    for doc in _docs:\n",
    "        if doc['pubId'] == 'MamunHighT2019' and doc['dftCode'] == 'Quantum ESPRESSO 5.1' and doc['dftFunctional'] == 'BEEF-vdW':\n",
    "            doc['adsorbate'] = adsorbate\n",
    "            \n",
    "            # Delete some keys we don't care about\n",
    "            del doc['pubId']\n",
    "            del doc['dftCode']\n",
    "            del doc['dftFunctional']\n",
    "            del doc['Equation']\n",
    "            del doc['username']\n",
    "\n",
    "            docs.append(doc)\n",
    "print('%i data points' % len(docs))\n",
    "\n",
    "\n",
    "# Display all the adsorbates for clarity's sake\n",
    "adsorbates = {doc['adsorbate'] for doc in docs}\n",
    "for adsorbate in adsorbates:\n",
    "    _docs = [doc for doc in docs if doc['adsorbate'] == adsorbate]\n",
    "    print('    %i documents for %s' % (len(_docs), adsorbate))"
   ]
  },
  {
   "cell_type": "code",
   "execution_count": 3,
   "metadata": {},
   "outputs": [
    {
     "data": {
      "text/plain": [
       "{'coverages': '{\"H\": 0.25}',\n",
       " 'systems': [Atoms(symbols='Pt3TiPt3TiPt3Ti', pbc=True, cell=[[5.60132660361148, 0.0, 0.0], [-2.8006638018057, 4.85089165671743, 0.0], [0.0, 0.0, 24.5734632610122]], constraint=FixAtoms(indices=[0, 1, 2, 3, 4, 5, 6, 7])),\n",
       "  Atoms(symbols='H2', pbc=True, cell=[19.9999985846621, 19.9999985846621, 20.7371645324951]),\n",
       "  Atoms(symbols='Pt3Ti', pbc=True, cell=[3.96073671971094, 3.96073671971094, 3.96073671971094]),\n",
       "  Atoms(symbols='PtTiPt3TiPt3TiPt2H', pbc=True, cell=[[5.60132660361148, 0.0, 0.0], [2.8006638018057, 4.85089165671743, 0.0], [0.0, 0.0, 24.5734632610122]], constraint=FixAtoms(indices=[0, 1, 2, 3, 4, 5, 6, 7]))],\n",
       " 'energy': -0.2928098648580715,\n",
       " 'adsorbate': 'H'}"
      ]
     },
     "execution_count": 3,
     "metadata": {},
     "output_type": "execute_result"
    }
   ],
   "source": [
    "# Display one document (also for clarity)\n",
    "docs[0]"
   ]
  },
  {
   "cell_type": "markdown",
   "metadata": {},
   "source": [
    "# Finding neighbor shells\n",
    "The fingerprinting method we use in GASpy currently requires us to know the neighbors and the neighbors' neighbors. CatHub did not give that to us, so we use GASpy to figure it out."
   ]
  },
  {
   "cell_type": "code",
   "execution_count": 5,
   "metadata": {},
   "outputs": [
    {
     "name": "stderr",
     "output_type": "stream",
     "text": [
      "100%|██████████| 30420/30420 [04:36<00:00, 110.17it/s]\n"
     ]
    }
   ],
   "source": [
    "import numpy as np\n",
    "from gaspy.utils import multimap\n",
    "from gaspy.atoms_operators import fingerprint_adslab\n",
    "\n",
    "\n",
    "\n",
    "def fingerprint_doc(doc):\n",
    "    '''\n",
    "    Modifies a document from Catalysis-Hub so that it can be post-processed by GASpy_regressions\n",
    "    '''\n",
    "    doc = doc.copy()\n",
    "\n",
    "    # Assume that the largest atoms object is the adsorbate+slab system\n",
    "    all_atoms = doc['systems']\n",
    "    atoms_lens = [len(atoms) for atoms in all_atoms]\n",
    "    adslab_len = max(atoms_lens)\n",
    "    adslab_index = atoms_lens.index(adslab_len)\n",
    "    adslab = all_atoms[adslab_index]\n",
    "\n",
    "    # Assert that the adsorbates are always last in the atoms object\n",
    "    adsorbate_name = doc['adsorbate']\n",
    "    adsorbate = adslab[-len(adsorbate_name):]\n",
    "    assert str(adsorbate.symbols) == adsorbate_name\n",
    "    \n",
    "    # Now that we know the adsorbate atoms are last, let's tag them appropriately\n",
    "    tags = np.zeros(len(adslab), int)\n",
    "    tags[-len(adsorbate):] = 1\n",
    "    adslab.set_tags(tags)\n",
    "\n",
    "    # Now we can use GASpy to find the neighbors and such\n",
    "    fingerprint = fingerprint_adslab(adslab)\n",
    "    for key, value in fingerprint.items():\n",
    "        doc[key] = value\n",
    "\n",
    "    # We don't need the atoms objects anymore\n",
    "    del doc['systems']\n",
    "\n",
    "    return doc\n",
    "\n",
    "\n",
    "docs = multimap(fingerprint_doc, docs, processes=8, maxtasksperchild=100, chunksize=10, n_calcs=len(docs))"
   ]
  },
  {
   "cell_type": "code",
   "execution_count": 6,
   "metadata": {},
   "outputs": [
    {
     "data": {
      "text/plain": [
       "{'coverages': '{\"H\": 0.25}',\n",
       " 'energy': -0.2928098648580715,\n",
       " 'adsorbate': 'H',\n",
       " 'coordination': 'Pt-Pt',\n",
       " 'neighborcoord': ['Pt:Pt-Pt-Pt-Pt-Pt-Ti-Ti', 'Pt:Pt-Pt-Pt-Pt-Pt-Ti-Ti'],\n",
       " 'nextnearestcoordination': 'Pt-Pt-Pt-Ti'}"
      ]
     },
     "execution_count": 6,
     "metadata": {},
     "output_type": "execute_result"
    }
   ],
   "source": [
    "docs[0]"
   ]
  },
  {
   "cell_type": "markdown",
   "metadata": {},
   "source": [
    "Now save it"
   ]
  },
  {
   "cell_type": "code",
   "execution_count": 7,
   "metadata": {},
   "outputs": [],
   "source": [
    "import json\n",
    "\n",
    "\n",
    "with open('preprocessed_cathub.json', 'w') as file_handle:\n",
    "    json.dump(docs, file_handle)"
   ]
  },
  {
   "cell_type": "code",
   "execution_count": null,
   "metadata": {},
   "outputs": [],
   "source": []
  }
 ],
 "metadata": {
  "kernelspec": {
   "display_name": "ktran",
   "language": "python",
   "name": "ktran"
  },
  "language_info": {
   "codemirror_mode": {
    "name": "ipython",
    "version": 3
   },
   "file_extension": ".py",
   "mimetype": "text/x-python",
   "name": "python",
   "nbconvert_exporter": "python",
   "pygments_lexer": "ipython3",
   "version": "3.6.7"
  }
 },
 "nbformat": 4,
 "nbformat_minor": 4
}
