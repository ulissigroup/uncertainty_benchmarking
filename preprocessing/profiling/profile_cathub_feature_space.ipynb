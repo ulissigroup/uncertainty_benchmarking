{
 "cells": [
  {
   "cell_type": "markdown",
   "metadata": {},
   "source": [
    "Both CGCNN and GP modeling were too good at making predictions on CatHub's validation set. We double-checked the splitting and don't see any obvious leakage into the training set. This notebook documents our journey into figuring this out."
   ]
  },
  {
   "cell_type": "markdown",
   "metadata": {},
   "source": [
    "# Homogeneity\n",
    "First, make a function to calculate the lipschitz distribution of a dataset"
   ]
  },
  {
   "cell_type": "code",
   "execution_count": 1,
   "metadata": {},
   "outputs": [],
   "source": [
    "import warnings\n",
    "import itertools\n",
    "import multiprocess\n",
    "import numpy as np\n",
    "import pandas as pd\n",
    "import h5py\n",
    "from tqdm import tqdm_notebook\n",
    "\n",
    "\n",
    "def calculate_lipschitz(_docs, _features, suffix, force=False, processes=8):\n",
    "    '''\n",
    "    Calculates the Lipschitz values of a series of data.\n",
    "    \n",
    "    Args:\n",
    "        _docs       A list of dictionaries of parsed information\n",
    "        _features   A numpy array of features. Should map to `docs`\n",
    "        suffix      A string indicating the suffix you want to use\n",
    "                    for the cache of results that this function will use\n",
    "        force       A Boolean indicating whether or not you want to force\n",
    "                    this function to recalculate the Lipschitz values\n",
    "                    (as opposed to just loading a cache).\n",
    "        processes   An integeter indicating how many processes you want\n",
    "                    to use whem multithreading\n",
    "    Returns:\n",
    "        lips    A pandas.Series of all the Lipschitz values for each\n",
    "                combination of data points\n",
    "    '''\n",
    "    # If we're not forcing a re-do, then try to just load the data\n",
    "    if force is False:\n",
    "        try:\n",
    "            with h5py.File('lips_%s.hdf5' % suffix, 'r') as h5_handle:\n",
    "                lips = h5_handle['lips']\n",
    "                lips = pd.Series(lips)\n",
    "            return lips\n",
    "\n",
    "        # If the file is not there, then move on to the rest of this code,\n",
    "        # which will do the calculation\n",
    "        except OSError:\n",
    "            pass\n",
    "\n",
    "\n",
    "    # Push these big objects to global space for faster process sharing\n",
    "    global docs\n",
    "    global features\n",
    "    docs = _docs\n",
    "    features = _features\n",
    "\n",
    "    def __calculate_lipschitz(indices):\n",
    "        '''\n",
    "        Calculates the Lipschitz value between document with index i\n",
    "        and document with index j, where indices=(i, j). We make a\n",
    "        function so that we can multimap it.\n",
    "\n",
    "        Args:\n",
    "            indices 2-tuple contaning the indices of the documents you\n",
    "                    want to get the Lipschitz value for\n",
    "        Returns:\n",
    "            lipschitz   The Lipschitz value between document i and j\n",
    "        '''\n",
    "        i, j = indices\n",
    "        energy_diff = docs[i]['energy'] - docs[j]['energy']\n",
    "        feature_diff = features[i, :] - features[j, :]\n",
    "        lipschitz = abs(energy_diff) / np.linalg.norm(feature_diff, 2)\n",
    "        return lipschitz\n",
    "\n",
    "    # Figure out all the 2-pair combinations\n",
    "    index_combinations = itertools.combinations(range(len(docs)), 2)\n",
    "    n_docs = len(docs)\n",
    "    n_combinations = int((n_docs * (n_docs-1))/2)\n",
    "\n",
    "    # Ignore divide-by-zero warnings\n",
    "    with warnings.catch_warnings(): \n",
    "        warnings.simplefilter('ignore', category=RuntimeWarning)\n",
    "        # Multithreaded calculations\n",
    "        with multiprocess.Pool(processes=processes, maxtasksperchild=1000) as pool:\n",
    "            iterator = pool.imap(__calculate_lipschitz, index_combinations, chunksize=10000)\n",
    "            lips = list(tqdm_notebook(iterator, total=n_combinations, unit_scale=True))\n",
    "\n",
    "    # Filter out things with infinity\n",
    "    lips = [lip for lip in lips if lip != np.inf]\n",
    "\n",
    "    # Save the data\n",
    "    with h5py.File('lips_%s.hdf5' % suffix, 'w') as h5_handle:\n",
    "        h5_handle.create_dataset('lips', data=lips, dtype='f', compression='gzip')\n",
    "        lips = pd.Series(lips)\n",
    "\n",
    "    # Clean up and output\n",
    "    del globals()['docs']\n",
    "    del globals()['features']\n",
    "    return lips"
   ]
  },
  {
   "cell_type": "markdown",
   "metadata": {},
   "source": [
    "## CatHub\n",
    "Maybe the CatHub data has a lot of duplicate or similar datapoints, while GASpy does not. Lets figure out the homogeneity of both datasets and compare them."
   ]
  },
  {
   "cell_type": "code",
   "execution_count": 3,
   "metadata": {},
   "outputs": [],
   "source": [
    "import pickle\n",
    "\n",
    "\n",
    "# Load data\n",
    "with open('../splits_cathub.pkl', 'rb') as file_handle:\n",
    "    splits = pickle.load(file_handle)\n",
    "\n",
    "# Parse data\n",
    "docs_train = splits['docs_train']\n",
    "docs_val = splits['docs_val']\n",
    "fingerprints_train = splits['fingerprints_train']\n",
    "fingerprints_val = splits['fingerprints_val']"
   ]
  },
  {
   "cell_type": "code",
   "execution_count": 26,
   "metadata": {},
   "outputs": [
    {
     "name": "stdout",
     "output_type": "stream",
     "text": [
      "226896705 training pairs\n",
      "7989045 validation pairs\n"
     ]
    }
   ],
   "source": [
    "# Calculate Lipschitz distribution\n",
    "lips_val = calculate_lipschitz(docs_val, fingerprints_val, 'cathub_val')\n",
    "lips_train = calculate_lipschitz(docs_train, fingerprints_train, 'cathub_train')\n",
    "\n",
    "# We accidentally forgot to drop NaN values. Do so here.\n",
    "lips_val = lips_val.dropna()\n",
    "lips_train = lips_train.dropna()\n",
    "\n",
    "# Report number of pairs\n",
    "print('%i training pairs' % lips_train.shape[0])\n",
    "print('%i validation pairs' % lips_val.shape[0])"
   ]
  },
  {
   "cell_type": "code",
   "execution_count": 18,
   "metadata": {},
   "outputs": [
    {
     "data": {
      "image/png": "[encoded data removed]",
      "text/plain": [
       "<Figure size 432x288 with 1 Axes>"
      ]
     },
     "metadata": {
      "needs_background": "light"
     },
     "output_type": "display_data"
    }
   ],
   "source": [
    "%matplotlib inline\n",
    "import seaborn as sns\n",
    "\n",
    "\n",
    "# Plot the distributions\n",
    "ax = sns.distplot(lips_train, kde=False,\n",
    "                  bins=1000,\n",
    "                  norm_hist=True,\n",
    "                  label='training set'\n",
    "                 )\n",
    "ax = sns.distplot(lips_val, kde=False,\n",
    "                  bins=1000,\n",
    "                  norm_hist=True,\n",
    "                  label='validation set'\n",
    "                 )\n",
    "\n",
    "# Format\n",
    "#plot_lims = (0, 0.4)\n",
    "#_ = ax.set_xlim(plot_lims)\n",
    "_ = ax.set_xlabel('Lipschitz value')\n",
    "_ = ax.set_ylabel('Normalized count')\n",
    "_ = ax.set_title('Cathub data')\n",
    "_ = ax.legend()"
   ]
  },
  {
   "cell_type": "markdown",
   "metadata": {},
   "source": [
    "## GASpy\n",
    "Now let's look at our baseline"
   ]
  },
  {
   "cell_type": "code",
   "execution_count": 19,
   "metadata": {},
   "outputs": [],
   "source": [
    "import pickle\n",
    "\n",
    "\n",
    "# Load data\n",
    "with open('../splits_gasdb.pkl', 'rb') as file_handle:\n",
    "    splits = pickle.load(file_handle)\n",
    "\n",
    "# Parse data\n",
    "docs_train = splits['docs_train']\n",
    "docs_val = splits['docs_val']\n",
    "fingerprints_train = splits['fingerprints_train']\n",
    "fingerprints_val = splits['fingerprints_val']"
   ]
  },
  {
   "cell_type": "code",
   "execution_count": 27,
   "metadata": {},
   "outputs": [
    {
     "name": "stdout",
     "output_type": "stream",
     "text": [
      "523465781 training pairs\n",
      "21978904 validation pairs\n"
     ]
    }
   ],
   "source": [
    "# Calculate Lipschitz distribution\n",
    "lips_val = calculate_lipschitz(docs_val, fingerprints_val, 'gasdb_val')\n",
    "lips_train = calculate_lipschitz(docs_train, fingerprints_train, 'gasdb_train')\n",
    "\n",
    "# We accidentally forgot to drop NaN values. Do so here.\n",
    "lips_val = lips_val.dropna()\n",
    "lips_train = lips_train.dropna()\n",
    "\n",
    "# Report number of pairs\n",
    "print('%i training pairs' % lips_train.shape[0])\n",
    "print('%i validation pairs' % lips_val.shape[0])"
   ]
  },
  {
   "cell_type": "code",
   "execution_count": 32,
   "metadata": {},
   "outputs": [
    {
     "data": {
      "image/png": "[encoded data removed]",
      "text/plain": [
       "<Figure size 432x288 with 1 Axes>"
      ]
     },
     "metadata": {
      "needs_background": "light"
     },
     "output_type": "display_data"
    }
   ],
   "source": [
    "%matplotlib inline\n",
    "import seaborn as sns\n",
    "\n",
    "\n",
    "# Plot the distributions\n",
    "ax = sns.distplot(lips_train, kde=False,\n",
    "                  bins=1000,\n",
    "                  norm_hist=True,\n",
    "                  label='training set'\n",
    "                 )\n",
    "ax = sns.distplot(lips_val, kde=False,\n",
    "                  bins=1000,\n",
    "                  norm_hist=True,\n",
    "                  label='validation set'\n",
    "                 )\n",
    "\n",
    "# Format\n",
    "plot_lims = (0, 0.4)\n",
    "_ = ax.set_xlim(plot_lims)\n",
    "_ = ax.set_xlabel('Lipschitz value')\n",
    "_ = ax.set_ylabel('Normalized count')\n",
    "_ = ax.set_title('GASdb data')\n",
    "_ = ax.legend()"
   ]
  },
  {
   "cell_type": "code",
   "execution_count": null,
   "metadata": {},
   "outputs": [],
   "source": []
  }
 ],
 "metadata": {
  "kernelspec": {
   "display_name": "ktran",
   "language": "python",
   "name": "ktran"
  },
  "language_info": {
   "codemirror_mode": {
    "name": "ipython",
    "version": 3
   },
   "file_extension": ".py",
   "mimetype": "text/x-python",
   "name": "python",
   "nbconvert_exporter": "python",
   "pygments_lexer": "ipython3",
   "version": "3.6.7"
  }
 },
 "nbformat": 4,
 "nbformat_minor": 4
}
