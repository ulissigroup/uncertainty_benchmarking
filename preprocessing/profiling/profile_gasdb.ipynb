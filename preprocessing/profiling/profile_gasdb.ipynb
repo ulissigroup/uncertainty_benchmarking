{
 "cells": [
  {
   "cell_type": "markdown",
   "metadata": {},
   "source": [
    "A great suggestion from a reviewer was to provide a summary description of the types of surfaces, number of surfaces vs. number of sites, and the chemical and structural variety of data. This notebook documents how we found these figures.\n",
    "\n",
    "To make things simple, let's look at the entire dataset as a whole (without splits)."
   ]
  },
  {
   "cell_type": "markdown",
   "metadata": {},
   "source": [
    "# Data gathering/parsing"
   ]
  },
  {
   "cell_type": "code",
   "execution_count": 1,
   "metadata": {},
   "outputs": [],
   "source": [
    "import pickle\n",
    "\n",
    "\n",
    "with open('../pull_data/gaspy/docs.pkl', 'rb') as file_handle:\n",
    "    docs = pickle.load(file_handle)"
   ]
  },
  {
   "cell_type": "markdown",
   "metadata": {},
   "source": [
    "Our `docs` is a list of dictionaries from Mongo (thus the name \"doc\" for \"Mongo document\", which is just a json/dictionary). Each json contains information needed to re-create an `ase.Atoms` object. Let's just take those verbose keys out and replace them with actual `Atoms` objects now that our `docs` are dictionaries, not just jsons.\n",
    "\n",
    "And while we're at it, let's also add the bulk stoichiometry information."
   ]
  },
  {
   "cell_type": "code",
   "execution_count": 2,
   "metadata": {},
   "outputs": [
    {
     "data": {
      "application/vnd.jupyter.widget-view+json": {
       "model_id": "731f5bcedaf54e2084ef0f730c7054d9",
       "version_major": 2,
       "version_minor": 0
      },
      "text/plain": [
       "HBox(children=(IntProgress(value=0, description='Atoms', max=47279, style=ProgressStyle(description_width='ini…"
      ]
     },
     "metadata": {},
     "output_type": "display_data"
    },
    {
     "name": "stdout",
     "output_type": "stream",
     "text": [
      "\n"
     ]
    },
    {
     "data": {
      "application/vnd.jupyter.widget-view+json": {
       "model_id": "1f67b8848ac2434f8539fdac8872adf0",
       "version_major": 2,
       "version_minor": 0
      },
      "text/plain": [
       "HBox(children=(IntProgress(value=0, description='Stoichiometries', max=1952, style=ProgressStyle(description_w…"
      ]
     },
     "metadata": {},
     "output_type": "display_data"
    },
    {
     "name": "stdout",
     "output_type": "stream",
     "text": [
      "\n"
     ]
    },
    {
     "data": {
      "text/plain": [
       "{'mongo_id': ObjectId('5d83021130582ea2977b252c'),\n",
       " 'adsorbate': 'H',\n",
       " 'mpid': 'mp-1184026',\n",
       " 'miller': [1, 1, 1],\n",
       " 'shift': 0.0,\n",
       " 'top': False,\n",
       " 'coordination': 'Cu-Ru',\n",
       " 'neighborcoord': ['Ru:Cu-Cu-Cu-Cu-Cu-Cu', 'Cu:Cu-Cu-Cu-Cu-Ru-Ru'],\n",
       " 'energy': -0.49401431499998916,\n",
       " 'atoms': Atoms(symbols='HCu18Ru6Cu18Ru6', pbc=True, cell=[[9.18163332, 0.0, 0.0], [-4.59081666, 4.97102071, 0.58578594], [0.0, 0.0, 33.95945733]], initial_charges=..., initial_magmoms=..., momenta=..., tags=..., constraint=FixAtoms(indices=[1, 3, 4, 5, 7, 11, 13, 16, 17, 19, 20, 22, 25, 26, 27, 28, 29, 30, 31, 32, 33, 34, 35, 36, 37, 38, 39, 40, 41, 42, 43, 44, 45, 46, 47, 48]), calculator=SinglePointCalculator(...)),\n",
       " 'initial_configuration': Atoms(symbols='HCu18Ru6Cu18Ru6', pbc=True, cell=[[9.18163332, 0.0, 0.0], [-4.59081666, 4.97102071, 0.58578594], [0.0, 0.0, 33.95945733]], initial_charges=..., initial_magmoms=..., momenta=..., tags=..., constraint=FixAtoms(indices=[1, 3, 4, 5, 7, 11, 13, 16, 17, 19, 20, 22, 25, 26, 27, 28, 29, 30, 31, 32, 33, 34, 35, 36, 37, 38, 39, 40, 41, 42, 43, 44, 45, 46, 47, 48]), calculator=SinglePointCalculator(...)),\n",
       " 'stoich': {'Cu': 3.0, 'Ru': 1.0}}"
      ]
     },
     "execution_count": 2,
     "metadata": {},
     "output_type": "execute_result"
    }
   ],
   "source": [
    "from tqdm.notebook import tqdm\n",
    "from gaspy.mongo import make_atoms_from_doc\n",
    "from gaspy.atoms_operators import get_stoich_from_mpid\n",
    "\n",
    "\n",
    "# Convert json information to atoms object\n",
    "for doc in tqdm(docs, desc='Atoms'):\n",
    "    atoms = make_atoms_from_doc(doc)\n",
    "    doc['atoms'] = atoms\n",
    "    del doc['results']\n",
    "    del doc['calc']\n",
    "\n",
    "    # Do it again for the initial configuration\n",
    "    atoms_init = make_atoms_from_doc(doc['initial_configuration'])\n",
    "    doc['initial_configuration'] = atoms_init\n",
    "\n",
    "# Add stoichiometry info\n",
    "mpids = {doc['mpid'] for doc in docs}\n",
    "stoichs = {mpid: get_stoich_from_mpid(mpid) for mpid in tqdm(mpids, desc='Stoichiometries')}\n",
    "for doc in docs:\n",
    "    doc['stoich'] = stoichs[doc['mpid']]\n",
    "\n",
    "# Show an example of a doc\n",
    "docs[0]"
   ]
  },
  {
   "cell_type": "markdown",
   "metadata": {},
   "source": [
    "# Profiling\n",
    "Thngs we could show:\n",
    "- types of surfaces\n",
    "- number of surfaces\n",
    "- number of sites\n",
    "- chemical variety\n",
    "- structural variety"
   ]
  },
  {
   "cell_type": "code",
   "execution_count": 3,
   "metadata": {},
   "outputs": [
    {
     "name": "stdout",
     "output_type": "stream",
     "text": [
      "There are 42 different Miller indices:\n",
      "{(0, 0, 1),\n",
      " (0, 1, -2),\n",
      " (0, 1, -1),\n",
      " (0, 1, 0),\n",
      " (0, 1, 1),\n",
      " (0, 1, 2),\n",
      " (0, 2, 1),\n",
      " (1, -2, -2),\n",
      " (1, -2, -1),\n",
      " (1, -2, 0),\n",
      " (1, -2, 1),\n",
      " (1, -1, -2),\n",
      " (1, -1, -1),\n",
      " (1, -1, 0),\n",
      " (1, -1, 1),\n",
      " (1, 0, -2),\n",
      " (1, 0, -1),\n",
      " (1, 0, 0),\n",
      " (1, 0, 1),\n",
      " (1, 0, 2),\n",
      " (1, 1, -2),\n",
      " (1, 1, -1),\n",
      " (1, 1, 0),\n",
      " (1, 1, 1),\n",
      " (1, 1, 2),\n",
      " (1, 2, -2),\n",
      " (1, 2, -1),\n",
      " (1, 2, 0),\n",
      " (1, 2, 1),\n",
      " (1, 2, 2),\n",
      " (2, -1, 0),\n",
      " (2, -1, 1),\n",
      " (2, -1, 2),\n",
      " (2, 0, -1),\n",
      " (2, 0, 1),\n",
      " (2, 1, -2),\n",
      " (2, 1, -1),\n",
      " (2, 1, 0),\n",
      " (2, 1, 1),\n",
      " (2, 1, 2),\n",
      " (2, 2, -1),\n",
      " (2, 2, 1)}\n"
     ]
    }
   ],
   "source": [
    "import pprint\n",
    "\n",
    "\n",
    "millers = {tuple(doc['miller']) for doc in docs}\n",
    "print('There are %i different Miller indices:\\n%s' % (len(millers), pprint.pformat(millers)))"
   ]
  },
  {
   "cell_type": "code",
   "execution_count": 4,
   "metadata": {},
   "outputs": [
    {
     "name": "stdout",
     "output_type": "stream",
     "text": [
      "successfully loaded your custom FW_config.yaml!\n",
      "There are 9102 different surfaces.\n"
     ]
    }
   ],
   "source": [
    "from gaspy.gasdb import get_surface_from_doc\n",
    "\n",
    "\n",
    "surfaces = {get_surface_from_doc(doc) for doc in docs}\n",
    "print('There are %i different surfaces.' % len(surfaces))"
   ]
  },
  {
   "cell_type": "code",
   "execution_count": 5,
   "metadata": {},
   "outputs": [
    {
     "name": "stdout",
     "output_type": "stream",
     "text": [
      "There are 29843 different sites.\n"
     ]
    }
   ],
   "source": [
    "from gaspy.gasdb import round_\n",
    "\n",
    "\n",
    "def get_site_from_doc(doc):\n",
    "    '''\n",
    "    Modified version of `get_surface_from_doc`. Same idea, but more details.\n",
    "    '''\n",
    "    site = (doc['mpid'],\n",
    "            tuple(doc['miller']),\n",
    "            round_(doc['shift'], 2),\n",
    "            doc['top'],\n",
    "            tuple(doc['coordination'].split('-')),\n",
    "            tuple(tuple(ncoord_str.split(':')[-1].split('-'))\n",
    "                  for ncoord_str in doc['neighborcoord']))\n",
    "    return site\n",
    "\n",
    "\n",
    "sites = {get_site_from_doc(doc) for doc in docs}\n",
    "print('There are %i different sites.' % len(sites))"
   ]
  },
  {
   "cell_type": "code",
   "execution_count": 6,
   "metadata": {},
   "outputs": [
    {
     "name": "stdout",
     "output_type": "stream",
     "text": [
      "There are 61 bulk structures with 1 different components.\n",
      "There are 1057 bulk structures with 2 different components.\n",
      "There are 774 bulk structures with 3 different components.\n",
      "There are 54 bulk structures with 4 different components.\n",
      "There are 6 bulk structures with 5 different components.\n"
     ]
    }
   ],
   "source": [
    "from collections import defaultdict\n",
    "import pprint\n",
    "\n",
    "\n",
    "# Count bulks\n",
    "chemical_varieties = defaultdict(int)\n",
    "for stoich in stoichs.values():\n",
    "    n_elements = len(stoich)\n",
    "    chemical_varieties[n_elements] += 1\n",
    "for n_elements, n_bulks in sorted(chemical_varieties.items()):\n",
    "    print('There are %s bulk structures with %s different components.' % (n_bulks, n_elements))\n",
    "\n",
    "# Count calcs\n",
    "ncalcs_by_nelements = defaultdict(int)\n",
    "for doc in docs:\n",
    "    n_elements = len(stoichs[doc['mpid']])\n",
    "    ncalcs_by_nelements[n_elements] += 1"
   ]
  },
  {
   "cell_type": "code",
   "execution_count": 7,
   "metadata": {},
   "outputs": [
    {
     "data": {
      "application/vnd.jupyter.widget-view+json": {
       "model_id": "eed7033bc8b84e749508f810dfbd050b",
       "version_major": 2,
       "version_minor": 0
      },
      "text/plain": [
       "HBox(children=(IntProgress(value=0, max=1936), HTML(value='')))"
      ]
     },
     "metadata": {},
     "output_type": "display_data"
    },
    {
     "name": "stdout",
     "output_type": "stream",
     "text": [
      "We have 6889 different calculations with a hexagonal structure.\n",
      "We have 12339 different calculations with a orthorhombic structure.\n",
      "We have 6155 different calculations with a monoclinic structure.\n",
      "We have 9885 different calculations with a cubic structure.\n",
      "We have 3592 different calculations with a trigonal structure.\n",
      "We have 7670 different calculations with a tetragonal structure.\n",
      "We have 749 different calculations with a triclinic structure.\n"
     ]
    }
   ],
   "source": [
    "from collections import defaultdict\n",
    "import pprint\n",
    "from pymatgen.ext.matproj import MPRester\n",
    "from gaspy.utils import read_rc\n",
    "\n",
    "\n",
    "# Get the spacegroup information from Materials Project\n",
    "query = {'task_ids': {'$in': list(mpids)}}\n",
    "required_info = ['task_ids', 'spacegroup']\n",
    "with MPRester(read_rc('matproj_api_key')) as rester:\n",
    "    results = rester.query(query, required_info)\n",
    "\n",
    "# Parse the results and re-distribute to our docs\n",
    "space_groups = {mpid: result['spacegroup']['crystal_system']\n",
    "                for result in results\n",
    "                for mpid in result['task_ids']}\n",
    "structure_counts = defaultdict(int)\n",
    "for doc in docs:\n",
    "    crystal = space_groups[doc['mpid']]\n",
    "    doc['crystal'] = crystal\n",
    "    structure_counts[crystal] += 1\n",
    "\n",
    "# Report\n",
    "for crystal, count in structure_counts.items():\n",
    "    print('We have %i different calculations with a %s structure.' % (count, crystal))"
   ]
  },
  {
   "cell_type": "code",
   "execution_count": 8,
   "metadata": {},
   "outputs": [
    {
     "name": "stdout",
     "output_type": "stream",
     "text": [
      "There are 5 different adsorbates:\n",
      "H encompasses 21269 of the calculations.\n",
      "CO encompasses 18437 of the calculations.\n",
      "N encompasses 1594 of the calculations.\n",
      "OH encompasses 3464 of the calculations.\n",
      "O encompasses 2515 of the calculations.\n"
     ]
    }
   ],
   "source": [
    "from collections import defaultdict\n",
    "\n",
    "\n",
    "counts_by_ads = defaultdict(int)\n",
    "for doc in docs:\n",
    "    counts_by_ads[doc['adsorbate']] += 1\n",
    "\n",
    "print('There are %i different adsorbates:' % len(counts_by_ads))\n",
    "for ads, count in counts_by_ads.items():\n",
    "    print('%s encompasses %i of the calculations.' % (ads, count))"
   ]
  },
  {
   "cell_type": "markdown",
   "metadata": {},
   "source": [
    "Ok, so we got he basic information. Let's try and organize it a bit better."
   ]
  },
  {
   "cell_type": "code",
   "execution_count": 9,
   "metadata": {},
   "outputs": [
    {
     "name": "stdout",
     "output_type": "stream",
     "text": [
      "There are 7 different crystals and 47279 calculations herein\n",
      "  Within the hexagonal crystal, there are 215 different elemental combinations and 6889 calculations herein\n",
      "  Within the orthorhombic crystal, there are 319 different elemental combinations and 12339 calculations herein\n",
      "  Within the monoclinic crystal, there are 187 different elemental combinations and 6155 calculations herein\n",
      "  Within the cubic crystal, there are 458 different elemental combinations and 9885 calculations herein\n",
      "  Within the trigonal crystal, there are 100 different elemental combinations and 3592 calculations herein\n",
      "  Within the tetragonal crystal, there are 315 different elemental combinations and 7670 calculations herein\n",
      "  Within the triclinic crystal, there are 29 different elemental combinations and 749 calculations herein\n"
     ]
    }
   ],
   "source": [
    "from collections import defaultdict\n",
    "\n",
    "\n",
    "def recursive_defaultdict():\n",
    "    '''\n",
    "    Credit goes to Andrew Clark on StackOverflow\n",
    "    (https://stackoverflow.com/questions/19189274/nested-defaultdict-of-defaultdict)\n",
    "    '''\n",
    "    return defaultdict(recursive_defaultdict)\n",
    "\n",
    "\n",
    "# Organize everything into a dictionary tree\n",
    "dataset_description = recursive_defaultdict()\n",
    "for doc in docs:\n",
    "    adsorbate = doc['adsorbate']\n",
    "    site = doc['coordination']\n",
    "    surface = (tuple(doc['miller']), doc['shift'], doc['top'])\n",
    "    bulk = doc['mpid']\n",
    "    elements = tuple(stoichs[bulk].keys())\n",
    "    crystal = space_groups[bulk]\n",
    "    try:\n",
    "        dataset_description[crystal][elements][bulk][surface][site][adsorbate] += 1\n",
    "    except TypeError:\n",
    "        dataset_description[crystal][elements][bulk][surface][site][adsorbate] = 1\n",
    "\n",
    "\n",
    "def count_rec_dict(rec_dict):\n",
    "    count = 0\n",
    "    try:\n",
    "        for subdict in rec_dict.values():\n",
    "            count += count_rec_dict(subdict)\n",
    "    except AttributeError:\n",
    "        count += rec_dict\n",
    "    return count\n",
    "        \n",
    "\n",
    "# Report\n",
    "print('There are %i different crystals and %i calculations herein'\n",
    "      % (len(dataset_description), count_rec_dict(dataset_description)))\n",
    "\n",
    "for crystal, dict0 in dataset_description.items():\n",
    "    print('  Within the %s crystal, there are %i different elemental combinations and %i calculations herein'\n",
    "          % (crystal, len(dict0), count_rec_dict(dict0)))\n",
    "    \n",
    "    #for stoich, dict1 in dict0.items():\n",
    "    #    print('    Within the %s combination, there are %i different stoichiometries and %i calculations herein'\n",
    "    #          % (stoich, len(dict1), count_rec_dict(dict1)))\n",
    "    #    \n",
    "        #for bulk, dict2 in dict1.items():\n",
    "        #    print('      Within the %s bulk structure, there are %i different surfaces and %i calculations herein'\n",
    "        #          % (bulk, len(dict2), count_rec_dict(dict2)))\n",
    "        #        \n",
    "            #for surface, dict3 in dict2.items():\n",
    "            #    print('        Within the %s surface, there are %i different sites and %i calculations herein'\n",
    "            #          % (surface, len(dict3), count_rec_dict(dict3)))\n",
    "            #    \n",
    "                #for site, dict4 in dict3.items():\n",
    "                #    print('          Within the %s sites, there are %i different adsorbates and %i calculations herein'\n",
    "                #          % (site, len(dict4), count_rec_dict(dict4)))"
   ]
  },
  {
   "cell_type": "markdown",
   "metadata": {},
   "source": [
    "Ok, so that method of organization was way too spammy. Let's try it a different way."
   ]
  },
  {
   "cell_type": "code",
   "execution_count": 11,
   "metadata": {},
   "outputs": [
    {
     "name": "stdout",
     "output_type": "stream",
     "text": [
      "There are 47279 total calculations.\n",
      "There are 52 total elements in our dataset.\n",
      "There are 7 different crystal structures:\n",
      "    hexagonal structures encompass 6889 of the calculations.\n",
      "    orthorhombic structures encompass 12339 of the calculations.\n",
      "    monoclinic structures encompass 6155 of the calculations.\n",
      "    cubic structures encompass 9885 of the calculations.\n",
      "    trigonal structures encompass 3592 of the calculations.\n",
      "    tetragonal structures encompass 7670 of the calculations.\n",
      "    triclinic structures encompass 749 of the calculations.\n",
      "There are 1952 different bulk structures:\n",
      "    61 different bulk structures with 1 different components encompass 5844 of the calculations.\n",
      "    1057 different bulk structures with 2 different components encompass 31651 of the calculations.\n",
      "    774 different bulk structures with 3 different components encompass 9139 of the calculations.\n",
      "    54 different bulk structures with 4 different components encompass 636 of the calculations.\n",
      "    6 different bulk structures with 5 different components encompass 9 of the calculations.\n",
      "There are 9102 unique surfaces across all the structures.\n",
      "There are 29843 different sites across all the surfaces.\n",
      "There are 5 different adsorbates:\n",
      "    H structures encompass 21269 of the calculations.\n",
      "    CO structures encompass 18437 of the calculations.\n",
      "    N structures encompass 1594 of the calculations.\n",
      "    OH structures encompass 3464 of the calculations.\n",
      "    O structures encompass 2515 of the calculations.\n"
     ]
    }
   ],
   "source": [
    "import pprint\n",
    "\n",
    "\n",
    "print('There are %i total calculations.' % len(docs))\n",
    "\n",
    "elements = {element for stoich in stoichs.values() for element in stoich}\n",
    "print('There are %i total elements in our dataset.' % len(elements))\n",
    "\n",
    "print('There are %i different crystal structures:' % len(structure_counts))\n",
    "for crystal, count in structure_counts.items():\n",
    "    print('    %s structures encompass %i of the calculations.' % (crystal, count))\n",
    "\n",
    "\n",
    "print('There are %i different bulk structures:' % sum(chemical_varieties.values()))\n",
    "for n_elements, n_bulks in sorted(chemical_varieties.items()):\n",
    "    print('    %i different bulk structures with %i different components encompass %i of the calculations.'\n",
    "          % (n_bulks, n_elements, ncalcs_by_nelements[n_elements]))\n",
    "\n",
    "print('There are %i unique surfaces across all the structures.' % len(surfaces))\n",
    "\n",
    "print('There are %i different sites across all the surfaces.' % len(sites))\n",
    "\n",
    "print('There are %i different adsorbates:' % len(counts_by_ads))\n",
    "for ads, count in counts_by_ads.items():\n",
    "    print('    %s structures encompass %i of the calculations.' % (ads, count))"
   ]
  },
  {
   "cell_type": "code",
   "execution_count": null,
   "metadata": {},
   "outputs": [],
   "source": []
  }
 ],
 "metadata": {
  "kernelspec": {
   "display_name": "ktran",
   "language": "python",
   "name": "ktran"
  },
  "language_info": {
   "codemirror_mode": {
    "name": "ipython",
    "version": 3
   },
   "file_extension": ".py",
   "mimetype": "text/x-python",
   "name": "python",
   "nbconvert_exporter": "python",
   "pygments_lexer": "ipython3",
   "version": "3.6.7"
  }
 },
 "nbformat": 4,
 "nbformat_minor": 4
}
