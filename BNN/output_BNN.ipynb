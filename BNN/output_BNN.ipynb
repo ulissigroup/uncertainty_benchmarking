{
 "cells": [
  {
   "cell_type": "code",
   "execution_count": 1,
   "metadata": {},
   "outputs": [
    {
     "name": "stdout",
     "output_type": "stream",
     "text": [
      "env: CUDA_DEVICE_ORDER=PCI_BUS_ID\n",
      "env: CUDA_VISIBLE_DEVICES=1\n"
     ]
    }
   ],
   "source": [
    "%load_ext autoreload\n",
    "%autoreload\n",
    "import os\n",
    "import sys\n",
    "import numpy as np\n",
    "#Select which GPU to use if necessary\n",
    "%env CUDA_DEVICE_ORDER=PCI_BUS_ID\n",
    "%env CUDA_VISIBLE_DEVICES=1\n",
    "import mongo\n",
    "import time\n",
    "import pickle\n"
   ]
  },
  {
   "cell_type": "code",
   "execution_count": 2,
   "metadata": {},
   "outputs": [],
   "source": [
    "with open('./input/feature_dimensions.pkl', 'rb') as file_handle:\n",
    "    orig_atom_fea_len, nbr_fea_len = pickle.load(file_handle)\n",
    "\n",
    "with open('./input/splits_gasdb.pkl', 'rb') as file_handle:\n",
    "    splits = pickle.load(file_handle)\n",
    "\n",
    "docs_train = splits['docs_train']\n",
    "docs_val = splits['docs_val']\n",
    "sdts_train, sdts_val = splits['sdts_train'], splits['sdts_val']\n",
    "targets_train, targets_val = splits['targets_train'], splits['targets_val']"
   ]
  },
  {
   "cell_type": "code",
   "execution_count": 3,
   "metadata": {},
   "outputs": [
    {
     "name": "stdout",
     "output_type": "stream",
     "text": [
      "device cuda\n"
     ]
    }
   ],
   "source": [
    "from torch.optim import Adam, SGD\n",
    "from sklearn.model_selection import ShuffleSplit\n",
    "from skorch.callbacks import Checkpoint, LoadInitState #needs skorch 0.4.0, conda-forge version at 0.3.0 doesn't cut it\n",
    "\n",
    "from cgcnn.data import collate_pool, MergeDataset\n",
    "from cgcnn.model_pyro import CrystalGraphConvNet\n",
    "from skorch import NeuralNetRegressor\n",
    "import torch\n",
    "import skorch.callbacks.base\n",
    "\n",
    "\n",
    "cuda = torch.cuda.is_available()\n",
    "if cuda:\n",
    "    device = torch.device(\"cuda\")\n",
    "else:\n",
    "    device='cpu'\n",
    "print('device', device)"
   ]
  },
  {
   "cell_type": "code",
   "execution_count": 5,
   "metadata": {},
   "outputs": [],
   "source": [
    "from skorch.dataset import CVSplit\n",
    "from skorch.callbacks.lr_scheduler import WarmRestartLR, LRScheduler\n",
    "from adamwr.adamw import AdamW\n",
    "from adamwr.cosine_scheduler import CosineLRWithRestarts\n",
    "from sklearn.model_selection import train_test_split\n",
    "from skorch import callbacks\n",
    "# train_test_splitter = ShuffleSplit(test_size=0.25, random_state=42)\n",
    "\n",
    "#Make a checkpoint to save parameters every time there is a new best for validation lost\n",
    "cp = Checkpoint(monitor='valid_loss_best',fn_prefix='valid_best_')\n",
    "\n",
    "#Callback to load the checkpoint with the best validation loss at the end of training\n",
    "\n",
    "class train_end_load_best_valid_loss(skorch.callbacks.base.Callback):\n",
    "    def on_train_end(self, net, X, y):\n",
    "        net.load_params('valid_best_params.pt')\n",
    "        \n",
    "load_best_valid_loss = train_end_load_best_valid_loss()\n",
    "\n",
    "LR_schedule = callbacks.lr_scheduler.LRScheduler('MultiStepLR', milestones=[100], gamma=0.1)\n",
    "\n",
    "#############\n",
    "# To extract intermediate features, set the forward takes only the first return value to calculate loss\n",
    "class MyNet(NeuralNetRegressor):\n",
    "    def get_loss(self, y_pred, y_true, **kwargs):\n",
    "        y_pred = y_pred[0] if isinstance(y_pred, tuple) else y_pred  # discard the 2nd output\n",
    "        return super().get_loss(y_pred, y_true, **kwargs)\n",
    "## return features = net.forward(SDT_test)\n",
    "############\n",
    "\n",
    "net = MyNet(\n",
    "    CrystalGraphConvNet,\n",
    "    module__orig_atom_fea_len = orig_atom_fea_len,\n",
    "    module__nbr_fea_len = nbr_fea_len,\n",
    "    batch_size=214,\n",
    "    module__classification=False,\n",
    "    lr=0.0056,\n",
    "    max_epochs= 30, \n",
    "    module__atom_fea_len=46,\n",
    "    module__h_fea_len=83,\n",
    "    module__n_conv=8, #8\n",
    "    module__n_h=4,\n",
    "    optimizer__weight_decay=1e-5,\n",
    "    optimizer=AdamW,\n",
    "    iterator_train__pin_memory=True,\n",
    "    iterator_train__num_workers=0,\n",
    "    iterator_train__collate_fn = collate_pool,\n",
    "    iterator_valid__pin_memory=True,\n",
    "    iterator_valid__num_workers=0,\n",
    "    iterator_valid__collate_fn = collate_pool,\n",
    "    device=device,\n",
    "#     criterion=torch.nn.MSELoss,\n",
    "    criterion=torch.nn.L1Loss,\n",
    "    dataset=MergeDataset,\n",
    "#     train_split = CVSplit(cv=train_test_splitter),\n",
    "    callbacks=[cp, load_best_valid_loss, LR_schedule]\n",
    ")"
   ]
  },
  {
   "cell_type": "code",
   "execution_count": 6,
   "metadata": {
    "scrolled": true
   },
   "outputs": [
    {
     "data": {
      "text/plain": [
       "<class '__main__.MyNet'>[initialized](\n",
       "  module_=CrystalGraphConvNet(\n",
       "    (fcs_embedding): Linear(in_features=98, out_features=46, bias=True)\n",
       "    (convs): ModuleList(\n",
       "      (0): ConvLayer(\n",
       "        (fc_full): Linear(in_features=98, out_features=92, bias=True)\n",
       "        (sigmoid): Sigmoid()\n",
       "        (softplus1): Softplus(beta=1, threshold=20)\n",
       "        (bn1): BatchNorm1d(92, eps=1e-05, momentum=0.1, affine=True, track_running_stats=True)\n",
       "        (bn2): BatchNorm1d(46, eps=1e-05, momentum=0.1, affine=True, track_running_stats=True)\n",
       "        (softplus2): Softplus(beta=1, threshold=20)\n",
       "      )\n",
       "      (1): ConvLayer(\n",
       "        (fc_full): Linear(in_features=98, out_features=92, bias=True)\n",
       "        (sigmoid): Sigmoid()\n",
       "        (softplus1): Softplus(beta=1, threshold=20)\n",
       "        (bn1): BatchNorm1d(92, eps=1e-05, momentum=0.1, affine=True, track_running_stats=True)\n",
       "        (bn2): BatchNorm1d(46, eps=1e-05, momentum=0.1, affine=True, track_running_stats=True)\n",
       "        (softplus2): Softplus(beta=1, threshold=20)\n",
       "      )\n",
       "      (2): ConvLayer(\n",
       "        (fc_full): Linear(in_features=98, out_features=92, bias=True)\n",
       "        (sigmoid): Sigmoid()\n",
       "        (softplus1): Softplus(beta=1, threshold=20)\n",
       "        (bn1): BatchNorm1d(92, eps=1e-05, momentum=0.1, affine=True, track_running_stats=True)\n",
       "        (bn2): BatchNorm1d(46, eps=1e-05, momentum=0.1, affine=True, track_running_stats=True)\n",
       "        (softplus2): Softplus(beta=1, threshold=20)\n",
       "      )\n",
       "      (3): ConvLayer(\n",
       "        (fc_full): Linear(in_features=98, out_features=92, bias=True)\n",
       "        (sigmoid): Sigmoid()\n",
       "        (softplus1): Softplus(beta=1, threshold=20)\n",
       "        (bn1): BatchNorm1d(92, eps=1e-05, momentum=0.1, affine=True, track_running_stats=True)\n",
       "        (bn2): BatchNorm1d(46, eps=1e-05, momentum=0.1, affine=True, track_running_stats=True)\n",
       "        (softplus2): Softplus(beta=1, threshold=20)\n",
       "      )\n",
       "      (4): ConvLayer(\n",
       "        (fc_full): Linear(in_features=98, out_features=92, bias=True)\n",
       "        (sigmoid): Sigmoid()\n",
       "        (softplus1): Softplus(beta=1, threshold=20)\n",
       "        (bn1): BatchNorm1d(92, eps=1e-05, momentum=0.1, affine=True, track_running_stats=True)\n",
       "        (bn2): BatchNorm1d(46, eps=1e-05, momentum=0.1, affine=True, track_running_stats=True)\n",
       "        (softplus2): Softplus(beta=1, threshold=20)\n",
       "      )\n",
       "      (5): ConvLayer(\n",
       "        (fc_full): Linear(in_features=98, out_features=92, bias=True)\n",
       "        (sigmoid): Sigmoid()\n",
       "        (softplus1): Softplus(beta=1, threshold=20)\n",
       "        (bn1): BatchNorm1d(92, eps=1e-05, momentum=0.1, affine=True, track_running_stats=True)\n",
       "        (bn2): BatchNorm1d(46, eps=1e-05, momentum=0.1, affine=True, track_running_stats=True)\n",
       "        (softplus2): Softplus(beta=1, threshold=20)\n",
       "      )\n",
       "      (6): ConvLayer(\n",
       "        (fc_full): Linear(in_features=98, out_features=92, bias=True)\n",
       "        (sigmoid): Sigmoid()\n",
       "        (softplus1): Softplus(beta=1, threshold=20)\n",
       "        (bn1): BatchNorm1d(92, eps=1e-05, momentum=0.1, affine=True, track_running_stats=True)\n",
       "        (bn2): BatchNorm1d(46, eps=1e-05, momentum=0.1, affine=True, track_running_stats=True)\n",
       "        (softplus2): Softplus(beta=1, threshold=20)\n",
       "      )\n",
       "      (7): ConvLayer(\n",
       "        (fc_full): Linear(in_features=98, out_features=92, bias=True)\n",
       "        (sigmoid): Sigmoid()\n",
       "        (softplus1): Softplus(beta=1, threshold=20)\n",
       "        (bn1): BatchNorm1d(92, eps=1e-05, momentum=0.1, affine=True, track_running_stats=True)\n",
       "        (bn2): BatchNorm1d(46, eps=1e-05, momentum=0.1, affine=True, track_running_stats=True)\n",
       "        (softplus2): Softplus(beta=1, threshold=20)\n",
       "      )\n",
       "    )\n",
       "    (fcs_linear): Linear(in_features=46, out_features=83, bias=True)\n",
       "    (conv_to_fc_softplus): Softplus(beta=1, threshold=20)\n",
       "    (fcs0): Linear(in_features=83, out_features=83, bias=True)\n",
       "    (fcs1): Linear(in_features=83, out_features=83, bias=True)\n",
       "    (fcs2): Linear(in_features=83, out_features=83, bias=True)\n",
       "    (softplus0): Softplus(beta=1, threshold=20)\n",
       "    (fcs_out): Linear(in_features=83, out_features=1, bias=True)\n",
       "  ),\n",
       ")"
      ]
     },
     "execution_count": 6,
     "metadata": {},
     "output_type": "execute_result"
    }
   ],
   "source": [
    "net.initialize()\n",
    "# net.fit(SDT_training, target_training)"
   ]
  },
  {
   "cell_type": "code",
   "execution_count": 7,
   "metadata": {},
   "outputs": [],
   "source": [
    "# net.initialize()\n",
    "# net.load_params(f_history='valid_best_history.json',\n",
    "#                 f_optimizer= 'valid_best_optimizer.pt', \n",
    "#                 f_params='valid_best_params.pt')"
   ]
  },
  {
   "cell_type": "code",
   "execution_count": 8,
   "metadata": {},
   "outputs": [],
   "source": [
    "import pyro\n",
    "from pyro.distributions import Normal, Categorical, Uniform\n",
    "from pyro.infer import SVI, Trace_ELBO\n",
    "from pyro.optim import Adam, AdamW\n",
    "pyro.enable_validation(True)"
   ]
  },
  {
   "cell_type": "code",
   "execution_count": 9,
   "metadata": {},
   "outputs": [
    {
     "name": "stdout",
     "output_type": "stream",
     "text": [
      "fcs_embedding.weight torch.Size([46, 98])\n",
      "fcs_embedding.bias torch.Size([46])\n",
      "convs.0.fc_full.weight torch.Size([92, 98])\n",
      "convs.0.fc_full.bias torch.Size([92])\n",
      "convs.0.bn1.weight torch.Size([92])\n",
      "convs.0.bn1.bias torch.Size([92])\n",
      "convs.0.bn2.weight torch.Size([46])\n",
      "convs.0.bn2.bias torch.Size([46])\n",
      "convs.1.fc_full.weight torch.Size([92, 98])\n",
      "convs.1.fc_full.bias torch.Size([92])\n",
      "convs.1.bn1.weight torch.Size([92])\n",
      "convs.1.bn1.bias torch.Size([92])\n",
      "convs.1.bn2.weight torch.Size([46])\n",
      "convs.1.bn2.bias torch.Size([46])\n",
      "convs.2.fc_full.weight torch.Size([92, 98])\n",
      "convs.2.fc_full.bias torch.Size([92])\n",
      "convs.2.bn1.weight torch.Size([92])\n",
      "convs.2.bn1.bias torch.Size([92])\n",
      "convs.2.bn2.weight torch.Size([46])\n",
      "convs.2.bn2.bias torch.Size([46])\n",
      "convs.3.fc_full.weight torch.Size([92, 98])\n",
      "convs.3.fc_full.bias torch.Size([92])\n",
      "convs.3.bn1.weight torch.Size([92])\n",
      "convs.3.bn1.bias torch.Size([92])\n",
      "convs.3.bn2.weight torch.Size([46])\n",
      "convs.3.bn2.bias torch.Size([46])\n",
      "convs.4.fc_full.weight torch.Size([92, 98])\n",
      "convs.4.fc_full.bias torch.Size([92])\n",
      "convs.4.bn1.weight torch.Size([92])\n",
      "convs.4.bn1.bias torch.Size([92])\n",
      "convs.4.bn2.weight torch.Size([46])\n",
      "convs.4.bn2.bias torch.Size([46])\n",
      "convs.5.fc_full.weight torch.Size([92, 98])\n",
      "convs.5.fc_full.bias torch.Size([92])\n",
      "convs.5.bn1.weight torch.Size([92])\n",
      "convs.5.bn1.bias torch.Size([92])\n",
      "convs.5.bn2.weight torch.Size([46])\n",
      "convs.5.bn2.bias torch.Size([46])\n",
      "convs.6.fc_full.weight torch.Size([92, 98])\n",
      "convs.6.fc_full.bias torch.Size([92])\n",
      "convs.6.bn1.weight torch.Size([92])\n",
      "convs.6.bn1.bias torch.Size([92])\n",
      "convs.6.bn2.weight torch.Size([46])\n",
      "convs.6.bn2.bias torch.Size([46])\n",
      "convs.7.fc_full.weight torch.Size([92, 98])\n",
      "convs.7.fc_full.bias torch.Size([92])\n",
      "convs.7.bn1.weight torch.Size([92])\n",
      "convs.7.bn1.bias torch.Size([92])\n",
      "convs.7.bn2.weight torch.Size([46])\n",
      "convs.7.bn2.bias torch.Size([46])\n",
      "fcs_linear.weight torch.Size([83, 46])\n",
      "fcs_linear.bias torch.Size([83])\n",
      "fcs0.weight torch.Size([83, 83])\n",
      "fcs0.bias torch.Size([83])\n",
      "fcs1.weight torch.Size([83, 83])\n",
      "fcs1.bias torch.Size([83])\n",
      "fcs2.weight torch.Size([83, 83])\n",
      "fcs2.bias torch.Size([83])\n",
      "fcs_out.weight torch.Size([1, 83])\n",
      "fcs_out.bias torch.Size([1])\n"
     ]
    }
   ],
   "source": [
    "for n, p in net.module_.named_parameters():\n",
    "    print(n, p.shape)"
   ]
  },
  {
   "cell_type": "code",
   "execution_count": 10,
   "metadata": {},
   "outputs": [],
   "source": [
    "def model(x_data, y_data):\n",
    "    priors = dict()\n",
    "    for n, p in net.module_.named_parameters():\n",
    "        if \"fcs\" in n:\n",
    "            i = 2\n",
    "        elif \"conv\" in n and \"fc_full\" in n:\n",
    "            i = 2\n",
    "        elif \"conv\" in n and \"bn\" in n:\n",
    "            i = 1\n",
    "\n",
    "        if \"weight\" in n:\n",
    "            priors[n] = pyro.distributions.Normal(\n",
    "                    loc   = torch.zeros_like(p),\n",
    "                    scale = torch.ones_like(p)).independent(i)\n",
    "        elif \"bias\" in n:\n",
    "            priors[n] = pyro.distributions.Normal(\n",
    "                    loc   = torch.zeros_like(p),\n",
    "                    scale = torch.ones_like(p)).independent(1)\n",
    "    # lift module parameters to random variables sampled from the priors\n",
    "    dist = {\"fcs_out.weight\": priors[\"fcs_out.weight\"], \"fcs_out.bias\": priors[\"fcs_out.bias\"]}\n",
    "\n",
    "    lifted_module = pyro.random_module(\"module\", net.module_, dist)\n",
    "    # sample a regressor (which also samples w and b)\n",
    "    lifted_reg_model = lifted_module()\n",
    "    with pyro.iarange(\"map\", len(x_data)):\n",
    "#     with pyro.plate(\"map\", N):\n",
    "        predicted_target = lifted_reg_model(x_data, y_data)\n",
    "        # condition on the observed data\n",
    "        pyro.sample(\"obs\",\n",
    "                    Normal(predicted_target, 0.1*torch.ones_like(torch.tensor(y_data))).independent(2),\n",
    "                    obs=y_data)"
   ]
  },
  {
   "cell_type": "code",
   "execution_count": 11,
   "metadata": {},
   "outputs": [],
   "source": [
    "softplus = torch.nn.Softplus()\n",
    "\n",
    "def guide(x_data, y_data):\n",
    "\n",
    "    priors = dict()\n",
    "    for n, p in net.module_.named_parameters():\n",
    "        if \"fcs\" in n:\n",
    "            i = 2\n",
    "        elif \"conv\" in n and \"fc_full\" in n:\n",
    "            i = 2\n",
    "        elif \"conv\" in n and \"bn\" in n:\n",
    "            i = 1\n",
    "\n",
    "        if \"weight\" in n:\n",
    "            loc   = pyro.param(\"mu_\"    + n, torch.randn_like(p))\n",
    "            scale = torch.abs(pyro.param(\"sigma_\" + n, softplus(torch.randn_like(p))))\n",
    "            priors[n] = pyro.distributions.Normal(loc = loc, scale = scale).independent(i)\n",
    "        elif \"bias\" in n:\n",
    "            loc       = pyro.param(\"mu_\"    + n, torch.randn_like(p))\n",
    "            scale     = torch.abs(pyro.param(\"sigma_\" + n, softplus(torch.randn_like(p))))\n",
    "            priors[n] = pyro.distributions.Normal(loc = loc, scale = scale).independent(1)\n",
    "                \n",
    "    dist = {\"fcs_out.weight\": priors[\"fcs_out.weight\"], \"fcs_out.bias\": priors[\"fcs_out.bias\"]}\n",
    "    lifted_module = pyro.random_module(\"module\", net.module_, dist)\n",
    "    # sample a regressor (which also samples w and b)\n",
    "    return lifted_module()"
   ]
  },
  {
   "cell_type": "code",
   "execution_count": 12,
   "metadata": {},
   "outputs": [],
   "source": [
    "batch_size = 48\n",
    "batch_x_train, batch_y_train = [],[]\n",
    "batch_train, batch_test =[],[]\n",
    "\n",
    "for i in range(0, len(sdts_train), batch_size):\n",
    "    batch_x_train.append(sdts_train[i:i+batch_size])\n",
    "    batch_y_train.append(targets_train[i:i+batch_size])\n",
    "    batch_train.append((sdts_train[i:i+batch_size], targets_train[i:i+batch_size]))\n",
    "    \n",
    "batch_x_test, batch_y_test = [],[]\n",
    "for i in range(0, len(sdts_val), batch_size):\n",
    "    batch_x_test.append(sdts_val[i:i+batch_size])\n",
    "    batch_y_test.append(targets_val[i:i+batch_size])\n",
    "    batch_test.append((sdts_val[i:i+batch_size], targets_val[i:i+batch_size]))"
   ]
  },
  {
   "cell_type": "code",
   "execution_count": null,
   "metadata": {
    "scrolled": true
   },
   "outputs": [
    {
     "name": "stderr",
     "output_type": "stream",
     "text": [
      "/home/junwoony/miniconda3/envs/schnet2/lib/python3.7/site-packages/pyro/util.py:181: UserWarning: Found non-auxiliary vars in guide but not model, consider marking these infer={'is_auxiliary': True}:\n",
      "{'module$$$fcs_out.weight', 'module$$$fcs_out.bias'}\n",
      "  guide_vars - aux_vars - model_vars))\n"
     ]
    },
    {
     "name": "stdout",
     "output_type": "stream",
     "text": [
      "parameters updated\n",
      "Epoch  0  Loss  -4.25997543912606\n",
      "parameters updated\n",
      "Epoch  1  Loss  -5.619051945401438\n",
      "parameters updated\n",
      "Epoch  2  Loss  -6.260936514844028\n",
      "parameters updated\n",
      "Epoch  3  Loss  -6.704517710263784\n",
      "parameters updated\n",
      "Epoch  4  Loss  -7.054422508510179\n",
      "parameters updated\n",
      "Epoch  5  Loss  -7.356000734225071\n",
      "parameters updated\n",
      "Epoch  6  Loss  -7.620799767801208\n",
      "parameters updated\n",
      "Epoch  7  Loss  -7.861200002853425\n",
      "parameters updated\n",
      "Epoch  8  Loss  -8.082013416092822\n",
      "parameters updated\n",
      "Epoch  9  Loss  -8.268404664825002\n",
      "parameters updated\n",
      "Epoch  10  Loss  -8.459646023330304\n",
      "parameters updated\n",
      "Epoch  11  Loss  -8.623120161890155\n",
      "parameters updated\n",
      "Epoch  12  Loss  -8.768469090404114\n",
      "parameters updated\n",
      "Epoch  13  Loss  -8.890801217110313\n",
      "parameters updated\n",
      "Epoch  14  Loss  -9.01894212088135\n",
      "parameters updated\n",
      "Epoch  15  Loss  -9.137344940825908\n",
      "parameters updated\n",
      "Epoch  16  Loss  -9.238469567949181\n",
      "parameters updated\n",
      "Epoch  17  Loss  -9.327477515055099\n",
      "parameters updated\n",
      "Epoch  18  Loss  -9.423617905579302\n",
      "parameters updated\n",
      "Epoch  19  Loss  -9.5011528286512\n",
      "parameters updated\n",
      "Epoch  20  Loss  -9.59032555408054\n",
      "parameters updated\n",
      "Epoch  21  Loss  -9.66483754217818\n",
      "parameters updated\n",
      "Epoch  22  Loss  -9.713035408787933\n",
      "parameters updated\n",
      "Epoch  23  Loss  -9.778463294035337\n",
      "parameters updated\n",
      "Epoch  24  Loss  -9.833285544246408\n",
      "parameters updated\n",
      "Epoch  25  Loss  -9.879286854437835\n",
      "parameters updated\n",
      "Epoch  26  Loss  -9.92237588004249\n",
      "parameters updated\n",
      "Epoch  27  Loss  -9.981353656025288\n",
      "parameters updated\n",
      "Epoch  28  Loss  -10.011874226587489\n",
      "parameters updated\n",
      "Epoch  29  Loss  -10.046825805388679\n",
      "parameters updated\n",
      "Epoch  30  Loss  -10.068743454739154\n",
      "parameters updated\n",
      "Epoch  31  Loss  -10.115114663365546\n",
      "parameters updated\n",
      "Epoch  32  Loss  -10.140518052199482\n",
      "parameters updated\n",
      "Epoch  33  Loss  -10.163446397450405\n",
      "parameters updated\n",
      "Epoch  34  Loss  -10.199651605616747\n",
      "parameters updated\n",
      "Epoch  35  Loss  -10.221330358887851\n"
     ]
    }
   ],
   "source": [
    "import tqdm\n",
    "from sklearn.metrics import mean_absolute_error\n",
    "\n",
    "num_iterations = 1000\n",
    "loss = 0\n",
    "start_loss = 30\n",
    "epoch = 0\n",
    "lr = 0.01\n",
    "# optimizer = Adam({\"lr\":lr})\n",
    "optimizer = AdamW({\"lr\":lr})\n",
    "\n",
    "svi = SVI(model, guide, optimizer, loss=Trace_ELBO())\n",
    "\n",
    "for j in range(num_iterations):\n",
    "    loss = 0\n",
    "    for batch_id, data in enumerate(batch_train):\n",
    "#         datasetlist = MergeDataset(data[0], data[1])\n",
    "#         merged_data = collate_pool(datasetlist)\n",
    "        loss += svi.step(data[0], torch.tensor(data[1]))\n",
    "    normalizer_train = len(sdts_train)\n",
    "    total_epoch_loss_train = loss / normalizer_train\n",
    "    \n",
    "    if total_epoch_loss_train < start_loss:\n",
    "        print(\"parameters updated\")\n",
    "        pyro.get_param_store().save(\"./param/practice.save\")\n",
    "        start_loss = total_epoch_loss_train\n",
    "        \n",
    "    if epoch == 100:\n",
    "        lr = lr*0.8\n",
    "        print(\"learning rate decreased\")\n",
    "        optimizer = Adam({\"lr\":lr})\n",
    "        svi = SVI(model, guide, optimizer, loss=Trace_ELBO())\n",
    "        epoch = 0\n",
    "    epoch += 1\n",
    "    \n",
    "    if lr <= lr*(0.8)**5:\n",
    "        lr = 0.008\n",
    "        print(\"learning rate increased\")\n",
    "        optimizer = Adam({\"lr\":lr})\n",
    "        svi = SVI(model, guide, optimizer, loss=Trace_ELBO())\n",
    "#     pred = []\n",
    "#     true=[]\n",
    "#     models = guide(None,None)\n",
    "#     for batch_id, data_test in enumerate(batch_test):\n",
    "#         pred.append(models(data_test[0], data_test[1]).cpu().detach())\n",
    "#         true.append(torch.tensor(data_test[1]))\n",
    "#     # Should I have a separate validation set for this? Or it's fine to use test set?\n",
    "#     # or just based on the loss value\n",
    "#     MAE = mean_absolute_error(torch.cat(true), torch.cat(pred))\n",
    "    print(\"Epoch \", j, \" Loss \", total_epoch_loss_train)#, \"MAE\", MAE)\n"
   ]
  },
  {
   "cell_type": "code",
   "execution_count": 18,
   "metadata": {},
   "outputs": [],
   "source": [
    "pyro.get_param_store().load(\"./param/practice2.save\")\n"
   ]
  },
  {
   "cell_type": "code",
   "execution_count": 19,
   "metadata": {
    "scrolled": true
   },
   "outputs": [],
   "source": [
    "num_samples = 20\n",
    "sampled_models = [guide(None, None) for _ in range(num_samples)]"
   ]
  },
  {
   "cell_type": "code",
   "execution_count": 21,
   "metadata": {
    "scrolled": true
   },
   "outputs": [],
   "source": [
    "from sklearn.metrics import mean_absolute_error\n",
    "\n",
    "predictions = []\n",
    "labels = []\n",
    "MAE = []\n",
    "for model in sampled_models:\n",
    "    pred = []\n",
    "    true = []\n",
    "#     for batch_id, data_test in enumerate(test_loader):\n",
    "    for batch_id, data_test in enumerate(batch_test):\n",
    "        pred.append(model(data_test[0], data_test[1]).cpu().detach())\n",
    "        true.append(torch.tensor(data_test[1]))\n",
    "    mae = mean_absolute_error(torch.cat(true), torch.cat(pred))\n",
    "    predictions.append(torch.cat(pred).numpy())\n",
    "    labels.append(torch.cat(true).numpy())\n",
    "    MAE.append(mae)"
   ]
  },
  {
   "cell_type": "code",
   "execution_count": 23,
   "metadata": {},
   "outputs": [
    {
     "name": "stdout",
     "output_type": "stream",
     "text": [
      "MAE = 0.20 eV\n",
      "RMSE = 0.34 eV\n",
      "R^2 = 0.82\n"
     ]
    },
    {
     "data": {
      "image/png": "[encoded data removed]",
      "text/plain": [
       "<Figure size 432x432 with 3 Axes>"
      ]
     },
     "metadata": {
      "needs_background": "light"
     },
     "output_type": "display_data"
    }
   ],
   "source": [
    "%matplotlib inline\n",
    "import seaborn as sns\n",
    "import numpy as np\n",
    "from sklearn.metrics import mean_absolute_error, mean_squared_error, r2_score\n",
    "# import seaborn as sns\n",
    "from collections import defaultdict\n",
    "from matplotlib import pyplot as plt\n",
    "from IPython.display import clear_output\n",
    "\n",
    "targets_pred = predictions[int(np.argmin(MAE))].flatten() #torch.cat(pred).view(-1)\n",
    "targets_val = labels[int(np.argmin(MAE))].flatten() #torch.cat(true).view(-1)\n",
    "\n",
    "mae = mean_absolute_error(targets_val, targets_pred)\n",
    "rmse = np.sqrt(mean_squared_error(targets_val, targets_pred))\n",
    "r2 = r2_score(targets_val, targets_pred)\n",
    "\n",
    "# Report\n",
    "print('MAE = %.2f eV' % mae)\n",
    "print('RMSE = %.2f eV' % rmse)\n",
    "print('R^2 = %.2f' % r2)\n",
    "\n",
    "# Plot\n",
    "lims = [-4, 2]\n",
    "grid = sns.jointplot(targets_val.reshape(-1), targets_pred,\n",
    "                     kind='hex',\n",
    "                     bins='log',\n",
    "                     extent=lims+lims)\n",
    "_ = grid.ax_joint.set_xlim(lims)\n",
    "_ = grid.ax_joint.set_ylim(lims)\n",
    "_ = grid.ax_joint.plot(lims, lims, '--')\n",
    "_ = grid.ax_joint.set_xlabel('DFT $\\Delta$E [eV]')\n",
    "_ = grid.ax_joint.set_ylabel('CGCNN $\\Delta$E [eV]')"
   ]
  },
  {
   "cell_type": "code",
   "execution_count": 24,
   "metadata": {},
   "outputs": [
    {
     "name": "stdout",
     "output_type": "stream",
     "text": [
      "res -0.05843751984948993\n",
      "stderr 0.0047368472\n"
     ]
    },
    {
     "data": {
      "application/vnd.jupyter.widget-view+json": {
       "model_id": "2105b573334c4d8e867c386053645872",
       "version_major": 2,
       "version_minor": 0
      },
      "text/plain": [
       "HBox(children=(IntProgress(value=0, description='Calibration', max=20, style=ProgressStyle(description_width='…"
      ]
     },
     "metadata": {},
     "output_type": "display_data"
    },
    {
     "name": "stdout",
     "output_type": "stream",
     "text": [
      "\n"
     ]
    }
   ],
   "source": [
    "# Calibration\n",
    "\n",
    "import numpy as np\n",
    "from scipy import stats\n",
    "from tqdm import tqdm_notebook\n",
    "\n",
    "residuals = (targets_pred - targets_val)#.numpy()\n",
    "standard_errors = np.std(predictions, axis=0) \n",
    "print('res', np.mean(residuals))\n",
    "print('stderr', np.mean(standard_errors))\n",
    "\n",
    "def calculate_density(percentile):\n",
    "    num_within_quantile = 0\n",
    "    for se, resid in zip(standard_errors, residuals):\n",
    "        norm = stats.norm(loc=0, scale=se)\n",
    "        lower_bound = norm.ppf(0.5-percentile/2)\n",
    "        upper_bound = norm.ppf(0.5+percentile/2)\n",
    "        if lower_bound <= resid <= upper_bound:\n",
    "            num_within_quantile += 1\n",
    "    density = num_within_quantile / len(residuals)\n",
    "    return density\n",
    "\n",
    "predicted_pi = np.linspace(0, 1, 20)\n",
    "observed_pi = [calculate_density(quantile)\n",
    "               for quantile in tqdm_notebook(predicted_pi, desc='Calibration')]"
   ]
  },
  {
   "cell_type": "code",
   "execution_count": 25,
   "metadata": {},
   "outputs": [
    {
     "name": "stdout",
     "output_type": "stream",
     "text": [
      "Calibration factor = -0.46\n",
      "Sharpness = 0.01 eV\n"
     ]
    },
    {
     "data": {
      "image/png": "[encoded data removed]",
      "text/plain": [
       "<Figure size 288x288 with 1 Axes>"
      ]
     },
     "metadata": {
      "needs_background": "light"
     },
     "output_type": "display_data"
    }
   ],
   "source": [
    "# Plotting Calibration\n",
    "\n",
    "%matplotlib inline\n",
    "import numpy as np\n",
    "from scipy import integrate\n",
    "from matplotlib import pyplot as plt\n",
    "import seaborn as sns\n",
    "\n",
    "\n",
    "# Plot the calibration curve\n",
    "fig = plt.figure(figsize=(4, 4))\n",
    "ax_ideal = sns.lineplot([0, 1], [0, 1], label='ideal')\n",
    "_ = ax_ideal.lines[0].set_linestyle('--')\n",
    "ax_gp = sns.lineplot(predicted_pi, observed_pi, label='delta-cgcnn-mean')\n",
    "_ = ax_gp.set_xlabel('Expected prediction interval')\n",
    "_ = ax_gp.set_ylabel('Observed prediction interval')\n",
    "_ = ax_gp.set_xlim([0, 1])\n",
    "_ = ax_gp.set_ylim([0, 1])\n",
    "\n",
    "# Report the calibration factor\n",
    "actual_calibration_area = integrate.trapz(y=observed_pi, x=predicted_pi)\n",
    "ideal_calibration_area = integrate.trapz(y=predicted_pi, x=predicted_pi)\n",
    "calibration_factor = actual_calibration_area - ideal_calibration_area\n",
    "print('Calibration factor = %.2f' % calibration_factor)\n",
    "\n",
    "# Report sharpness\n",
    "sharpness = np.sqrt(np.mean(standard_errors**2))\n",
    "print('Sharpness = %.2f eV' % sharpness)"
   ]
  },
  {
   "cell_type": "code",
   "execution_count": null,
   "metadata": {},
   "outputs": [],
   "source": []
  }
 ],
 "metadata": {
  "kernelspec": {
   "display_name": "Python 3",
   "language": "python",
   "name": "python3"
  },
  "language_info": {
   "codemirror_mode": {
    "name": "ipython",
    "version": 3
   },
   "file_extension": ".py",
   "mimetype": "text/x-python",
   "name": "python",
   "nbconvert_exporter": "python",
   "pygments_lexer": "ipython3",
   "version": "3.7.3"
  }
 },
 "nbformat": 4,
 "nbformat_minor": 2
}
