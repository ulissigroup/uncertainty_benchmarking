{
 "cells": [
  {
   "cell_type": "markdown",
   "metadata": {},
   "source": [
    "# Initialization"
   ]
  },
  {
   "cell_type": "markdown",
   "metadata": {},
   "source": [
    "Automatically search for an NVIDIA GPU and use it. If not, then use CPU"
   ]
  },
  {
   "cell_type": "code",
   "execution_count": 5,
   "metadata": {},
   "outputs": [
    {
     "name": "stdout",
     "output_type": "stream",
     "text": [
      "Using GPU\n"
     ]
    }
   ],
   "source": [
    "import torch\n",
    "\n",
    "\n",
    "if torch.cuda.is_available():\n",
    "    device = torch.device('cuda')\n",
    "    print('Using GPU')\n",
    "else:\n",
    "    device = 'cpu'\n",
    "    print('Using CPU')"
   ]
  },
  {
   "cell_type": "markdown",
   "metadata": {},
   "source": [
    "Load all of our preprocessed and split data from our cache"
   ]
  },
  {
   "cell_type": "code",
   "execution_count": 22,
   "metadata": {},
   "outputs": [],
   "source": [
    "import pickle\n",
    "\n",
    "\n",
    "with open('../preprocessing/sdt/feature_dimensions.pkl', 'rb') as file_handle:\n",
    "    orig_atom_fea_len, nbr_fea_len = pickle.load(file_handle)\n",
    "\n",
    "with open('../preprocessing/splits.pkl', 'rb') as file_handle:\n",
    "    splits = pickle.load(file_handle)\n",
    "\n",
    "sdts_train, sdts_val = splits['sdts_train'], splits['sdts_val']\n",
    "targets_train, targets_val = splits['targets_train'], splits['targets_val']"
   ]
  },
  {
   "cell_type": "code",
   "execution_count": 51,
   "metadata": {},
   "outputs": [],
   "source": [
    "err_start_ind = int(.9 * len(sdts_train))\n",
    "\n",
    "sdts_err = sdts_train[err_start_ind:]\n",
    "sdts_train = sdts_train[:err_start_ind]\n",
    "\n",
    "targets_err_true = targets_train[err_start_ind:]\n",
    "targets_train = targets_train[:err_start_ind]"
   ]
  },
  {
   "cell_type": "markdown",
   "metadata": {},
   "source": [
    "Initialize the CGCNN `net` class"
   ]
  },
  {
   "cell_type": "code",
   "execution_count": 34,
   "metadata": {},
   "outputs": [],
   "source": [
    "from torch.optim import Adam\n",
    "import torch\n",
    "import skorch.callbacks.base\n",
    "from skorch import callbacks  # needs skorch >= 0.4  \n",
    "from skorch import NeuralNetRegressor\n",
    "from skorch.dataset import CVSplit\n",
    "from cgcnn.model import CrystalGraphConvNet\n",
    "from cgcnn.data import collate_pool, MergeDataset\n",
    "\n",
    "\n",
    "# Callback to checkpoint parameters every time there is a new best for validation loss\n",
    "cp = callbacks.Checkpoint(monitor='valid_loss_best', fn_prefix='valid_best_')\n",
    "\n",
    "# Callback to load the checkpoint with the best validation loss at the end of training\n",
    "class train_end_load_best_valid_loss(callbacks.base.Callback):\n",
    "    def on_train_end(self, net, X, y):\n",
    "        net.load_params('valid_best_params.pt')\n",
    "load_best_valid_loss = train_end_load_best_valid_loss()\n",
    "\n",
    "# Callback to set the learning rate dynamically\n",
    "LR_schedule = callbacks.lr_scheduler.LRScheduler('MultiStepLR', milestones=[100], gamma=0.1)\n",
    "\n",
    "net = NeuralNetRegressor(\n",
    "    CrystalGraphConvNet,\n",
    "    module__orig_atom_fea_len=orig_atom_fea_len,\n",
    "    module__nbr_fea_len=nbr_fea_len,\n",
    "    batch_size=214,\n",
    "    module__classification=False,\n",
    "    lr=0.0056,\n",
    "    max_epochs=150,\n",
    "    module__atom_fea_len=46,\n",
    "    module__h_fea_len=83,\n",
    "    module__n_conv=8,\n",
    "    module__n_h=4,\n",
    "    optimizer=Adam,\n",
    "    iterator_train__pin_memory=True,\n",
    "    iterator_train__num_workers=0,\n",
    "    iterator_train__collate_fn=collate_pool,\n",
    "    iterator_train__shuffle=True,\n",
    "    iterator_valid__pin_memory=True,\n",
    "    iterator_valid__num_workers=0,\n",
    "    iterator_valid__collate_fn=collate_pool,\n",
    "    iterator_valid__shuffle=False,\n",
    "    device=device,\n",
    "    criterion=torch.nn.L1Loss,\n",
    "    dataset=MergeDataset,\n",
    "    callbacks=[cp, load_best_valid_loss, LR_schedule]\n",
    ")"
   ]
  },
  {
   "cell_type": "markdown",
   "metadata": {},
   "source": [
    "# Training"
   ]
  },
  {
   "cell_type": "markdown",
   "metadata": {},
   "source": [
    "We can train a new model..."
   ]
  },
  {
   "cell_type": "code",
   "execution_count": null,
   "metadata": {
    "scrolled": false
   },
   "outputs": [
    {
     "name": "stdout",
     "output_type": "stream",
     "text": [
      "Re-initializing module because the following parameters were re-set: atom_fea_len, classification, h_fea_len, n_conv, n_h, nbr_fea_len, orig_atom_fea_len.\n",
      "Re-initializing optimizer.\n",
      "Re-initializing module because the following parameters were re-set: atom_fea_len, classification, h_fea_len, n_conv, n_h, nbr_fea_len, orig_atom_fea_len.\n",
      "Re-initializing optimizer.\n",
      "  epoch    train_loss    valid_loss    cp      dur\n",
      "-------  ------------  ------------  ----  -------\n",
      "      1        \u001b[36m0.4992\u001b[0m        \u001b[32m0.5059\u001b[0m     +  12.4081\n",
      "      2        \u001b[36m0.2944\u001b[0m        0.6004        12.3168\n",
      "      3        \u001b[36m0.2544\u001b[0m        \u001b[32m0.3860\u001b[0m     +  12.2828\n",
      "      4        0.2630        \u001b[32m0.2554\u001b[0m     +  12.2862\n",
      "      5        \u001b[36m0.2431\u001b[0m        \u001b[32m0.2448\u001b[0m     +  12.2394\n",
      "      6        0.2623        0.2849        12.3199\n",
      "      7        0.2519        0.2500        12.1701\n",
      "      8        0.2508        \u001b[32m0.2341\u001b[0m     +  12.2372\n",
      "      9        \u001b[36m0.2270\u001b[0m        0.2825        12.2982\n",
      "     10        \u001b[36m0.2268\u001b[0m        0.2359        12.2340\n",
      "     11        \u001b[36m0.2247\u001b[0m        0.3052        12.1993\n",
      "     12        0.2271        0.3081        12.2626\n",
      "     13        \u001b[36m0.2044\u001b[0m        \u001b[32m0.2179\u001b[0m     +  12.3369\n",
      "     14        0.2160        0.2949        12.2604\n",
      "     15        0.2179        0.2440        12.2375\n",
      "     16        \u001b[36m0.1953\u001b[0m        0.2325        12.2316\n",
      "     17        0.2101        0.2238        12.2819\n",
      "     18        0.2275        0.2679        12.3583\n",
      "     19        \u001b[36m0.1870\u001b[0m        \u001b[32m0.2168\u001b[0m     +  12.3236\n",
      "     20        0.2443        0.2616        12.2698\n",
      "     21        0.2059        0.2510        12.2494\n",
      "     22        \u001b[36m0.1695\u001b[0m        0.2768        12.2584\n",
      "     23        0.1994        \u001b[32m0.2050\u001b[0m     +  12.3165\n",
      "     24        0.1795        0.2173        12.3713\n",
      "     25        0.1957        0.2213        12.2580\n",
      "     26        0.2011        0.2902        12.2507\n",
      "     27        0.1982        0.2565        12.2561\n",
      "     28        0.1826        0.2440        12.3375\n",
      "     29        0.1835        0.2132        12.3934\n",
      "     30        0.1962        0.2362        12.3274\n",
      "     31        0.2483        0.2285        12.2969\n",
      "     32        0.1906        0.2988        12.2672\n",
      "     33        \u001b[36m0.1622\u001b[0m        \u001b[32m0.2019\u001b[0m     +  12.3344\n",
      "     34        0.1790        0.2100        12.4073\n",
      "     35        0.1975        0.2298        12.3261\n",
      "     36        0.1795        \u001b[32m0.1992\u001b[0m     +  12.2800\n",
      "     37        \u001b[36m0.1596\u001b[0m        0.2138        12.2975\n",
      "     38        0.1844        \u001b[32m0.1970\u001b[0m     +  12.3138\n",
      "     39        0.1768        0.2126        12.3877\n",
      "     40        0.2050        0.2162        12.3568\n",
      "     41        0.1900        0.2373        12.2966\n",
      "     42        \u001b[36m0.1560\u001b[0m        0.2309        12.2849\n",
      "     43        0.1629        0.2142        12.2942\n",
      "     44        0.2029        0.2052        12.8151\n",
      "     45        0.1729        0.2491        12.3897\n",
      "     46        0.1614        0.2004        12.2917\n",
      "     47        0.1736        0.2137        12.2707\n",
      "     48        0.1873        0.2005        12.2843\n",
      "     49        0.1765        0.2129        12.4847\n",
      "     50        0.1744        0.2224        12.4527\n",
      "     51        0.1922        0.2545        12.4419\n",
      "     52        0.1563        \u001b[32m0.1957\u001b[0m     +  12.4890\n",
      "     53        0.1690        \u001b[32m0.1921\u001b[0m     +  12.5554\n",
      "     54        0.2081        0.2094        12.5248\n",
      "     55        0.1669        0.1992        12.4603\n",
      "     56        \u001b[36m0.1464\u001b[0m        0.2226        12.3888\n",
      "     57        0.1628        0.2235        12.4185\n",
      "     58        0.1743        0.2033        12.3246\n",
      "     59        0.1689        0.2207        12.4308\n",
      "     60        0.1589        0.2375        12.2835\n",
      "     61        \u001b[36m0.1438\u001b[0m        0.2035        12.3301\n",
      "     62        0.1498        0.2096        12.3829\n",
      "     63        0.1594        0.1985        12.3442\n",
      "     64        0.1724        0.2302        12.3709\n",
      "     65        0.1640        0.2111        12.3242\n",
      "     66        0.1569        0.2343        12.3610\n",
      "     67        0.1454        0.2233        12.3291\n",
      "     68        0.1700        0.2005        12.2801\n",
      "     69        0.1572        0.2013        12.2883\n",
      "     70        0.1524        0.2186        12.3282\n",
      "     71        0.1577        0.2153        12.3816\n",
      "     72        0.1606        0.2082        12.3221\n",
      "     73        0.1571        0.2046        12.2917\n",
      "     74        0.1650        0.1977        12.2850\n",
      "     75        0.1602        0.1941        12.3235\n",
      "     76        \u001b[36m0.1387\u001b[0m        0.2224        12.3897\n",
      "     77        0.1513        \u001b[32m0.1909\u001b[0m     +  12.3378\n",
      "     78        0.1447        0.1979        12.3077\n",
      "     79        0.1553        0.1963        12.3224\n",
      "     80        0.1462        0.2471        12.3958\n",
      "     81        0.1396        0.2277        12.3636\n",
      "     82        0.1496        0.2265        12.3578\n",
      "     83        0.1450        0.2089        12.3090\n",
      "     84        \u001b[36m0.1278\u001b[0m        0.1988        12.2957\n",
      "     85        0.1372        0.1977        12.3104\n",
      "     86        0.1388        0.2112        12.3664\n",
      "     87        0.1401        0.2337        12.3675\n",
      "     88        0.1482        0.2419        12.2976\n",
      "     89        0.1431        0.2019        12.2813\n",
      "     90        0.1290        0.1978        12.2970\n",
      "     91        0.1338        0.2042        12.3616\n",
      "     92        0.1325        0.2287        12.3814\n",
      "     93        \u001b[36m0.1254\u001b[0m        0.1977        12.2975\n",
      "     94        \u001b[36m0.1031\u001b[0m        0.2064        12.2891\n",
      "     95        0.1132        0.1962        12.2907\n",
      "     96        0.1197        0.2160        12.3635\n",
      "     97        0.1302        0.2071        12.3915\n",
      "     98        0.1427        0.2052        12.2856\n",
      "     99        0.1350        0.2059        12.2860\n",
      "    100        0.1442        0.2087        12.2995\n",
      "    101        0.1426        0.2009        12.3509\n",
      "    102        0.1371        0.1968        12.4031\n",
      "    103        \u001b[36m0.0955\u001b[0m        0.1949        12.2881\n",
      "    104        0.1013        \u001b[32m0.1906\u001b[0m     +  12.2749\n",
      "    105        0.1108        0.1953        12.3069\n",
      "    106        0.1052        0.1951        12.3455\n",
      "    107        0.1083        0.1952        12.3763\n",
      "    108        0.1082        0.1932        12.2689\n",
      "    109        0.1053        0.1959        12.2269\n",
      "    110        \u001b[36m0.0916\u001b[0m        0.1949        12.2365\n",
      "    111        0.1239        0.1944        12.2764\n",
      "    112        0.0966        0.1952        12.3375\n",
      "    113        0.0985        0.1961        12.4251\n",
      "    114        0.1049        0.1956        12.2326\n",
      "    115        0.0948        0.1975        12.2344\n",
      "    116        0.1018        0.1971        12.2507\n",
      "    117        0.1033        0.1975        12.3370\n",
      "    118        0.1139        0.1971        12.2599\n",
      "    119        \u001b[36m0.0806\u001b[0m        0.1956        12.2221\n",
      "    120        0.0982        0.2002        12.2296\n",
      "    121        0.1093        0.1995        12.2592\n",
      "    122        0.0872        0.1957        12.3322\n",
      "    123        0.1063        0.2010        12.2608\n",
      "    124        0.1057        0.1972        12.2341\n",
      "    125        0.0967        0.2007        12.2252\n",
      "    126        0.0954        0.1983        12.2615\n",
      "    127        0.1103        0.1987        12.3120\n",
      "    128        \u001b[36m0.0765\u001b[0m        0.1967        12.2682\n",
      "    129        0.0966        0.1983        12.2229\n",
      "    130        0.1052        0.1984        12.2375\n",
      "    131        0.0979        0.2001        12.2667\n"
     ]
    }
   ],
   "source": [
    "net.initialize()\n",
    "net.fit(sdts_train, targets_train)"
   ]
  },
  {
   "cell_type": "markdown",
   "metadata": {},
   "source": [
    "...or load whatever is cached"
   ]
  },
  {
   "cell_type": "code",
   "execution_count": 42,
   "metadata": {},
   "outputs": [
    {
     "name": "stdout",
     "output_type": "stream",
     "text": [
      "Re-initializing module because the following parameters were re-set: atom_fea_len, classification, h_fea_len, n_conv, n_h, nbr_fea_len, orig_atom_fea_len.\n",
      "Re-initializing optimizer.\n"
     ]
    }
   ],
   "source": [
    "net.initialize()\n",
    "net.load_params(f_history='valid_best_history.json',\n",
    "                f_optimizer= 'valid_best_optimizer.pt', \n",
    "                f_params='valid_best_params.pt')"
   ]
  },
  {
   "cell_type": "markdown",
   "metadata": {},
   "source": [
    "# Second CGCNN to Predict Error on Held Out Data"
   ]
  },
  {
   "cell_type": "code",
   "execution_count": null,
   "metadata": {},
   "outputs": [],
   "source": [
    "# Use CGCNN-1 to predict targets for sdts_err\n",
    "# Find errors (difference) with targets_err_true, and define this difference to be targets_err\n",
    "# Then: Train CGCNN on data (sdts_err, targets_err)\n"
   ]
  },
  {
   "cell_type": "code",
   "execution_count": 49,
   "metadata": {},
   "outputs": [],
   "source": [
    "# Imports\n",
    "import numpy as np"
   ]
  },
  {
   "cell_type": "code",
   "execution_count": 43,
   "metadata": {},
   "outputs": [],
   "source": [
    "# Use CGCNN-1 to predict targets for sdts_err\n",
    "targets_err_pred = net.predict(sdts_err).reshape(-1)"
   ]
  },
  {
   "cell_type": "code",
   "execution_count": 88,
   "metadata": {},
   "outputs": [],
   "source": [
    "# Find errors (difference) with targets_err_true, and define this difference to be targets_err\n",
    "targets_err = np.abs(targets_err_pred.flatten() - targets_err_true.flatten()).reshape(-1,1)"
   ]
  },
  {
   "cell_type": "code",
   "execution_count": 92,
   "metadata": {},
   "outputs": [],
   "source": [
    "# Callback to checkpoint parameters every time there is a new best for error-set loss\n",
    "cp = callbacks.Checkpoint(monitor='valid_loss_best', fn_prefix='err_best_') #### TODO: confirm this\n",
    "\n",
    "# Callback to load the checkpoint with the best error-set loss at the end of training\n",
    "class train_end_load_best_err_loss(callbacks.base.Callback):\n",
    "    def on_train_end(self, net, X, y):\n",
    "        net.load_params('err_best_params.pt')\n",
    "load_best_err_loss = train_end_load_best_err_loss()\n",
    "\n",
    "# Callback to set the learning rate dynamically\n",
    "LR_schedule = callbacks.lr_scheduler.LRScheduler('MultiStepLR', milestones=[100], gamma=0.1)\n",
    "\n",
    "net_err = NeuralNetRegressor(\n",
    "    CrystalGraphConvNet,\n",
    "    module__orig_atom_fea_len=orig_atom_fea_len,\n",
    "    module__nbr_fea_len=nbr_fea_len,\n",
    "    batch_size=214,\n",
    "    module__classification=False,\n",
    "    lr=0.0056,\n",
    "    max_epochs=150,\n",
    "    module__atom_fea_len=46,\n",
    "    module__h_fea_len=83,\n",
    "    module__n_conv=8,\n",
    "    module__n_h=4,\n",
    "    optimizer=Adam,\n",
    "    iterator_train__pin_memory=True,\n",
    "    iterator_train__num_workers=0,\n",
    "    iterator_train__collate_fn=collate_pool,\n",
    "    iterator_train__shuffle=True,\n",
    "    iterator_valid__pin_memory=True,\n",
    "    iterator_valid__num_workers=0,\n",
    "    iterator_valid__collate_fn=collate_pool,\n",
    "    iterator_valid__shuffle=False,\n",
    "    device=device,\n",
    "    criterion=torch.nn.L1Loss,\n",
    "    dataset=MergeDataset,\n",
    "    callbacks=[cp, load_best_err_loss, LR_schedule]\n",
    ")"
   ]
  },
  {
   "cell_type": "code",
   "execution_count": 93,
   "metadata": {},
   "outputs": [
    {
     "name": "stdout",
     "output_type": "stream",
     "text": [
      "Re-initializing module because the following parameters were re-set: atom_fea_len, classification, h_fea_len, n_conv, n_h, nbr_fea_len, orig_atom_fea_len.\n",
      "Re-initializing optimizer.\n",
      "  epoch    train_loss    valid_loss    cp     dur\n",
      "-------  ------------  ------------  ----  ------\n",
      "      1        \u001b[36m0.6108\u001b[0m        \u001b[32m0.5682\u001b[0m     +  1.0247\n",
      "      2        \u001b[36m0.1705\u001b[0m        \u001b[32m0.1870\u001b[0m     +  1.0504\n",
      "      3        \u001b[36m0.1396\u001b[0m        \u001b[32m0.0878\u001b[0m     +  0.9928\n",
      "      4        \u001b[36m0.1341\u001b[0m        \u001b[32m0.0712\u001b[0m     +  0.9837\n",
      "      5        \u001b[36m0.1018\u001b[0m        0.0930        0.9818\n",
      "      6        0.1078        0.0790        1.0039\n",
      "      7        \u001b[36m0.0969\u001b[0m        0.0908        0.9894\n",
      "      8        \u001b[36m0.0908\u001b[0m        0.0783        0.9766\n",
      "      9        0.0925        0.0817        0.9730\n",
      "     10        \u001b[36m0.0701\u001b[0m        0.0749        0.9836\n",
      "     11        0.0936        0.0757        0.9737\n",
      "     12        0.0769        0.0713        0.9799\n",
      "     13        \u001b[36m0.0557\u001b[0m        0.0720        0.9805\n",
      "     14        0.0694        0.0726        0.9755\n",
      "     15        0.0886        0.0716        0.9818\n",
      "     16        0.0890        0.0715        0.9826\n",
      "     17        0.0895        0.0763        0.9852\n",
      "     18        0.0685        0.0718        0.9847\n",
      "     19        0.0599        0.0809        0.9898\n",
      "     20        0.0847        0.0713        0.9820\n",
      "     21        0.0876        0.0768        0.9678\n",
      "     22        0.0830        0.0740        0.9807\n",
      "     23        0.0626        0.0757        0.9785\n",
      "     24        0.0820        0.0735        0.9754\n",
      "     25        0.0802        0.0748        0.9866\n",
      "     26        0.0828        0.0868        0.9807\n",
      "     27        0.0974        0.0742        0.9814\n",
      "     28        0.0794        0.0765        0.9908\n",
      "     29        0.0886        0.0745        0.9764\n",
      "     30        0.0755        0.0763        0.9817\n",
      "     31        0.0568        0.0775        0.9811\n",
      "     32        0.0985        0.0882        0.9855\n",
      "     33        0.0911        0.0840        0.9843\n",
      "     34        0.0861        0.0912        0.9784\n",
      "     35        0.0807        0.0734        0.9816\n",
      "     36        0.0562        0.0767        0.9796\n",
      "     37        0.0805        0.0849        0.9808\n",
      "     38        \u001b[36m0.0502\u001b[0m        0.0753        0.9778\n",
      "     39        0.0831        0.0873        0.9834\n",
      "     40        0.0812        0.0808        0.9854\n",
      "     41        0.0822        0.0818        0.9777\n",
      "     42        0.0766        0.0846        0.9696\n",
      "     43        0.0733        0.0761        0.9789\n",
      "     44        0.0817        0.0790        0.9813\n",
      "     45        0.0784        0.0870        0.9805\n",
      "     46        0.0749        0.0802        0.9835\n",
      "     47        0.0754        0.0768        0.9828\n",
      "     48        0.0733        0.0775        0.9826\n",
      "     49        0.0709        0.0847        0.9839\n",
      "     50        0.0760        0.0793        0.9913\n",
      "     51        0.0726        0.0840        0.9801\n",
      "     52        0.0683        0.1026        0.9819\n",
      "     53        0.0705        0.0964        0.9818\n",
      "     54        0.0741        0.0912        0.9788\n",
      "     55        0.0783        0.0801        0.9798\n",
      "     56        0.0581        0.1058        0.9810\n",
      "     57        0.0770        0.0879        0.9806\n",
      "     58        0.0670        0.0755        0.9790\n",
      "     59        0.0723        0.0895        0.9835\n",
      "     60        0.0713        0.0862        0.9805\n",
      "     61        0.0676        0.0819        0.9831\n",
      "     62        0.0743        0.0853        0.9772\n",
      "     63        0.0713        0.0816        0.9818\n",
      "     64        0.0717        0.0870        0.9806\n",
      "     65        0.0656        0.0783        0.9678\n",
      "     66        0.0660        0.0794        1.0242\n",
      "     67        0.0741        0.0809        1.0012\n",
      "     68        0.0775        0.0810        0.9981\n",
      "     69        0.0766        0.0807        0.9960\n",
      "     70        0.0714        0.0762        0.9987\n",
      "     71        0.0661        0.0759        0.9803\n",
      "     72        0.0637        0.0906        0.9956\n",
      "     73        0.0732        0.0887        0.9980\n",
      "     74        0.0682        0.0802        0.9863\n",
      "     75        0.0702        0.0908        0.9986\n",
      "     76        0.0699        0.1028        1.0007\n",
      "     77        0.0782        0.0900        0.9895\n",
      "     78        0.0527        0.0896        0.9957\n",
      "     79        0.0586        0.0963        0.9968\n",
      "     80        0.0627        0.0822        0.9966\n",
      "     81        0.0564        0.0771        0.9930\n",
      "     82        0.0623        0.0778        0.9927\n",
      "     83        0.0593        0.0777        0.9965\n",
      "     84        0.0846        0.0836        0.9909\n",
      "     85        0.0650        0.0892        1.0354\n",
      "     86        0.0641        0.0754        1.0399\n",
      "     87        0.0664        0.0751        1.0106\n",
      "     88        0.0602        0.0791        0.9768\n",
      "     89        0.0634        0.1004        0.9842\n",
      "     90        0.0728        0.0763        0.9808\n",
      "     91        0.0646        0.0871        0.9908\n",
      "     92        0.1051        0.0763        0.9853\n",
      "     93        0.0569        0.0790        0.9677\n",
      "     94        0.0591        0.0893        0.9792\n",
      "     95        0.0612        0.0812        0.9794\n",
      "     96        0.0845        0.0764        0.9783\n",
      "     97        0.0647        0.0909        0.9796\n",
      "     98        0.0842        0.0891        0.9816\n",
      "     99        0.0628        0.0883        0.9799\n",
      "    100        0.0642        0.0839        0.9801\n",
      "    101        0.0603        0.0843        0.9876\n",
      "    102        0.0628        0.0776        0.9809\n",
      "    103        0.0580        0.0772        0.9831\n",
      "    104        0.0536        0.0794        0.9818\n",
      "    105        0.0507        0.0818        1.0053\n",
      "    106        0.0529        0.0840        0.9897\n",
      "    107        0.0504        0.0854        0.9905\n",
      "    108        0.0518        0.0851        0.9919\n",
      "    109        0.0521        0.0841        0.9898\n",
      "    110        0.0510        0.0821        0.9916\n",
      "    111        \u001b[36m0.0496\u001b[0m        0.0805        0.9897\n",
      "    112        0.0515        0.0795        0.9930\n",
      "    113        0.0574        0.0795        0.9893\n",
      "    114        0.0524        0.0811        0.9929\n",
      "    115        0.0541        0.0823        0.9911\n",
      "    116        0.0504        0.0830        0.9728\n",
      "    117        \u001b[36m0.0379\u001b[0m        0.0846        0.9893\n",
      "    118        0.0543        0.0855        0.9892\n",
      "    119        0.0504        0.0854        0.9908\n",
      "    120        0.0520        0.0857        0.9926\n",
      "    121        \u001b[36m0.0273\u001b[0m        0.0848        0.9841\n",
      "    122        0.0480        0.0842        0.9843\n",
      "    123        0.0684        0.0841        0.9884\n",
      "    124        \u001b[36m0.0270\u001b[0m        0.0839        0.9848\n",
      "    125        0.0454        0.0830        0.9851\n",
      "    126        0.0483        0.0822        0.9851\n",
      "    127        0.0489        0.0814        0.9858\n",
      "    128        0.0431        0.0809        0.9905\n",
      "    129        0.0515        0.0816        0.9952\n",
      "    130        0.0547        0.0809        0.9846\n",
      "    131        0.0469        0.0816        0.9861\n",
      "    132        0.0515        0.0826        0.9837\n",
      "    133        0.0370        0.0835        1.0013\n",
      "    134        0.0502        0.0829        0.9936\n",
      "    135        0.0500        0.0824        0.9907\n",
      "    136        0.0483        0.0838        0.9905\n",
      "    137        0.0465        0.0863        0.9909\n",
      "    138        0.0504        0.0854        0.9924\n",
      "    139        0.0468        0.0833        0.9930\n",
      "    140        0.0671        0.0823        0.9936\n",
      "    141        0.0330        0.0821        0.9928\n",
      "    142        0.0469        0.0836        0.9943\n",
      "    143        0.0475        0.0850        0.9920\n",
      "    144        0.0440        0.0859        0.9908\n",
      "    145        0.0436        0.0851        0.9962\n",
      "    146        0.0569        0.0843        0.9925\n",
      "    147        0.0460        0.0830        0.9897\n",
      "    148        0.0463        0.0827        0.9895\n",
      "    149        0.0488        0.0838        0.9895\n",
      "    150        0.0425        0.0857        0.9906\n"
     ]
    },
    {
     "data": {
      "text/plain": [
       "<class 'skorch.regressor.NeuralNetRegressor'>[initialized](\n",
       "  module_=CrystalGraphConvNet(\n",
       "    (embedding): Linear(in_features=98, out_features=46, bias=True)\n",
       "    (convs): ModuleList(\n",
       "      (0): ConvLayer(\n",
       "        (fc_full): Linear(in_features=98, out_features=92, bias=True)\n",
       "        (sigmoid): Sigmoid()\n",
       "        (softplus1): Softplus(beta=1, threshold=20)\n",
       "        (bn1): BatchNorm1d(92, eps=1e-05, momentum=0.1, affine=True, track_running_stats=True)\n",
       "        (bn2): BatchNorm1d(46, eps=1e-05, momentum=0.1, affine=True, track_running_stats=True)\n",
       "        (softplus2): Softplus(beta=1, threshold=20)\n",
       "      )\n",
       "      (1): ConvLayer(\n",
       "        (fc_full): Linear(in_features=98, out_features=92, bias=True)\n",
       "        (sigmoid): Sigmoid()\n",
       "        (softplus1): Softplus(beta=1, threshold=20)\n",
       "        (bn1): BatchNorm1d(92, eps=1e-05, momentum=0.1, affine=True, track_running_stats=True)\n",
       "        (bn2): BatchNorm1d(46, eps=1e-05, momentum=0.1, affine=True, track_running_stats=True)\n",
       "        (softplus2): Softplus(beta=1, threshold=20)\n",
       "      )\n",
       "      (2): ConvLayer(\n",
       "        (fc_full): Linear(in_features=98, out_features=92, bias=True)\n",
       "        (sigmoid): Sigmoid()\n",
       "        (softplus1): Softplus(beta=1, threshold=20)\n",
       "        (bn1): BatchNorm1d(92, eps=1e-05, momentum=0.1, affine=True, track_running_stats=True)\n",
       "        (bn2): BatchNorm1d(46, eps=1e-05, momentum=0.1, affine=True, track_running_stats=True)\n",
       "        (softplus2): Softplus(beta=1, threshold=20)\n",
       "      )\n",
       "      (3): ConvLayer(\n",
       "        (fc_full): Linear(in_features=98, out_features=92, bias=True)\n",
       "        (sigmoid): Sigmoid()\n",
       "        (softplus1): Softplus(beta=1, threshold=20)\n",
       "        (bn1): BatchNorm1d(92, eps=1e-05, momentum=0.1, affine=True, track_running_stats=True)\n",
       "        (bn2): BatchNorm1d(46, eps=1e-05, momentum=0.1, affine=True, track_running_stats=True)\n",
       "        (softplus2): Softplus(beta=1, threshold=20)\n",
       "      )\n",
       "      (4): ConvLayer(\n",
       "        (fc_full): Linear(in_features=98, out_features=92, bias=True)\n",
       "        (sigmoid): Sigmoid()\n",
       "        (softplus1): Softplus(beta=1, threshold=20)\n",
       "        (bn1): BatchNorm1d(92, eps=1e-05, momentum=0.1, affine=True, track_running_stats=True)\n",
       "        (bn2): BatchNorm1d(46, eps=1e-05, momentum=0.1, affine=True, track_running_stats=True)\n",
       "        (softplus2): Softplus(beta=1, threshold=20)\n",
       "      )\n",
       "      (5): ConvLayer(\n",
       "        (fc_full): Linear(in_features=98, out_features=92, bias=True)\n",
       "        (sigmoid): Sigmoid()\n",
       "        (softplus1): Softplus(beta=1, threshold=20)\n",
       "        (bn1): BatchNorm1d(92, eps=1e-05, momentum=0.1, affine=True, track_running_stats=True)\n",
       "        (bn2): BatchNorm1d(46, eps=1e-05, momentum=0.1, affine=True, track_running_stats=True)\n",
       "        (softplus2): Softplus(beta=1, threshold=20)\n",
       "      )\n",
       "      (6): ConvLayer(\n",
       "        (fc_full): Linear(in_features=98, out_features=92, bias=True)\n",
       "        (sigmoid): Sigmoid()\n",
       "        (softplus1): Softplus(beta=1, threshold=20)\n",
       "        (bn1): BatchNorm1d(92, eps=1e-05, momentum=0.1, affine=True, track_running_stats=True)\n",
       "        (bn2): BatchNorm1d(46, eps=1e-05, momentum=0.1, affine=True, track_running_stats=True)\n",
       "        (softplus2): Softplus(beta=1, threshold=20)\n",
       "      )\n",
       "      (7): ConvLayer(\n",
       "        (fc_full): Linear(in_features=98, out_features=92, bias=True)\n",
       "        (sigmoid): Sigmoid()\n",
       "        (softplus1): Softplus(beta=1, threshold=20)\n",
       "        (bn1): BatchNorm1d(92, eps=1e-05, momentum=0.1, affine=True, track_running_stats=True)\n",
       "        (bn2): BatchNorm1d(46, eps=1e-05, momentum=0.1, affine=True, track_running_stats=True)\n",
       "        (softplus2): Softplus(beta=1, threshold=20)\n",
       "      )\n",
       "    )\n",
       "    (conv_to_fc): Linear(in_features=46, out_features=83, bias=True)\n",
       "    (conv_to_fc_softplus): Softplus(beta=1, threshold=20)\n",
       "    (fcs): ModuleList(\n",
       "      (0): Linear(in_features=83, out_features=83, bias=True)\n",
       "      (1): Linear(in_features=83, out_features=83, bias=True)\n",
       "      (2): Linear(in_features=83, out_features=83, bias=True)\n",
       "    )\n",
       "    (softpluses): ModuleList(\n",
       "      (0): Softplus(beta=1, threshold=20)\n",
       "      (1): Softplus(beta=1, threshold=20)\n",
       "      (2): Softplus(beta=1, threshold=20)\n",
       "    )\n",
       "    (fc_out): Linear(in_features=83, out_features=1, bias=True)\n",
       "  ),\n",
       ")"
      ]
     },
     "execution_count": 93,
     "metadata": {},
     "output_type": "execute_result"
    }
   ],
   "source": [
    "# Train CGCNN on data (sdts_err, targets_err)\n",
    "net_err.initialize()\n",
    "net_err.fit(sdts_err, targets_err)"
   ]
  },
  {
   "cell_type": "code",
   "execution_count": 94,
   "metadata": {},
   "outputs": [
    {
     "name": "stdout",
     "output_type": "stream",
     "text": [
      "Re-initializing module because the following parameters were re-set: atom_fea_len, classification, h_fea_len, n_conv, n_h, nbr_fea_len, orig_atom_fea_len.\n",
      "Re-initializing optimizer.\n"
     ]
    }
   ],
   "source": [
    "net_err.initialize()\n",
    "net_err.load_params(f_history='err_best_history.json',\n",
    "                f_optimizer= 'err_best_optimizer.pt', \n",
    "                f_params='err_best_params.pt')"
   ]
  },
  {
   "cell_type": "code",
   "execution_count": 95,
   "metadata": {},
   "outputs": [],
   "source": [
    "%matplotlib inline\n",
    "import numpy as np\n",
    "from sklearn.metrics import mean_absolute_error, mean_squared_error, r2_score\n",
    "import seaborn as sns\n",
    "from collections import defaultdict\n",
    "from matplotlib import pyplot as plt\n",
    "from IPython.display import clear_output"
   ]
  },
  {
   "cell_type": "code",
   "execution_count": 52,
   "metadata": {},
   "outputs": [],
   "source": [
    "## Get CGCNN predictions on sdts_val, and sdts_train\n",
    "# targets_pred = net.predict(sdts_val).reshape(-1)\n",
    "# targets_pred_train = net.predict(sdts_train).reshape(-1)"
   ]
  },
  {
   "cell_type": "code",
   "execution_count": 96,
   "metadata": {},
   "outputs": [
    {
     "name": "stdout",
     "output_type": "stream",
     "text": [
      "MAE = 0.18 eV\n",
      "RMSE = 0.36 eV\n",
      "R^2 = 0.72\n"
     ]
    },
    {
     "data": {
      "image/png": "[encoded data removed]",
      "text/plain": [
       "<Figure size 432x432 with 3 Axes>"
      ]
     },
     "metadata": {
      "needs_background": "light"
     },
     "output_type": "display_data"
    }
   ],
   "source": [
    "# Calculate the error metrics\n",
    "targets_pred = net.predict(sdts_val).reshape(-1)\n",
    "mae = mean_absolute_error(targets_val, targets_pred)\n",
    "rmse = np.sqrt(mean_squared_error(targets_val, targets_pred))\n",
    "r2 = r2_score(targets_val, targets_pred)\n",
    "\n",
    "# Report\n",
    "print('MAE = %.2f eV' % mae)\n",
    "print('RMSE = %.2f eV' % rmse)\n",
    "print('R^2 = %.2f' % r2)\n",
    "\n",
    "# Plot\n",
    "lims = [-4, 2]\n",
    "grid = sns.jointplot(targets_val.reshape(-1), targets_pred,\n",
    "                     kind='hex',\n",
    "                     bins='log',\n",
    "                     extent=lims+lims)\n",
    "_ = grid.ax_joint.set_xlim(lims)\n",
    "_ = grid.ax_joint.set_ylim(lims)\n",
    "_ = grid.ax_joint.plot(lims, lims, '--')\n",
    "_ = grid.ax_joint.set_xlabel('DFT $\\Delta$E [eV]')\n",
    "_ = grid.ax_joint.set_ylabel('CGCNN $\\Delta$E [eV]')"
   ]
  },
  {
   "cell_type": "code",
   "execution_count": 99,
   "metadata": {},
   "outputs": [],
   "source": [
    "# Predict errors on sdts_val (validation set)\n",
    "targets_pred_err = net_err.predict(sdts_val).reshape(-1)"
   ]
  },
  {
   "cell_type": "code",
   "execution_count": 108,
   "metadata": {},
   "outputs": [
    {
     "data": {
      "application/vnd.jupyter.widget-view+json": {
       "model_id": "3ee83be42bd04b5c960678376ce73515",
       "version_major": 2,
       "version_minor": 0
      },
      "text/plain": [
       "HBox(children=(IntProgress(value=0, description='Calibration', max=20, style=ProgressStyle(description_width='…"
      ]
     },
     "metadata": {},
     "output_type": "display_data"
    },
    {
     "name": "stdout",
     "output_type": "stream",
     "text": [
      "\n"
     ]
    }
   ],
   "source": [
    "# Calibration\n",
    "\n",
    "import numpy as np\n",
    "from scipy import stats\n",
    "from tqdm import tqdm_notebook\n",
    "\n",
    "\n",
    "residuals = targets_pred.flatten() - targets_val.flatten()\n",
    "standard_errors = targets_pred_err\n",
    "\n",
    "def calculate_density(percentile):\n",
    "    num_within_quantile = 0\n",
    "    for se, resid in zip(standard_errors, residuals):\n",
    "        norm = stats.norm(loc=0, scale=se)\n",
    "        lower_bound = norm.ppf(0.5-percentile/2)\n",
    "        upper_bound = norm.ppf(0.5+percentile/2)\n",
    "        if lower_bound <= resid <= upper_bound:\n",
    "            num_within_quantile += 1\n",
    "    density = num_within_quantile / len(residuals)\n",
    "    return density\n",
    "\n",
    "predicted_pi = np.linspace(0, 1, 20)\n",
    "observed_pi = [calculate_density(quantile)\n",
    "               for quantile in tqdm_notebook(predicted_pi, desc='Calibration')]"
   ]
  },
  {
   "cell_type": "code",
   "execution_count": 109,
   "metadata": {},
   "outputs": [
    {
     "name": "stdout",
     "output_type": "stream",
     "text": [
      "Calibration factor = -0.22\n",
      "Sharpness = 0.05 eV\n"
     ]
    },
    {
     "data": {
      "image/png": "[encoded data removed]",
      "text/plain": [
       "<Figure size 288x288 with 1 Axes>"
      ]
     },
     "metadata": {
      "needs_background": "light"
     },
     "output_type": "display_data"
    }
   ],
   "source": [
    "# Plotting Calibration\n",
    "\n",
    "%matplotlib inline\n",
    "import numpy as np\n",
    "from scipy import integrate\n",
    "from matplotlib import pyplot as plt\n",
    "import seaborn as sns\n",
    "\n",
    "\n",
    "# Plot the calibration curve\n",
    "fig = plt.figure(figsize=(4, 4))\n",
    "ax_ideal = sns.lineplot([0, 1], [0, 1], label='ideal')\n",
    "_ = ax_ideal.lines[0].set_linestyle('--')\n",
    "ax_gp = sns.lineplot(predicted_pi, observed_pi, label='delta-cgcnn-mean')\n",
    "_ = ax_gp.set_xlabel('Expected prediction interval')\n",
    "_ = ax_gp.set_ylabel('Observed prediction interval')\n",
    "_ = ax_gp.set_xlim([0, 1])\n",
    "_ = ax_gp.set_ylim([0, 1])\n",
    "\n",
    "# Report the calibration factor\n",
    "actual_calibration_area = integrate.trapz(y=observed_pi, x=predicted_pi)\n",
    "ideal_calibration_area = integrate.trapz(y=predicted_pi, x=predicted_pi)\n",
    "calibration_factor = actual_calibration_area - ideal_calibration_area\n",
    "print('Calibration factor = %.2f' % calibration_factor)\n",
    "\n",
    "# Report sharpness\n",
    "sharpness = np.sqrt(np.mean(standard_errors**2))\n",
    "print('Sharpness = %.2f eV' % sharpness)"
   ]
  }
 ],
 "metadata": {
  "kernelspec": {
   "display_name": "Python 3",
   "language": "python",
   "name": "python3"
  },
  "language_info": {
   "codemirror_mode": {
    "name": "ipython",
    "version": 3
   },
   "file_extension": ".py",
   "mimetype": "text/x-python",
   "name": "python",
   "nbconvert_exporter": "python",
   "pygments_lexer": "ipython3",
   "version": "3.6.9"
  }
 },
 "nbformat": 4,
 "nbformat_minor": 4
}
